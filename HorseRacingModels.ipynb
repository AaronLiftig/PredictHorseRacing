{
 "cells": [
  {
   "cell_type": "markdown",
   "metadata": {},
   "source": [
    "# Horse Racing Dataset Models"
   ]
  },
  {
   "cell_type": "code",
   "execution_count": 1,
   "metadata": {},
   "outputs": [
    {
     "name": "stdout",
     "output_type": "stream",
     "text": [
      "1.4.2\n"
     ]
    }
   ],
   "source": [
    "import pandas as pd\n",
    "import numpy as np\n",
    "import random as rand\n",
    "\n",
    "#Supresses scientific notation\n",
    "pd.set_option('display.float_format', lambda x: '%.2f' % x)\n",
    "\n",
    "import warnings\n",
    "warnings.filterwarnings('ignore')\n",
    "\n",
    "print(pd.__version__)"
   ]
  },
  {
   "cell_type": "code",
   "execution_count": 2,
   "metadata": {},
   "outputs": [
    {
     "data": {
      "text/html": [
       "<div>\n",
       "<style scoped>\n",
       "    .dataframe tbody tr th:only-of-type {\n",
       "        vertical-align: middle;\n",
       "    }\n",
       "\n",
       "    .dataframe tbody tr th {\n",
       "        vertical-align: top;\n",
       "    }\n",
       "\n",
       "    .dataframe thead th {\n",
       "        text-align: right;\n",
       "    }\n",
       "</style>\n",
       "<table border=\"1\" class=\"dataframe\">\n",
       "  <thead>\n",
       "    <tr style=\"text-align: right;\">\n",
       "      <th></th>\n",
       "      <th>date</th>\n",
       "      <th>venue_name</th>\n",
       "      <th>race_number</th>\n",
       "      <th>market_name</th>\n",
       "      <th>previous_margin</th>\n",
       "      <th>position_again</th>\n",
       "      <th>bf_odds</th>\n",
       "      <th>bf_odds_two_mins_out</th>\n",
       "      <th>vic_tote</th>\n",
       "      <th>vic_tote_two_mins_out</th>\n",
       "      <th>...</th>\n",
       "      <th>track_win_percent_norm</th>\n",
       "      <th>track_place_percent_norm</th>\n",
       "      <th>distance_win_percent_norm</th>\n",
       "      <th>distance_place_percent_norm</th>\n",
       "      <th>condition_win_percent_norm</th>\n",
       "      <th>condition_starts_norm</th>\n",
       "      <th>condition_place_percent_norm</th>\n",
       "      <th>prize_money_per_start_norm</th>\n",
       "      <th>bf_odds_place</th>\n",
       "      <th>target</th>\n",
       "    </tr>\n",
       "  </thead>\n",
       "  <tbody>\n",
       "    <tr>\n",
       "      <th>0</th>\n",
       "      <td>2016-06-27</td>\n",
       "      <td>Echuca</td>\n",
       "      <td>3</td>\n",
       "      <td>R3 1200m Mdn</td>\n",
       "      <td>6.80</td>\n",
       "      <td>1.00</td>\n",
       "      <td>2.88</td>\n",
       "      <td>3.00</td>\n",
       "      <td>2.30</td>\n",
       "      <td>3.50</td>\n",
       "      <td>...</td>\n",
       "      <td>NaN</td>\n",
       "      <td>NaN</td>\n",
       "      <td>NaN</td>\n",
       "      <td>1.00</td>\n",
       "      <td>NaN</td>\n",
       "      <td>0.00</td>\n",
       "      <td>NaN</td>\n",
       "      <td>0.20</td>\n",
       "      <td>1.63</td>\n",
       "      <td>2.88</td>\n",
       "    </tr>\n",
       "    <tr>\n",
       "      <th>1</th>\n",
       "      <td>2016-06-27</td>\n",
       "      <td>Echuca</td>\n",
       "      <td>3</td>\n",
       "      <td>R3 1200m Mdn</td>\n",
       "      <td>20.80</td>\n",
       "      <td>2.00</td>\n",
       "      <td>15.00</td>\n",
       "      <td>18.00</td>\n",
       "      <td>11.20</td>\n",
       "      <td>11.70</td>\n",
       "      <td>...</td>\n",
       "      <td>NaN</td>\n",
       "      <td>NaN</td>\n",
       "      <td>NaN</td>\n",
       "      <td>1.00</td>\n",
       "      <td>NaN</td>\n",
       "      <td>0.33</td>\n",
       "      <td>NaN</td>\n",
       "      <td>0.47</td>\n",
       "      <td>4.20</td>\n",
       "      <td>4.20</td>\n",
       "    </tr>\n",
       "    <tr>\n",
       "      <th>2</th>\n",
       "      <td>2016-06-27</td>\n",
       "      <td>Echuca</td>\n",
       "      <td>3</td>\n",
       "      <td>R3 1200m Mdn</td>\n",
       "      <td>NaN</td>\n",
       "      <td>3.00</td>\n",
       "      <td>95.00</td>\n",
       "      <td>100.00</td>\n",
       "      <td>46.40</td>\n",
       "      <td>37.10</td>\n",
       "      <td>...</td>\n",
       "      <td>NaN</td>\n",
       "      <td>NaN</td>\n",
       "      <td>NaN</td>\n",
       "      <td>0.00</td>\n",
       "      <td>NaN</td>\n",
       "      <td>1.00</td>\n",
       "      <td>NaN</td>\n",
       "      <td>0.29</td>\n",
       "      <td>21.20</td>\n",
       "      <td>21.20</td>\n",
       "    </tr>\n",
       "    <tr>\n",
       "      <th>3</th>\n",
       "      <td>2016-06-27</td>\n",
       "      <td>Echuca</td>\n",
       "      <td>3</td>\n",
       "      <td>R3 1200m Mdn</td>\n",
       "      <td>4.00</td>\n",
       "      <td>NaN</td>\n",
       "      <td>20.00</td>\n",
       "      <td>17.00</td>\n",
       "      <td>13.20</td>\n",
       "      <td>14.20</td>\n",
       "      <td>...</td>\n",
       "      <td>NaN</td>\n",
       "      <td>NaN</td>\n",
       "      <td>NaN</td>\n",
       "      <td>0.00</td>\n",
       "      <td>NaN</td>\n",
       "      <td>0.00</td>\n",
       "      <td>NaN</td>\n",
       "      <td>0.11</td>\n",
       "      <td>5.27</td>\n",
       "      <td>0.00</td>\n",
       "    </tr>\n",
       "    <tr>\n",
       "      <th>4</th>\n",
       "      <td>2016-06-27</td>\n",
       "      <td>Echuca</td>\n",
       "      <td>3</td>\n",
       "      <td>R3 1200m Mdn</td>\n",
       "      <td>NaN</td>\n",
       "      <td>NaN</td>\n",
       "      <td>2.74</td>\n",
       "      <td>2.68</td>\n",
       "      <td>2.60</td>\n",
       "      <td>3.20</td>\n",
       "      <td>...</td>\n",
       "      <td>NaN</td>\n",
       "      <td>NaN</td>\n",
       "      <td>NaN</td>\n",
       "      <td>0.00</td>\n",
       "      <td>NaN</td>\n",
       "      <td>0.00</td>\n",
       "      <td>NaN</td>\n",
       "      <td>0.08</td>\n",
       "      <td>1.60</td>\n",
       "      <td>0.00</td>\n",
       "    </tr>\n",
       "  </tbody>\n",
       "</table>\n",
       "<p>5 rows × 194 columns</p>\n",
       "</div>"
      ],
      "text/plain": [
       "         date venue_name  race_number   market_name  previous_margin  \\\n",
       "0  2016-06-27     Echuca            3  R3 1200m Mdn             6.80   \n",
       "1  2016-06-27     Echuca            3  R3 1200m Mdn            20.80   \n",
       "2  2016-06-27     Echuca            3  R3 1200m Mdn              NaN   \n",
       "3  2016-06-27     Echuca            3  R3 1200m Mdn             4.00   \n",
       "4  2016-06-27     Echuca            3  R3 1200m Mdn              NaN   \n",
       "\n",
       "   position_again  bf_odds  bf_odds_two_mins_out  vic_tote  \\\n",
       "0            1.00     2.88                  3.00      2.30   \n",
       "1            2.00    15.00                 18.00     11.20   \n",
       "2            3.00    95.00                100.00     46.40   \n",
       "3             NaN    20.00                 17.00     13.20   \n",
       "4             NaN     2.74                  2.68      2.60   \n",
       "\n",
       "   vic_tote_two_mins_out  ...  track_win_percent_norm  \\\n",
       "0                   3.50  ...                     NaN   \n",
       "1                  11.70  ...                     NaN   \n",
       "2                  37.10  ...                     NaN   \n",
       "3                  14.20  ...                     NaN   \n",
       "4                   3.20  ...                     NaN   \n",
       "\n",
       "   track_place_percent_norm  distance_win_percent_norm  \\\n",
       "0                       NaN                        NaN   \n",
       "1                       NaN                        NaN   \n",
       "2                       NaN                        NaN   \n",
       "3                       NaN                        NaN   \n",
       "4                       NaN                        NaN   \n",
       "\n",
       "   distance_place_percent_norm  condition_win_percent_norm  \\\n",
       "0                         1.00                         NaN   \n",
       "1                         1.00                         NaN   \n",
       "2                         0.00                         NaN   \n",
       "3                         0.00                         NaN   \n",
       "4                         0.00                         NaN   \n",
       "\n",
       "   condition_starts_norm  condition_place_percent_norm  \\\n",
       "0                   0.00                           NaN   \n",
       "1                   0.33                           NaN   \n",
       "2                   1.00                           NaN   \n",
       "3                   0.00                           NaN   \n",
       "4                   0.00                           NaN   \n",
       "\n",
       "  prize_money_per_start_norm bf_odds_place target  \n",
       "0                       0.20          1.63   2.88  \n",
       "1                       0.47          4.20   4.20  \n",
       "2                       0.29         21.20  21.20  \n",
       "3                       0.11          5.27   0.00  \n",
       "4                       0.08          1.60   0.00  \n",
       "\n",
       "[5 rows x 194 columns]"
      ]
     },
     "execution_count": 2,
     "metadata": {},
     "output_type": "execute_result"
    }
   ],
   "source": [
    "# Requires CleanedHorses.csv, which was created in the HorseRacingDataCleaning notebook\n",
    "df_cleaned = pd.read_csv('CleanedHorses.csv',\n",
    "                         skipinitialspace=True, \n",
    "                         low_memory=False)\n",
    "\n",
    "df_cleaned.head()"
   ]
  },
  {
   "cell_type": "code",
   "execution_count": 3,
   "metadata": {},
   "outputs": [],
   "source": [
    "df_cleaned.drop('position_again', axis=1, inplace=True)\n",
    "\n",
    "# Eliminating columns that cannot be easily converted into dummy variables\n",
    "df_cleaned.drop(['name', 'runner_name_uuid', 'sire', 'dam', 'jockey', 'trainer'], axis=1, inplace=True)"
   ]
  },
  {
   "cell_type": "code",
   "execution_count": 4,
   "metadata": {},
   "outputs": [
    {
     "data": {
      "text/plain": [
       "penalty_norm               238331.00\n",
       "runs_since_spell_norm      238331.00\n",
       "firm_starts_norm           128042.00\n",
       "firm_wins_norm             198389.00\n",
       "firm_places_norm           176606.00\n",
       "heavy_wins_norm            128625.00\n",
       "class_same_wins_norm       120453.00\n",
       "class_stronger_wins_norm   134189.00\n",
       "track_distance_wins_norm   128373.00\n",
       "distance_norm              238331.00\n",
       "track_win_percent_norm     146614.00\n",
       "track_place_percent_norm   122103.00\n",
       "dtype: float64"
      ]
     },
     "execution_count": 4,
     "metadata": {},
     "output_type": "execute_result"
    }
   ],
   "source": [
    "df_cleaned.isna().sum().where(lambda x: x>df_cleaned.shape[0]*.5).dropna()"
   ]
  },
  {
   "cell_type": "code",
   "execution_count": 5,
   "metadata": {},
   "outputs": [],
   "source": [
    "df_cleaned.drop(['penalty_norm', 'runs_since_spell_norm', 'distance_norm'], axis=1, inplace=True)"
   ]
  },
  {
   "cell_type": "markdown",
   "metadata": {},
   "source": [
    "### Creating dummy variables:"
   ]
  },
  {
   "cell_type": "code",
   "execution_count": 6,
   "metadata": {},
   "outputs": [],
   "source": [
    "df_cleaned.set_index(['date','venue_name','race_number','market_name'], inplace=True)\n",
    "df_cleaned.sort_index(level=['date','venue_name','race_number'],inplace=True)"
   ]
  },
  {
   "cell_type": "code",
   "execution_count": 7,
   "metadata": {},
   "outputs": [],
   "source": [
    "df_cleaned['uniq_idx'] = range(len(df_cleaned))\n",
    "df_cleaned.set_index('uniq_idx', append=True, inplace=True)"
   ]
  },
  {
   "cell_type": "code",
   "execution_count": 8,
   "metadata": {},
   "outputs": [],
   "source": [
    "categorical_list = list(df_cleaned.select_dtypes('object').columns)"
   ]
  },
  {
   "cell_type": "code",
   "execution_count": 9,
   "metadata": {},
   "outputs": [],
   "source": [
    "df_cleaned = pd.get_dummies(df_cleaned, columns=categorical_list, dummy_na=True)"
   ]
  },
  {
   "cell_type": "markdown",
   "metadata": {},
   "source": [
    "### Replacing NaNs:"
   ]
  },
  {
   "cell_type": "code",
   "execution_count": 10,
   "metadata": {},
   "outputs": [],
   "source": [
    "numerical_list = list(df_cleaned.select_dtypes('number').columns)"
   ]
  },
  {
   "cell_type": "code",
   "execution_count": 11,
   "metadata": {},
   "outputs": [],
   "source": [
    "for col in numerical_list:\n",
    "    if df_cleaned[col].isna().sum() != 0:\n",
    "        df_cleaned[f'{col}_nan'] = np.where(df_cleaned[col].isna(), 1, 0)"
   ]
  },
  {
   "cell_type": "code",
   "execution_count": 12,
   "metadata": {},
   "outputs": [],
   "source": [
    "df_cleaned.fillna(0, inplace=True)"
   ]
  },
  {
   "cell_type": "markdown",
   "metadata": {},
   "source": [
    "### Creating a Train-Test Split:"
   ]
  },
  {
   "cell_type": "code",
   "execution_count": 13,
   "metadata": {},
   "outputs": [],
   "source": [
    "from math import floor"
   ]
  },
  {
   "cell_type": "code",
   "execution_count": 14,
   "metadata": {},
   "outputs": [],
   "source": [
    "df_grouped = df_cleaned.groupby(['date','venue_name','race_number','market_name'])\n",
    "\n",
    "df_grouped_list = [df_grouped.get_group(x) for x in df_grouped.groups]\n",
    "len_sgl = len(df_grouped_list)"
   ]
  },
  {
   "cell_type": "code",
   "execution_count": 15,
   "metadata": {},
   "outputs": [],
   "source": [
    "df_cleaned = df_cleaned.reset_index(level=list(range(4)), drop=True)"
   ]
  },
  {
   "cell_type": "code",
   "execution_count": 16,
   "metadata": {},
   "outputs": [],
   "source": [
    "train_grouped = df_grouped_list[:floor(.9*len_sgl)]\n",
    "test_grouped = df_grouped_list[floor(.9*len_sgl):]"
   ]
  },
  {
   "cell_type": "code",
   "execution_count": 17,
   "metadata": {},
   "outputs": [],
   "source": [
    "train_indices = [int(idx[-1]) for group in train_grouped for idx in group.index]\n",
    "test_indices = [int(idx[-1]) for group in test_grouped for idx in group.index]"
   ]
  },
  {
   "cell_type": "code",
   "execution_count": 18,
   "metadata": {},
   "outputs": [],
   "source": [
    "train = df_cleaned.loc[train_indices]\n",
    "test = df_cleaned.loc[test_indices]"
   ]
  },
  {
   "cell_type": "markdown",
   "metadata": {},
   "source": [
    "### Oversampling:"
   ]
  },
  {
   "cell_type": "code",
   "execution_count": 19,
   "metadata": {},
   "outputs": [
    {
     "name": "stdout",
     "output_type": "stream",
     "text": [
      "Non-Winning/Non-Placing: 153399\n",
      "Winning/Placing: 61735\n"
     ]
    }
   ],
   "source": [
    "zero_count = train['target'][train['target'] == 0].count()\n",
    "non_zero_count = train['target'][train['target'] != 0].count()\n",
    "\n",
    "print(\"Non-Winning/Non-Placing:\", zero_count)\n",
    "print(\"Winning/Placing:\", non_zero_count)"
   ]
  },
  {
   "cell_type": "code",
   "execution_count": 20,
   "metadata": {},
   "outputs": [],
   "source": [
    "non_zero_idx_list = train['target'][train['target'] != 0].index\n",
    "idx_list = []\n",
    "\n",
    "for i in range(zero_count - non_zero_count):\n",
    "    idx_list.append(rand.choice(non_zero_idx_list))"
   ]
  },
  {
   "cell_type": "code",
   "execution_count": 21,
   "metadata": {},
   "outputs": [
    {
     "data": {
      "text/plain": [
       "(306798, 459)"
      ]
     },
     "execution_count": 21,
     "metadata": {},
     "output_type": "execute_result"
    }
   ],
   "source": [
    "df_cleaned_new = pd.concat([train, train.loc[idx_list]])\n",
    "df_cleaned_new.shape"
   ]
  },
  {
   "cell_type": "code",
   "execution_count": 22,
   "metadata": {},
   "outputs": [
    {
     "name": "stdout",
     "output_type": "stream",
     "text": [
      "Non-Winning/Non-Placing: 153399\n",
      "Winning/Placing: 153399\n"
     ]
    }
   ],
   "source": [
    "zero_count_new = df_cleaned_new['target'][df_cleaned_new['target'] == 0].count()\n",
    "non_zero_count_new = df_cleaned_new['target'][df_cleaned_new['target'] != 0].count()\n",
    "\n",
    "print(\"Non-Winning/Non-Placing:\", zero_count_new)\n",
    "print(\"Winning/Placing:\", non_zero_count_new)"
   ]
  },
  {
   "cell_type": "code",
   "execution_count": 23,
   "metadata": {},
   "outputs": [],
   "source": [
    "df_cleaned_new.reset_index(drop=True, inplace=True)"
   ]
  },
  {
   "cell_type": "code",
   "execution_count": 24,
   "metadata": {},
   "outputs": [
    {
     "data": {
      "text/html": [
       "<div>\n",
       "<style scoped>\n",
       "    .dataframe tbody tr th:only-of-type {\n",
       "        vertical-align: middle;\n",
       "    }\n",
       "\n",
       "    .dataframe tbody tr th {\n",
       "        vertical-align: top;\n",
       "    }\n",
       "\n",
       "    .dataframe thead th {\n",
       "        text-align: right;\n",
       "    }\n",
       "</style>\n",
       "<table border=\"1\" class=\"dataframe\">\n",
       "  <thead>\n",
       "    <tr style=\"text-align: right;\">\n",
       "      <th></th>\n",
       "      <th>previous_margin</th>\n",
       "      <th>bf_odds</th>\n",
       "      <th>bf_odds_two_mins_out</th>\n",
       "      <th>vic_tote</th>\n",
       "      <th>vic_tote_two_mins_out</th>\n",
       "      <th>nsw_tote</th>\n",
       "      <th>nsw_tote_two_mins_out</th>\n",
       "      <th>nsw_odds</th>\n",
       "      <th>betfair_slope</th>\n",
       "      <th>vic_tote_slope</th>\n",
       "      <th>...</th>\n",
       "      <th>overall_win_percent_norm_nan</th>\n",
       "      <th>overall_place_percent_norm_nan</th>\n",
       "      <th>track_win_percent_norm_nan</th>\n",
       "      <th>track_place_percent_norm_nan</th>\n",
       "      <th>distance_win_percent_norm_nan</th>\n",
       "      <th>distance_place_percent_norm_nan</th>\n",
       "      <th>condition_win_percent_norm_nan</th>\n",
       "      <th>condition_starts_norm_nan</th>\n",
       "      <th>condition_place_percent_norm_nan</th>\n",
       "      <th>prize_money_per_start_norm_nan</th>\n",
       "    </tr>\n",
       "  </thead>\n",
       "  <tbody>\n",
       "    <tr>\n",
       "      <th>0</th>\n",
       "      <td>6.80</td>\n",
       "      <td>2.88</td>\n",
       "      <td>3.00</td>\n",
       "      <td>2.30</td>\n",
       "      <td>3.50</td>\n",
       "      <td>2.40</td>\n",
       "      <td>3.30</td>\n",
       "      <td>2.60</td>\n",
       "      <td>-0.00</td>\n",
       "      <td>-0.00</td>\n",
       "      <td>...</td>\n",
       "      <td>1</td>\n",
       "      <td>0</td>\n",
       "      <td>1</td>\n",
       "      <td>1</td>\n",
       "      <td>1</td>\n",
       "      <td>0</td>\n",
       "      <td>1</td>\n",
       "      <td>0</td>\n",
       "      <td>1</td>\n",
       "      <td>0</td>\n",
       "    </tr>\n",
       "    <tr>\n",
       "      <th>1</th>\n",
       "      <td>20.80</td>\n",
       "      <td>15.00</td>\n",
       "      <td>18.00</td>\n",
       "      <td>11.20</td>\n",
       "      <td>11.70</td>\n",
       "      <td>12.00</td>\n",
       "      <td>12.30</td>\n",
       "      <td>11.00</td>\n",
       "      <td>-0.00</td>\n",
       "      <td>-0.00</td>\n",
       "      <td>...</td>\n",
       "      <td>1</td>\n",
       "      <td>0</td>\n",
       "      <td>1</td>\n",
       "      <td>1</td>\n",
       "      <td>1</td>\n",
       "      <td>0</td>\n",
       "      <td>1</td>\n",
       "      <td>0</td>\n",
       "      <td>1</td>\n",
       "      <td>0</td>\n",
       "    </tr>\n",
       "    <tr>\n",
       "      <th>2</th>\n",
       "      <td>0.00</td>\n",
       "      <td>95.00</td>\n",
       "      <td>100.00</td>\n",
       "      <td>46.40</td>\n",
       "      <td>37.10</td>\n",
       "      <td>40.40</td>\n",
       "      <td>35.00</td>\n",
       "      <td>51.00</td>\n",
       "      <td>0.21</td>\n",
       "      <td>0.04</td>\n",
       "      <td>...</td>\n",
       "      <td>1</td>\n",
       "      <td>0</td>\n",
       "      <td>1</td>\n",
       "      <td>1</td>\n",
       "      <td>1</td>\n",
       "      <td>0</td>\n",
       "      <td>1</td>\n",
       "      <td>0</td>\n",
       "      <td>1</td>\n",
       "      <td>0</td>\n",
       "    </tr>\n",
       "    <tr>\n",
       "      <th>3</th>\n",
       "      <td>4.00</td>\n",
       "      <td>20.00</td>\n",
       "      <td>17.00</td>\n",
       "      <td>13.20</td>\n",
       "      <td>14.20</td>\n",
       "      <td>11.80</td>\n",
       "      <td>13.60</td>\n",
       "      <td>12.00</td>\n",
       "      <td>0.01</td>\n",
       "      <td>-0.01</td>\n",
       "      <td>...</td>\n",
       "      <td>1</td>\n",
       "      <td>0</td>\n",
       "      <td>1</td>\n",
       "      <td>1</td>\n",
       "      <td>1</td>\n",
       "      <td>0</td>\n",
       "      <td>1</td>\n",
       "      <td>0</td>\n",
       "      <td>1</td>\n",
       "      <td>0</td>\n",
       "    </tr>\n",
       "    <tr>\n",
       "      <th>4</th>\n",
       "      <td>0.00</td>\n",
       "      <td>2.74</td>\n",
       "      <td>2.68</td>\n",
       "      <td>2.60</td>\n",
       "      <td>3.20</td>\n",
       "      <td>3.40</td>\n",
       "      <td>3.60</td>\n",
       "      <td>2.60</td>\n",
       "      <td>0.00</td>\n",
       "      <td>-0.00</td>\n",
       "      <td>...</td>\n",
       "      <td>1</td>\n",
       "      <td>0</td>\n",
       "      <td>1</td>\n",
       "      <td>1</td>\n",
       "      <td>1</td>\n",
       "      <td>0</td>\n",
       "      <td>1</td>\n",
       "      <td>0</td>\n",
       "      <td>1</td>\n",
       "      <td>0</td>\n",
       "    </tr>\n",
       "  </tbody>\n",
       "</table>\n",
       "<p>5 rows × 459 columns</p>\n",
       "</div>"
      ],
      "text/plain": [
       "   previous_margin  bf_odds  bf_odds_two_mins_out  vic_tote  \\\n",
       "0             6.80     2.88                  3.00      2.30   \n",
       "1            20.80    15.00                 18.00     11.20   \n",
       "2             0.00    95.00                100.00     46.40   \n",
       "3             4.00    20.00                 17.00     13.20   \n",
       "4             0.00     2.74                  2.68      2.60   \n",
       "\n",
       "   vic_tote_two_mins_out  nsw_tote  nsw_tote_two_mins_out  nsw_odds  \\\n",
       "0                   3.50      2.40                   3.30      2.60   \n",
       "1                  11.70     12.00                  12.30     11.00   \n",
       "2                  37.10     40.40                  35.00     51.00   \n",
       "3                  14.20     11.80                  13.60     12.00   \n",
       "4                   3.20      3.40                   3.60      2.60   \n",
       "\n",
       "   betfair_slope  vic_tote_slope  ...  overall_win_percent_norm_nan  \\\n",
       "0          -0.00           -0.00  ...                             1   \n",
       "1          -0.00           -0.00  ...                             1   \n",
       "2           0.21            0.04  ...                             1   \n",
       "3           0.01           -0.01  ...                             1   \n",
       "4           0.00           -0.00  ...                             1   \n",
       "\n",
       "   overall_place_percent_norm_nan  track_win_percent_norm_nan  \\\n",
       "0                               0                           1   \n",
       "1                               0                           1   \n",
       "2                               0                           1   \n",
       "3                               0                           1   \n",
       "4                               0                           1   \n",
       "\n",
       "   track_place_percent_norm_nan  distance_win_percent_norm_nan  \\\n",
       "0                             1                              1   \n",
       "1                             1                              1   \n",
       "2                             1                              1   \n",
       "3                             1                              1   \n",
       "4                             1                              1   \n",
       "\n",
       "   distance_place_percent_norm_nan  condition_win_percent_norm_nan  \\\n",
       "0                                0                               1   \n",
       "1                                0                               1   \n",
       "2                                0                               1   \n",
       "3                                0                               1   \n",
       "4                                0                               1   \n",
       "\n",
       "   condition_starts_norm_nan  condition_place_percent_norm_nan  \\\n",
       "0                          0                                 1   \n",
       "1                          0                                 1   \n",
       "2                          0                                 1   \n",
       "3                          0                                 1   \n",
       "4                          0                                 1   \n",
       "\n",
       "   prize_money_per_start_norm_nan  \n",
       "0                               0  \n",
       "1                               0  \n",
       "2                               0  \n",
       "3                               0  \n",
       "4                               0  \n",
       "\n",
       "[5 rows x 459 columns]"
      ]
     },
     "execution_count": 24,
     "metadata": {},
     "output_type": "execute_result"
    }
   ],
   "source": [
    "df_cleaned_new.head()"
   ]
  },
  {
   "cell_type": "code",
   "execution_count": 25,
   "metadata": {},
   "outputs": [],
   "source": [
    "X_train, y_train = df_cleaned_new.drop(['target'],axis=1), df_cleaned_new[['target']]\n",
    "X_test, y_test = test.drop(['target'],axis=1), test[['target']]"
   ]
  },
  {
   "cell_type": "markdown",
   "metadata": {},
   "source": [
    "### Creating the models:"
   ]
  },
  {
   "cell_type": "code",
   "execution_count": 26,
   "metadata": {},
   "outputs": [],
   "source": [
    "from sklearn.ensemble import RandomForestRegressor\n",
    "\n",
    "from time import time\n",
    "from sklearn.metrics import mean_absolute_error, r2_score, precision_score\n",
    "from sklearn.model_selection import RandomizedSearchCV"
   ]
  },
  {
   "cell_type": "code",
   "execution_count": 27,
   "metadata": {},
   "outputs": [],
   "source": [
    "from sklearn.linear_model import Ridge"
   ]
  },
  {
   "cell_type": "code",
   "execution_count": 28,
   "metadata": {},
   "outputs": [],
   "source": [
    "clf_ridge = Ridge(alpha=0.1, copy_X=True, fit_intercept=True, max_iter=None, normalize=False, random_state=0,\n",
    "                  solver='auto', tol=0.001)"
   ]
  },
  {
   "cell_type": "code",
   "execution_count": 29,
   "metadata": {},
   "outputs": [],
   "source": [
    "params = {'bootstrap': [True, False],\n",
    "         'max_depth': [10, 20, 30, 40, 50, 60, 70, 80, 90, 100, None],\n",
    "         'max_features': ['auto', 'sqrt'],\n",
    "         'min_samples_leaf': [1, 2, 4],\n",
    "         'min_samples_split': [2, 5, 10],\n",
    "         'n_estimators': [200, 400, 600, 800, 1000, 1200, 1400, 1600, 1800, 2000]}\n",
    "\n",
    "\n",
    "clf_rfr = RandomForestRegressor(bootstrap=False, criterion='mse', max_depth=30, max_features='sqrt', max_leaf_nodes=None,\n",
    "                                min_impurity_decrease=0.0, min_samples_leaf=1, min_samples_split=5, \n",
    "                                min_weight_fraction_leaf=0.0, n_estimators=200, n_jobs=None, oob_score=False, random_state=0,\n",
    "                                verbose=0, warm_start=False)"
   ]
  },
  {
   "cell_type": "code",
   "execution_count": 30,
   "metadata": {},
   "outputs": [],
   "source": [
    "grid_rfr = RandomizedSearchCV(estimator=clf_rfr, param_distributions=params, verbose=2)"
   ]
  },
  {
   "cell_type": "markdown",
   "metadata": {},
   "source": [
    "#### A function to split data and fit, predict, and score models:"
   ]
  },
  {
   "cell_type": "code",
   "execution_count": 31,
   "metadata": {},
   "outputs": [],
   "source": [
    "def model_function(model,X_train,y_train,X_test,y_test):\n",
    "    start = time()\n",
    "  \n",
    "    model.fit(X_train,y_train)\n",
    "    \n",
    "    end = time()\n",
    "\n",
    "    y_pred_train = model.predict(X_train)\n",
    "    y_pred_test = model.predict(X_test)\n",
    "\n",
    "    print(f\"Train MAE: {mean_absolute_error(y_train, y_pred_train)}\")\n",
    "    print(f\"Test MAE: {mean_absolute_error(y_test, y_pred_test)}\")\n",
    "    print()\n",
    "    print(f\"Train R2: {r2_score(y_train, y_pred_train)}\")\n",
    "    print(f\"Test R2: {r2_score(y_test, y_pred_test)}\") \n",
    "    print()\n",
    "    print(f\"Time: {end-start}\")\n",
    "    print()\n",
    "    \n",
    "    total_picks = 0\n",
    "    correct_picks = []\n",
    "\n",
    "    for a,b in zip(y_test.values, y_pred_test):\n",
    "        if b - 1 > 0:\n",
    "            total_picks += 1\n",
    "            if a - 1 > 0:\n",
    "                correct_picks.append(a)\n",
    "\n",
    "    average_win = np.mean(correct_picks)\n",
    "\n",
    "    print(\"Test Results\")\n",
    "    print(\"Total Horses:\",len(y_test))\n",
    "    print(\"Total Picks:\",total_picks)\n",
    "    print(\"Percent of Horses Picked:\",total_picks/len(y_test)*100)\n",
    "    print(\"Correct Picks:\",len(correct_picks))\n",
    "    print(\"Precision:\", len(correct_picks)/total_picks*100)\n",
    "    print(\"Average Win Odds:\",average_win)\n",
    "    print(\"Total Return:\",average_win*len(correct_picks)-total_picks)\n",
    "    print(\"Average Expected Return:\",(average_win*len(correct_picks)-total_picks)/total_picks)\n",
    "    print()\n",
    "\n",
    "    return model"
   ]
  },
  {
   "cell_type": "markdown",
   "metadata": {},
   "source": [
    "### Random Forest"
   ]
  },
  {
   "cell_type": "code",
   "execution_count": 32,
   "metadata": {
    "scrolled": true
   },
   "outputs": [
    {
     "name": "stdout",
     "output_type": "stream",
     "text": [
      "Train MAE: 3.340814306935625\n",
      "Test MAE: 3.329286813441329\n",
      "\n",
      "Train R2: 0.02997591522889409\n",
      "Test R2: -0.09171493242227102\n",
      "\n",
      "Time: 9.601893186569214\n",
      "\n",
      "Test\n",
      "Total Horses: 23197\n",
      "Total Picks: 22122\n",
      "Percent of Horses Picked: 95.36578005776609\n",
      "Correct Picks: 6399\n",
      "Precision: 28.925956061838892\n",
      "Average Win Odds: 6.173478668541961\n",
      "Total Return: 17382.090000000004\n",
      "Average Expected Return: 0.7857377271494441\n",
      "\n"
     ]
    }
   ],
   "source": [
    "model_ridge = model_function(model=clf_ridge, \n",
    "                                X_train=X_train, \n",
    "                                y_train=y_train, \n",
    "                                X_test=X_test,\n",
    "                                y_test=y_test)"
   ]
  },
  {
   "cell_type": "code",
   "execution_count": 33,
   "metadata": {},
   "outputs": [
    {
     "name": "stdout",
     "output_type": "stream",
     "text": [
      "Train MAE: 0.5962784422227704\n",
      "Test MAE: 2.770083519598643\n",
      "\n",
      "Train R2: 0.9680129394740036\n",
      "Test R2: -0.021802956921210814\n",
      "\n",
      "Time: 996.3682701587677\n",
      "\n",
      "Test\n",
      "Total Horses: 23197\n",
      "Total Picks: 22490\n",
      "Percent of Horses Picked: 96.95219209380524\n",
      "Correct Picks: 6784\n",
      "Precision: 30.164517563361493\n",
      "Average Win Odds: 5.957169811320755\n",
      "Total Return: 17923.440000000002\n",
      "Average Expected Return: 0.796951534015118\n",
      "\n"
     ]
    }
   ],
   "source": [
    "model_rfr = model_function(model=clf_rfr, \n",
    "                                X_train=X_train, \n",
    "                                y_train=y_train, \n",
    "                                X_test=X_test,\n",
    "                                y_test=y_test)"
   ]
  }
 ],
 "metadata": {
  "kernelspec": {
   "display_name": "Python 3 (ipykernel)",
   "language": "python",
   "name": "python3"
  },
  "language_info": {
   "codemirror_mode": {
    "name": "ipython",
    "version": 3
   },
   "file_extension": ".py",
   "mimetype": "text/x-python",
   "name": "python",
   "nbconvert_exporter": "python",
   "pygments_lexer": "ipython3",
   "version": "3.8.13"
  }
 },
 "nbformat": 4,
 "nbformat_minor": 2
}
