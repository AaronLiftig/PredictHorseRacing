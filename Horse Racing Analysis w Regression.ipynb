{
 "cells": [
  {
   "cell_type": "markdown",
   "metadata": {},
   "source": [
    "# <center>Analyzing a Horse Racing Dataset</center>"
   ]
  },
  {
   "cell_type": "code",
   "execution_count": 1,
   "metadata": {},
   "outputs": [],
   "source": [
    "import pandas as pd\n",
    "import numpy as np\n",
    "import matplotlib.pyplot as plt\n",
    "from scipy.stats import chisquare, ttest_ind, zscore\n",
    "\n",
    "%matplotlib inline\n",
    "\n",
    "#Supresses scientific notation\n",
    "pd.set_option('display.float_format', lambda x: '%.2f' % x)\n",
    "pd.set_option('display.max_columns', None)\n",
    "pd.set_option('display.max_rows', None)\n",
    "\n",
    "import warnings\n",
    "warnings.filterwarnings('ignore')"
   ]
  },
  {
   "cell_type": "code",
   "execution_count": 2,
   "metadata": {},
   "outputs": [
    {
     "name": "stdout",
     "output_type": "stream",
     "text": [
      "1.1.3\n"
     ]
    }
   ],
   "source": [
    "print(pd.__version__)"
   ]
  },
  {
   "cell_type": "markdown",
   "metadata": {},
   "source": [
    "## This is the 'Horses for Courses' Kaggle dataset"
   ]
  },
  {
   "cell_type": "code",
   "execution_count": 3,
   "metadata": {
    "scrolled": false
   },
   "outputs": [
    {
     "data": {
      "text/html": [
       "<div>\n",
       "<style scoped>\n",
       "    .dataframe tbody tr th:only-of-type {\n",
       "        vertical-align: middle;\n",
       "    }\n",
       "\n",
       "    .dataframe tbody tr th {\n",
       "        vertical-align: top;\n",
       "    }\n",
       "\n",
       "    .dataframe thead th {\n",
       "        text-align: right;\n",
       "    }\n",
       "</style>\n",
       "<table border=\"1\" class=\"dataframe\">\n",
       "  <thead>\n",
       "    <tr style=\"text-align: right;\">\n",
       "      <th></th>\n",
       "      <th>position_again</th>\n",
       "      <th>bf_odds</th>\n",
       "      <th>venue_name</th>\n",
       "      <th>date</th>\n",
       "      <th>market_name</th>\n",
       "      <th>race_number</th>\n",
       "      <th>condition</th>\n",
       "      <th>name</th>\n",
       "      <th>barrier</th>\n",
       "      <th>blinkers</th>\n",
       "      <th>emergency</th>\n",
       "      <th>handicap_weight</th>\n",
       "      <th>prize_money</th>\n",
       "      <th>sex</th>\n",
       "      <th>age</th>\n",
       "      <th>jockey_sex</th>\n",
       "      <th>last_twenty_starts</th>\n",
       "      <th>days_since_last_run</th>\n",
       "      <th>overall_starts</th>\n",
       "      <th>overall_wins</th>\n",
       "      <th>overall_places</th>\n",
       "      <th>track_starts</th>\n",
       "      <th>track_wins</th>\n",
       "      <th>track_places</th>\n",
       "      <th>firm_starts</th>\n",
       "      <th>firm_wins</th>\n",
       "      <th>firm_places</th>\n",
       "      <th>good_starts</th>\n",
       "      <th>good_wins</th>\n",
       "      <th>good_places</th>\n",
       "      <th>slow_starts</th>\n",
       "      <th>slow_wins</th>\n",
       "      <th>slow_places</th>\n",
       "      <th>soft_starts</th>\n",
       "      <th>soft_wins</th>\n",
       "      <th>soft_places</th>\n",
       "      <th>heavy_starts</th>\n",
       "      <th>heavy_wins</th>\n",
       "      <th>heavy_places</th>\n",
       "      <th>distance_starts</th>\n",
       "      <th>distance_wins</th>\n",
       "      <th>distance_places</th>\n",
       "    </tr>\n",
       "  </thead>\n",
       "  <tbody>\n",
       "    <tr>\n",
       "      <th>0</th>\n",
       "      <td>1.00</td>\n",
       "      <td>2.88</td>\n",
       "      <td>Echuca</td>\n",
       "      <td>2016-06-27</td>\n",
       "      <td>R3 1200m Mdn</td>\n",
       "      <td>3</td>\n",
       "      <td>HVY9</td>\n",
       "      <td>CORONATION LANCE</td>\n",
       "      <td>3.00</td>\n",
       "      <td>False</td>\n",
       "      <td>False</td>\n",
       "      <td>58.50</td>\n",
       "      <td>2160.00</td>\n",
       "      <td>Gelding</td>\n",
       "      <td>3.00</td>\n",
       "      <td>Male</td>\n",
       "      <td>f3</td>\n",
       "      <td>14.00</td>\n",
       "      <td>1.00</td>\n",
       "      <td>0.00</td>\n",
       "      <td>1.00</td>\n",
       "      <td>0.00</td>\n",
       "      <td>0.00</td>\n",
       "      <td>0.00</td>\n",
       "      <td>0.00</td>\n",
       "      <td>0.00</td>\n",
       "      <td>0.00</td>\n",
       "      <td>0.00</td>\n",
       "      <td>0.00</td>\n",
       "      <td>0.00</td>\n",
       "      <td>1.00</td>\n",
       "      <td>0.00</td>\n",
       "      <td>1.00</td>\n",
       "      <td>1.00</td>\n",
       "      <td>0.00</td>\n",
       "      <td>1.00</td>\n",
       "      <td>0.00</td>\n",
       "      <td>0.00</td>\n",
       "      <td>0.00</td>\n",
       "      <td>1.00</td>\n",
       "      <td>0.00</td>\n",
       "      <td>1.00</td>\n",
       "    </tr>\n",
       "    <tr>\n",
       "      <th>1</th>\n",
       "      <td>2.00</td>\n",
       "      <td>15.00</td>\n",
       "      <td>Echuca</td>\n",
       "      <td>2016-06-27</td>\n",
       "      <td>R3 1200m Mdn</td>\n",
       "      <td>3</td>\n",
       "      <td>HVY9</td>\n",
       "      <td>THUNDER GUN</td>\n",
       "      <td>10.00</td>\n",
       "      <td>False</td>\n",
       "      <td>False</td>\n",
       "      <td>58.50</td>\n",
       "      <td>21175.00</td>\n",
       "      <td>Gelding</td>\n",
       "      <td>5.00</td>\n",
       "      <td>Male</td>\n",
       "      <td>f0x6x80x2</td>\n",
       "      <td>39.00</td>\n",
       "      <td>5.00</td>\n",
       "      <td>0.00</td>\n",
       "      <td>1.00</td>\n",
       "      <td>0.00</td>\n",
       "      <td>0.00</td>\n",
       "      <td>0.00</td>\n",
       "      <td>0.00</td>\n",
       "      <td>0.00</td>\n",
       "      <td>0.00</td>\n",
       "      <td>2.00</td>\n",
       "      <td>0.00</td>\n",
       "      <td>0.00</td>\n",
       "      <td>2.00</td>\n",
       "      <td>0.00</td>\n",
       "      <td>1.00</td>\n",
       "      <td>2.00</td>\n",
       "      <td>0.00</td>\n",
       "      <td>1.00</td>\n",
       "      <td>1.00</td>\n",
       "      <td>0.00</td>\n",
       "      <td>0.00</td>\n",
       "      <td>1.00</td>\n",
       "      <td>0.00</td>\n",
       "      <td>1.00</td>\n",
       "    </tr>\n",
       "    <tr>\n",
       "      <th>2</th>\n",
       "      <td>3.00</td>\n",
       "      <td>95.00</td>\n",
       "      <td>Echuca</td>\n",
       "      <td>2016-06-27</td>\n",
       "      <td>R3 1200m Mdn</td>\n",
       "      <td>3</td>\n",
       "      <td>HVY9</td>\n",
       "      <td>JUST LEAVE</td>\n",
       "      <td>6.00</td>\n",
       "      <td>False</td>\n",
       "      <td>False</td>\n",
       "      <td>56.50</td>\n",
       "      <td>28855.00</td>\n",
       "      <td>Mare</td>\n",
       "      <td>6.00</td>\n",
       "      <td>Male</td>\n",
       "      <td>f68477579x00</td>\n",
       "      <td>15.00</td>\n",
       "      <td>10.00</td>\n",
       "      <td>0.00</td>\n",
       "      <td>0.00</td>\n",
       "      <td>0.00</td>\n",
       "      <td>0.00</td>\n",
       "      <td>0.00</td>\n",
       "      <td>0.00</td>\n",
       "      <td>0.00</td>\n",
       "      <td>0.00</td>\n",
       "      <td>2.00</td>\n",
       "      <td>0.00</td>\n",
       "      <td>0.00</td>\n",
       "      <td>1.00</td>\n",
       "      <td>0.00</td>\n",
       "      <td>0.00</td>\n",
       "      <td>5.00</td>\n",
       "      <td>0.00</td>\n",
       "      <td>0.00</td>\n",
       "      <td>3.00</td>\n",
       "      <td>0.00</td>\n",
       "      <td>0.00</td>\n",
       "      <td>4.00</td>\n",
       "      <td>0.00</td>\n",
       "      <td>0.00</td>\n",
       "    </tr>\n",
       "    <tr>\n",
       "      <th>3</th>\n",
       "      <td>nan</td>\n",
       "      <td>20.00</td>\n",
       "      <td>Echuca</td>\n",
       "      <td>2016-06-27</td>\n",
       "      <td>R3 1200m Mdn</td>\n",
       "      <td>3</td>\n",
       "      <td>HVY9</td>\n",
       "      <td>ONYA SKATES KATE</td>\n",
       "      <td>2.00</td>\n",
       "      <td>False</td>\n",
       "      <td>False</td>\n",
       "      <td>56.50</td>\n",
       "      <td>1475.00</td>\n",
       "      <td>Filly</td>\n",
       "      <td>3.00</td>\n",
       "      <td>Male</td>\n",
       "      <td>f0</td>\n",
       "      <td>15.00</td>\n",
       "      <td>1.00</td>\n",
       "      <td>0.00</td>\n",
       "      <td>0.00</td>\n",
       "      <td>0.00</td>\n",
       "      <td>0.00</td>\n",
       "      <td>0.00</td>\n",
       "      <td>0.00</td>\n",
       "      <td>0.00</td>\n",
       "      <td>0.00</td>\n",
       "      <td>0.00</td>\n",
       "      <td>0.00</td>\n",
       "      <td>0.00</td>\n",
       "      <td>0.00</td>\n",
       "      <td>0.00</td>\n",
       "      <td>0.00</td>\n",
       "      <td>1.00</td>\n",
       "      <td>0.00</td>\n",
       "      <td>0.00</td>\n",
       "      <td>0.00</td>\n",
       "      <td>0.00</td>\n",
       "      <td>0.00</td>\n",
       "      <td>1.00</td>\n",
       "      <td>0.00</td>\n",
       "      <td>0.00</td>\n",
       "    </tr>\n",
       "    <tr>\n",
       "      <th>4</th>\n",
       "      <td>nan</td>\n",
       "      <td>2.74</td>\n",
       "      <td>Echuca</td>\n",
       "      <td>2016-06-27</td>\n",
       "      <td>R3 1200m Mdn</td>\n",
       "      <td>3</td>\n",
       "      <td>HVY9</td>\n",
       "      <td>DISSEMINATE</td>\n",
       "      <td>7.00</td>\n",
       "      <td>False</td>\n",
       "      <td>False</td>\n",
       "      <td>56.50</td>\n",
       "      <td>1215.00</td>\n",
       "      <td>Filly</td>\n",
       "      <td>3.00</td>\n",
       "      <td>Male</td>\n",
       "      <td>f4x</td>\n",
       "      <td>173.00</td>\n",
       "      <td>1.00</td>\n",
       "      <td>0.00</td>\n",
       "      <td>0.00</td>\n",
       "      <td>0.00</td>\n",
       "      <td>0.00</td>\n",
       "      <td>0.00</td>\n",
       "      <td>0.00</td>\n",
       "      <td>0.00</td>\n",
       "      <td>0.00</td>\n",
       "      <td>1.00</td>\n",
       "      <td>0.00</td>\n",
       "      <td>0.00</td>\n",
       "      <td>0.00</td>\n",
       "      <td>0.00</td>\n",
       "      <td>0.00</td>\n",
       "      <td>0.00</td>\n",
       "      <td>0.00</td>\n",
       "      <td>0.00</td>\n",
       "      <td>0.00</td>\n",
       "      <td>0.00</td>\n",
       "      <td>0.00</td>\n",
       "      <td>1.00</td>\n",
       "      <td>0.00</td>\n",
       "      <td>0.00</td>\n",
       "    </tr>\n",
       "  </tbody>\n",
       "</table>\n",
       "</div>"
      ],
      "text/plain": [
       "   position_again  bf_odds venue_name        date   market_name  race_number  \\\n",
       "0            1.00     2.88     Echuca  2016-06-27  R3 1200m Mdn            3   \n",
       "1            2.00    15.00     Echuca  2016-06-27  R3 1200m Mdn            3   \n",
       "2            3.00    95.00     Echuca  2016-06-27  R3 1200m Mdn            3   \n",
       "3             nan    20.00     Echuca  2016-06-27  R3 1200m Mdn            3   \n",
       "4             nan     2.74     Echuca  2016-06-27  R3 1200m Mdn            3   \n",
       "\n",
       "  condition              name  barrier blinkers emergency  handicap_weight  \\\n",
       "0      HVY9  CORONATION LANCE     3.00    False     False            58.50   \n",
       "1      HVY9       THUNDER GUN    10.00    False     False            58.50   \n",
       "2      HVY9        JUST LEAVE     6.00    False     False            56.50   \n",
       "3      HVY9  ONYA SKATES KATE     2.00    False     False            56.50   \n",
       "4      HVY9       DISSEMINATE     7.00    False     False            56.50   \n",
       "\n",
       "   prize_money      sex  age jockey_sex last_twenty_starts  \\\n",
       "0      2160.00  Gelding 3.00       Male                 f3   \n",
       "1     21175.00  Gelding 5.00       Male          f0x6x80x2   \n",
       "2     28855.00     Mare 6.00       Male       f68477579x00   \n",
       "3      1475.00    Filly 3.00       Male                 f0   \n",
       "4      1215.00    Filly 3.00       Male                f4x   \n",
       "\n",
       "   days_since_last_run  overall_starts  overall_wins  overall_places  \\\n",
       "0                14.00            1.00          0.00            1.00   \n",
       "1                39.00            5.00          0.00            1.00   \n",
       "2                15.00           10.00          0.00            0.00   \n",
       "3                15.00            1.00          0.00            0.00   \n",
       "4               173.00            1.00          0.00            0.00   \n",
       "\n",
       "   track_starts  track_wins  track_places  firm_starts  firm_wins  \\\n",
       "0          0.00        0.00          0.00         0.00       0.00   \n",
       "1          0.00        0.00          0.00         0.00       0.00   \n",
       "2          0.00        0.00          0.00         0.00       0.00   \n",
       "3          0.00        0.00          0.00         0.00       0.00   \n",
       "4          0.00        0.00          0.00         0.00       0.00   \n",
       "\n",
       "   firm_places  good_starts  good_wins  good_places  slow_starts  slow_wins  \\\n",
       "0         0.00         0.00       0.00         0.00         1.00       0.00   \n",
       "1         0.00         2.00       0.00         0.00         2.00       0.00   \n",
       "2         0.00         2.00       0.00         0.00         1.00       0.00   \n",
       "3         0.00         0.00       0.00         0.00         0.00       0.00   \n",
       "4         0.00         1.00       0.00         0.00         0.00       0.00   \n",
       "\n",
       "   slow_places  soft_starts  soft_wins  soft_places  heavy_starts  heavy_wins  \\\n",
       "0         1.00         1.00       0.00         1.00          0.00        0.00   \n",
       "1         1.00         2.00       0.00         1.00          1.00        0.00   \n",
       "2         0.00         5.00       0.00         0.00          3.00        0.00   \n",
       "3         0.00         1.00       0.00         0.00          0.00        0.00   \n",
       "4         0.00         0.00       0.00         0.00          0.00        0.00   \n",
       "\n",
       "   heavy_places  distance_starts  distance_wins  distance_places  \n",
       "0          0.00             1.00           0.00             1.00  \n",
       "1          0.00             1.00           0.00             1.00  \n",
       "2          0.00             4.00           0.00             0.00  \n",
       "3          0.00             1.00           0.00             0.00  \n",
       "4          0.00             1.00           0.00             0.00  "
      ]
     },
     "execution_count": 3,
     "metadata": {},
     "output_type": "execute_result"
    }
   ],
   "source": [
    "fields = [\"position_again\",\"bf_odds\",\"venue_name\",\"date\",\"market_name\",\"condition\",\n",
    "          \"barrier\",\"blinkers\",\"emergency\",\"handicap_weight\",\"last_twenty_starts\",\n",
    "          \"prize_money\",\"sex\",\"age\",\"jockey_sex\",\"days_since_last_run\",\"overall_starts\",\n",
    "          \"overall_wins\",\"overall_places\",\"track_starts\",\"track_wins\",\"track_places\",\n",
    "          \"firm_starts\",\"firm_wins\",\"firm_places\",\"good_starts\",\"good_wins\",\"good_places\",\n",
    "          \"slow_starts\",\"slow_wins\",\"slow_places\",\"soft_starts\",\"soft_wins\",\n",
    "          \"soft_places\",\"heavy_starts\",\"heavy_wins\",\"heavy_places\",\"distance_starts\",\n",
    "          \"distance_wins\",\"distance_places\",\"name\",\"race_number\"] \n",
    "\n",
    "df = pd.read_csv(\"horses.csv\",\n",
    "                 usecols=fields, \n",
    "                 skipinitialspace=True, \n",
    "                 low_memory=False)\n",
    "\n",
    "df.head()"
   ]
  },
  {
   "cell_type": "markdown",
   "metadata": {},
   "source": [
    "### I decided not to use any 'man-made' metrics (e.g. odds, field strength, etc.) because these are relative and some are subject to change in the moments before the race. For instance, if the model includes odds and a customer is using the model API, they would get different results for the same race depending on when they ran the model because the odds change regularly.\n",
    "\n",
    "### Also, jockey and trainer win percentages are not included with this dataset. I attempted to include it, but I could not find enough data.\n",
    "\n",
    "## Feature info:"
   ]
  },
  {
   "cell_type": "code",
   "execution_count": 4,
   "metadata": {
    "scrolled": false
   },
   "outputs": [
    {
     "data": {
      "text/plain": [
       "position_again         float64\n",
       "bf_odds                float64\n",
       "venue_name              object\n",
       "date                    object\n",
       "market_name             object\n",
       "race_number              int64\n",
       "condition               object\n",
       "name                    object\n",
       "barrier                float64\n",
       "blinkers                object\n",
       "emergency               object\n",
       "handicap_weight        float64\n",
       "prize_money            float64\n",
       "sex                     object\n",
       "age                    float64\n",
       "jockey_sex              object\n",
       "last_twenty_starts      object\n",
       "days_since_last_run    float64\n",
       "overall_starts         float64\n",
       "overall_wins           float64\n",
       "overall_places         float64\n",
       "track_starts           float64\n",
       "track_wins             float64\n",
       "track_places           float64\n",
       "firm_starts            float64\n",
       "firm_wins              float64\n",
       "firm_places            float64\n",
       "good_starts            float64\n",
       "good_wins              float64\n",
       "good_places            float64\n",
       "slow_starts            float64\n",
       "slow_wins              float64\n",
       "slow_places            float64\n",
       "soft_starts            float64\n",
       "soft_wins              float64\n",
       "soft_places            float64\n",
       "heavy_starts           float64\n",
       "heavy_wins             float64\n",
       "heavy_places           float64\n",
       "distance_starts        float64\n",
       "distance_wins          float64\n",
       "distance_places        float64\n",
       "dtype: object"
      ]
     },
     "execution_count": 4,
     "metadata": {},
     "output_type": "execute_result"
    }
   ],
   "source": [
    "df.dtypes"
   ]
  },
  {
   "cell_type": "code",
   "execution_count": 5,
   "metadata": {},
   "outputs": [
    {
     "data": {
      "text/plain": [
       "position_again         158461\n",
       "bf_odds                     0\n",
       "venue_name                  0\n",
       "date                        0\n",
       "market_name                 0\n",
       "race_number                 0\n",
       "condition               22188\n",
       "name                        0\n",
       "barrier                 26289\n",
       "blinkers                26289\n",
       "emergency               26289\n",
       "handicap_weight         26289\n",
       "prize_money             26791\n",
       "sex                     26791\n",
       "age                     26791\n",
       "jockey_sex              26791\n",
       "last_twenty_starts      37644\n",
       "days_since_last_run     27042\n",
       "overall_starts          27042\n",
       "overall_wins            27042\n",
       "overall_places          27042\n",
       "track_starts            27042\n",
       "track_wins              27042\n",
       "track_places            27042\n",
       "firm_starts             27042\n",
       "firm_wins               27042\n",
       "firm_places             27042\n",
       "good_starts             27042\n",
       "good_wins               27042\n",
       "good_places             27042\n",
       "slow_starts             27042\n",
       "slow_wins               27042\n",
       "slow_places             27042\n",
       "soft_starts             27042\n",
       "soft_wins               27042\n",
       "soft_places             27042\n",
       "heavy_starts            27042\n",
       "heavy_wins              27042\n",
       "heavy_places            27042\n",
       "distance_starts         27042\n",
       "distance_wins           27042\n",
       "distance_places         27042\n",
       "dtype: int64"
      ]
     },
     "execution_count": 5,
     "metadata": {},
     "output_type": "execute_result"
    }
   ],
   "source": [
    "df.isna().sum()"
   ]
  },
  {
   "cell_type": "code",
   "execution_count": 6,
   "metadata": {
    "scrolled": true
   },
   "outputs": [
    {
     "data": {
      "text/html": [
       "<div>\n",
       "<style scoped>\n",
       "    .dataframe tbody tr th:only-of-type {\n",
       "        vertical-align: middle;\n",
       "    }\n",
       "\n",
       "    .dataframe tbody tr th {\n",
       "        vertical-align: top;\n",
       "    }\n",
       "\n",
       "    .dataframe thead th {\n",
       "        text-align: right;\n",
       "    }\n",
       "</style>\n",
       "<table border=\"1\" class=\"dataframe\">\n",
       "  <thead>\n",
       "    <tr style=\"text-align: right;\">\n",
       "      <th></th>\n",
       "      <th>position_again</th>\n",
       "      <th>bf_odds</th>\n",
       "      <th>race_number</th>\n",
       "      <th>barrier</th>\n",
       "      <th>handicap_weight</th>\n",
       "      <th>prize_money</th>\n",
       "      <th>age</th>\n",
       "      <th>days_since_last_run</th>\n",
       "      <th>overall_starts</th>\n",
       "      <th>overall_wins</th>\n",
       "      <th>overall_places</th>\n",
       "      <th>track_starts</th>\n",
       "      <th>track_wins</th>\n",
       "      <th>track_places</th>\n",
       "      <th>firm_starts</th>\n",
       "      <th>firm_wins</th>\n",
       "      <th>firm_places</th>\n",
       "      <th>good_starts</th>\n",
       "      <th>good_wins</th>\n",
       "      <th>good_places</th>\n",
       "      <th>slow_starts</th>\n",
       "      <th>slow_wins</th>\n",
       "      <th>slow_places</th>\n",
       "      <th>soft_starts</th>\n",
       "      <th>soft_wins</th>\n",
       "      <th>soft_places</th>\n",
       "      <th>heavy_starts</th>\n",
       "      <th>heavy_wins</th>\n",
       "      <th>heavy_places</th>\n",
       "      <th>distance_starts</th>\n",
       "      <th>distance_wins</th>\n",
       "      <th>distance_places</th>\n",
       "    </tr>\n",
       "  </thead>\n",
       "  <tbody>\n",
       "    <tr>\n",
       "      <th>count</th>\n",
       "      <td>63219.00</td>\n",
       "      <td>221680.00</td>\n",
       "      <td>221680.00</td>\n",
       "      <td>195391.00</td>\n",
       "      <td>195391.00</td>\n",
       "      <td>194889.00</td>\n",
       "      <td>194889.00</td>\n",
       "      <td>194638.00</td>\n",
       "      <td>194638.00</td>\n",
       "      <td>194638.00</td>\n",
       "      <td>194638.00</td>\n",
       "      <td>194638.00</td>\n",
       "      <td>194638.00</td>\n",
       "      <td>194638.00</td>\n",
       "      <td>194638.00</td>\n",
       "      <td>194638.00</td>\n",
       "      <td>194638.00</td>\n",
       "      <td>194638.00</td>\n",
       "      <td>194638.00</td>\n",
       "      <td>194638.00</td>\n",
       "      <td>194638.00</td>\n",
       "      <td>194638.00</td>\n",
       "      <td>194638.00</td>\n",
       "      <td>194638.00</td>\n",
       "      <td>194638.00</td>\n",
       "      <td>194638.00</td>\n",
       "      <td>194638.00</td>\n",
       "      <td>194638.00</td>\n",
       "      <td>194638.00</td>\n",
       "      <td>194638.00</td>\n",
       "      <td>194638.00</td>\n",
       "      <td>194638.00</td>\n",
       "    </tr>\n",
       "    <tr>\n",
       "      <th>mean</th>\n",
       "      <td>1.95</td>\n",
       "      <td>36.46</td>\n",
       "      <td>4.59</td>\n",
       "      <td>5.83</td>\n",
       "      <td>56.90</td>\n",
       "      <td>68885.22</td>\n",
       "      <td>4.61</td>\n",
       "      <td>32.32</td>\n",
       "      <td>16.50</td>\n",
       "      <td>2.09</td>\n",
       "      <td>4.04</td>\n",
       "      <td>2.56</td>\n",
       "      <td>0.36</td>\n",
       "      <td>0.68</td>\n",
       "      <td>0.21</td>\n",
       "      <td>0.03</td>\n",
       "      <td>0.05</td>\n",
       "      <td>11.38</td>\n",
       "      <td>1.43</td>\n",
       "      <td>2.77</td>\n",
       "      <td>1.96</td>\n",
       "      <td>0.25</td>\n",
       "      <td>0.48</td>\n",
       "      <td>3.62</td>\n",
       "      <td>0.45</td>\n",
       "      <td>0.88</td>\n",
       "      <td>1.31</td>\n",
       "      <td>0.18</td>\n",
       "      <td>0.34</td>\n",
       "      <td>7.00</td>\n",
       "      <td>1.03</td>\n",
       "      <td>1.83</td>\n",
       "    </tr>\n",
       "    <tr>\n",
       "      <th>std</th>\n",
       "      <td>0.81</td>\n",
       "      <td>61.37</td>\n",
       "      <td>2.33</td>\n",
       "      <td>3.38</td>\n",
       "      <td>2.19</td>\n",
       "      <td>164408.16</td>\n",
       "      <td>1.59</td>\n",
       "      <td>46.53</td>\n",
       "      <td>16.11</td>\n",
       "      <td>2.44</td>\n",
       "      <td>4.49</td>\n",
       "      <td>4.56</td>\n",
       "      <td>0.90</td>\n",
       "      <td>1.49</td>\n",
       "      <td>0.71</td>\n",
       "      <td>0.19</td>\n",
       "      <td>0.28</td>\n",
       "      <td>11.58</td>\n",
       "      <td>1.89</td>\n",
       "      <td>3.33</td>\n",
       "      <td>2.52</td>\n",
       "      <td>0.58</td>\n",
       "      <td>0.90</td>\n",
       "      <td>4.09</td>\n",
       "      <td>0.83</td>\n",
       "      <td>1.34</td>\n",
       "      <td>2.12</td>\n",
       "      <td>0.53</td>\n",
       "      <td>0.78</td>\n",
       "      <td>8.48</td>\n",
       "      <td>1.55</td>\n",
       "      <td>2.61</td>\n",
       "    </tr>\n",
       "    <tr>\n",
       "      <th>min</th>\n",
       "      <td>1.00</td>\n",
       "      <td>1.10</td>\n",
       "      <td>1.00</td>\n",
       "      <td>1.00</td>\n",
       "      <td>5.00</td>\n",
       "      <td>0.00</td>\n",
       "      <td>2.00</td>\n",
       "      <td>0.00</td>\n",
       "      <td>0.00</td>\n",
       "      <td>0.00</td>\n",
       "      <td>0.00</td>\n",
       "      <td>0.00</td>\n",
       "      <td>0.00</td>\n",
       "      <td>0.00</td>\n",
       "      <td>0.00</td>\n",
       "      <td>0.00</td>\n",
       "      <td>0.00</td>\n",
       "      <td>0.00</td>\n",
       "      <td>0.00</td>\n",
       "      <td>0.00</td>\n",
       "      <td>0.00</td>\n",
       "      <td>0.00</td>\n",
       "      <td>0.00</td>\n",
       "      <td>0.00</td>\n",
       "      <td>0.00</td>\n",
       "      <td>0.00</td>\n",
       "      <td>0.00</td>\n",
       "      <td>0.00</td>\n",
       "      <td>0.00</td>\n",
       "      <td>0.00</td>\n",
       "      <td>0.00</td>\n",
       "      <td>0.00</td>\n",
       "    </tr>\n",
       "    <tr>\n",
       "      <th>25%</th>\n",
       "      <td>1.00</td>\n",
       "      <td>7.00</td>\n",
       "      <td>3.00</td>\n",
       "      <td>3.00</td>\n",
       "      <td>55.00</td>\n",
       "      <td>9025.00</td>\n",
       "      <td>3.00</td>\n",
       "      <td>12.00</td>\n",
       "      <td>5.00</td>\n",
       "      <td>0.00</td>\n",
       "      <td>1.00</td>\n",
       "      <td>0.00</td>\n",
       "      <td>0.00</td>\n",
       "      <td>0.00</td>\n",
       "      <td>0.00</td>\n",
       "      <td>0.00</td>\n",
       "      <td>0.00</td>\n",
       "      <td>3.00</td>\n",
       "      <td>0.00</td>\n",
       "      <td>0.00</td>\n",
       "      <td>0.00</td>\n",
       "      <td>0.00</td>\n",
       "      <td>0.00</td>\n",
       "      <td>1.00</td>\n",
       "      <td>0.00</td>\n",
       "      <td>0.00</td>\n",
       "      <td>0.00</td>\n",
       "      <td>0.00</td>\n",
       "      <td>0.00</td>\n",
       "      <td>1.00</td>\n",
       "      <td>0.00</td>\n",
       "      <td>0.00</td>\n",
       "    </tr>\n",
       "    <tr>\n",
       "      <th>50%</th>\n",
       "      <td>2.00</td>\n",
       "      <td>14.50</td>\n",
       "      <td>5.00</td>\n",
       "      <td>6.00</td>\n",
       "      <td>57.00</td>\n",
       "      <td>32900.00</td>\n",
       "      <td>4.00</td>\n",
       "      <td>16.00</td>\n",
       "      <td>12.00</td>\n",
       "      <td>1.00</td>\n",
       "      <td>3.00</td>\n",
       "      <td>1.00</td>\n",
       "      <td>0.00</td>\n",
       "      <td>0.00</td>\n",
       "      <td>0.00</td>\n",
       "      <td>0.00</td>\n",
       "      <td>0.00</td>\n",
       "      <td>8.00</td>\n",
       "      <td>1.00</td>\n",
       "      <td>2.00</td>\n",
       "      <td>1.00</td>\n",
       "      <td>0.00</td>\n",
       "      <td>0.00</td>\n",
       "      <td>2.00</td>\n",
       "      <td>0.00</td>\n",
       "      <td>0.00</td>\n",
       "      <td>1.00</td>\n",
       "      <td>0.00</td>\n",
       "      <td>0.00</td>\n",
       "      <td>4.00</td>\n",
       "      <td>0.00</td>\n",
       "      <td>1.00</td>\n",
       "    </tr>\n",
       "    <tr>\n",
       "      <th>75%</th>\n",
       "      <td>3.00</td>\n",
       "      <td>36.00</td>\n",
       "      <td>7.00</td>\n",
       "      <td>8.00</td>\n",
       "      <td>58.50</td>\n",
       "      <td>76560.00</td>\n",
       "      <td>6.00</td>\n",
       "      <td>24.00</td>\n",
       "      <td>23.00</td>\n",
       "      <td>3.00</td>\n",
       "      <td>6.00</td>\n",
       "      <td>3.00</td>\n",
       "      <td>0.00</td>\n",
       "      <td>1.00</td>\n",
       "      <td>0.00</td>\n",
       "      <td>0.00</td>\n",
       "      <td>0.00</td>\n",
       "      <td>16.00</td>\n",
       "      <td>2.00</td>\n",
       "      <td>4.00</td>\n",
       "      <td>3.00</td>\n",
       "      <td>0.00</td>\n",
       "      <td>1.00</td>\n",
       "      <td>5.00</td>\n",
       "      <td>1.00</td>\n",
       "      <td>1.00</td>\n",
       "      <td>2.00</td>\n",
       "      <td>0.00</td>\n",
       "      <td>0.00</td>\n",
       "      <td>10.00</td>\n",
       "      <td>1.00</td>\n",
       "      <td>3.00</td>\n",
       "    </tr>\n",
       "    <tr>\n",
       "      <th>max</th>\n",
       "      <td>5.00</td>\n",
       "      <td>1000.00</td>\n",
       "      <td>11.00</td>\n",
       "      <td>24.00</td>\n",
       "      <td>74.00</td>\n",
       "      <td>16563925.00</td>\n",
       "      <td>12.00</td>\n",
       "      <td>255.00</td>\n",
       "      <td>139.00</td>\n",
       "      <td>28.00</td>\n",
       "      <td>46.00</td>\n",
       "      <td>86.00</td>\n",
       "      <td>19.00</td>\n",
       "      <td>29.00</td>\n",
       "      <td>25.00</td>\n",
       "      <td>5.00</td>\n",
       "      <td>8.00</td>\n",
       "      <td>107.00</td>\n",
       "      <td>24.00</td>\n",
       "      <td>39.00</td>\n",
       "      <td>27.00</td>\n",
       "      <td>7.00</td>\n",
       "      <td>12.00</td>\n",
       "      <td>38.00</td>\n",
       "      <td>9.00</td>\n",
       "      <td>16.00</td>\n",
       "      <td>29.00</td>\n",
       "      <td>9.00</td>\n",
       "      <td>11.00</td>\n",
       "      <td>105.00</td>\n",
       "      <td>18.00</td>\n",
       "      <td>34.00</td>\n",
       "    </tr>\n",
       "  </tbody>\n",
       "</table>\n",
       "</div>"
      ],
      "text/plain": [
       "       position_again   bf_odds  race_number   barrier  handicap_weight  \\\n",
       "count        63219.00 221680.00    221680.00 195391.00        195391.00   \n",
       "mean             1.95     36.46         4.59      5.83            56.90   \n",
       "std              0.81     61.37         2.33      3.38             2.19   \n",
       "min              1.00      1.10         1.00      1.00             5.00   \n",
       "25%              1.00      7.00         3.00      3.00            55.00   \n",
       "50%              2.00     14.50         5.00      6.00            57.00   \n",
       "75%              3.00     36.00         7.00      8.00            58.50   \n",
       "max              5.00   1000.00        11.00     24.00            74.00   \n",
       "\n",
       "       prize_money       age  days_since_last_run  overall_starts  \\\n",
       "count    194889.00 194889.00            194638.00       194638.00   \n",
       "mean      68885.22      4.61                32.32           16.50   \n",
       "std      164408.16      1.59                46.53           16.11   \n",
       "min           0.00      2.00                 0.00            0.00   \n",
       "25%        9025.00      3.00                12.00            5.00   \n",
       "50%       32900.00      4.00                16.00           12.00   \n",
       "75%       76560.00      6.00                24.00           23.00   \n",
       "max    16563925.00     12.00               255.00          139.00   \n",
       "\n",
       "       overall_wins  overall_places  track_starts  track_wins  track_places  \\\n",
       "count     194638.00       194638.00     194638.00   194638.00     194638.00   \n",
       "mean           2.09            4.04          2.56        0.36          0.68   \n",
       "std            2.44            4.49          4.56        0.90          1.49   \n",
       "min            0.00            0.00          0.00        0.00          0.00   \n",
       "25%            0.00            1.00          0.00        0.00          0.00   \n",
       "50%            1.00            3.00          1.00        0.00          0.00   \n",
       "75%            3.00            6.00          3.00        0.00          1.00   \n",
       "max           28.00           46.00         86.00       19.00         29.00   \n",
       "\n",
       "       firm_starts  firm_wins  firm_places  good_starts  good_wins  \\\n",
       "count    194638.00  194638.00    194638.00    194638.00  194638.00   \n",
       "mean          0.21       0.03         0.05        11.38       1.43   \n",
       "std           0.71       0.19         0.28        11.58       1.89   \n",
       "min           0.00       0.00         0.00         0.00       0.00   \n",
       "25%           0.00       0.00         0.00         3.00       0.00   \n",
       "50%           0.00       0.00         0.00         8.00       1.00   \n",
       "75%           0.00       0.00         0.00        16.00       2.00   \n",
       "max          25.00       5.00         8.00       107.00      24.00   \n",
       "\n",
       "       good_places  slow_starts  slow_wins  slow_places  soft_starts  \\\n",
       "count    194638.00    194638.00  194638.00    194638.00    194638.00   \n",
       "mean          2.77         1.96       0.25         0.48         3.62   \n",
       "std           3.33         2.52       0.58         0.90         4.09   \n",
       "min           0.00         0.00       0.00         0.00         0.00   \n",
       "25%           0.00         0.00       0.00         0.00         1.00   \n",
       "50%           2.00         1.00       0.00         0.00         2.00   \n",
       "75%           4.00         3.00       0.00         1.00         5.00   \n",
       "max          39.00        27.00       7.00        12.00        38.00   \n",
       "\n",
       "       soft_wins  soft_places  heavy_starts  heavy_wins  heavy_places  \\\n",
       "count  194638.00    194638.00     194638.00   194638.00     194638.00   \n",
       "mean        0.45         0.88          1.31        0.18          0.34   \n",
       "std         0.83         1.34          2.12        0.53          0.78   \n",
       "min         0.00         0.00          0.00        0.00          0.00   \n",
       "25%         0.00         0.00          0.00        0.00          0.00   \n",
       "50%         0.00         0.00          1.00        0.00          0.00   \n",
       "75%         1.00         1.00          2.00        0.00          0.00   \n",
       "max         9.00        16.00         29.00        9.00         11.00   \n",
       "\n",
       "       distance_starts  distance_wins  distance_places  \n",
       "count        194638.00      194638.00        194638.00  \n",
       "mean              7.00           1.03             1.83  \n",
       "std               8.48           1.55             2.61  \n",
       "min               0.00           0.00             0.00  \n",
       "25%               1.00           0.00             0.00  \n",
       "50%               4.00           0.00             1.00  \n",
       "75%              10.00           1.00             3.00  \n",
       "max             105.00          18.00            34.00  "
      ]
     },
     "execution_count": 6,
     "metadata": {},
     "output_type": "execute_result"
    }
   ],
   "source": [
    "df.describe()"
   ]
  },
  {
   "cell_type": "markdown",
   "metadata": {},
   "source": [
    "## Fixing the format of some features:"
   ]
  },
  {
   "cell_type": "code",
   "execution_count": 7,
   "metadata": {
    "scrolled": false
   },
   "outputs": [],
   "source": [
    "df.date = pd.to_datetime(df.date, format='%Y'+'-'+'%m'+'-'+'%d')\n",
    "\n",
    "#removes numbers from end of 'condition' strings\n",
    "df.condition = df.condition.str.replace('\\d+', '')\n",
    "\n",
    "#renaming 'condition' values so that they're uniform\n",
    "df.condition.replace(['HVY','AWT'], ['HEAVY','GOOD'], inplace=True) \n",
    "#AWT equates to a Good surface under some weather conditions"
   ]
  },
  {
   "cell_type": "code",
   "execution_count": 8,
   "metadata": {},
   "outputs": [],
   "source": [
    "df['blinkers'] = df['blinkers'].astype('bool')\n",
    "df['emergency'] = df['emergency'].astype('bool')"
   ]
  },
  {
   "cell_type": "markdown",
   "metadata": {},
   "source": [
    "## Useful cleaning functions for the visualizations below:"
   ]
  },
  {
   "cell_type": "code",
   "execution_count": 9,
   "metadata": {},
   "outputs": [],
   "source": [
    "#Removes races where a chosen column has any null values or where all values are the same\n",
    "def column_cleaner(cleaned_df, grouped_df, column_name):\n",
    "    non_null_indices = grouped_df[column_name].apply(lambda x: all(x.notnull())).\\\n",
    "        where(lambda x: x==True).dropna().index\n",
    "    non_null_df = cleaned_df[cleaned_df.index.isin(non_null_indices)]\n",
    "    \n",
    "    non_null_grouped = non_null_df.groupby(['date','venue_name','race_number','market_name'])\n",
    "    clean_indices = non_null_grouped[column_name].value_counts(normalize=True,dropna=False).\\\n",
    "        where(lambda x:x != 1).dropna().index.droplevel(column_name)\n",
    "    new_cleaned_df = non_null_df[non_null_df.index.isin(clean_indices)]\n",
    "    return new_cleaned_df\n",
    "\n",
    "#Separates off winners of each race\n",
    "def cleaned_win_df(cleaned_df):\n",
    "    win_indices = cleaned_df.position_again.apply(lambda x:x == 1)\n",
    "    df_cleaned_win = cleaned_df[win_indices]\n",
    "    return df_cleaned_win"
   ]
  },
  {
   "cell_type": "markdown",
   "metadata": {},
   "source": [
    "## Feature engineering and cleaning:\n",
    "\n",
    "### Creating a track distance column from market_name:"
   ]
  },
  {
   "cell_type": "code",
   "execution_count": 10,
   "metadata": {},
   "outputs": [
    {
     "data": {
      "text/plain": [
       "0    1200\n",
       "1    1200\n",
       "2    1200\n",
       "3    1200\n",
       "4    1200\n",
       "Name: distance, dtype: int64"
      ]
     },
     "execution_count": 10,
     "metadata": {},
     "output_type": "execute_result"
    }
   ],
   "source": [
    "new = df.market_name.str.split(expand=True)\n",
    "\n",
    "df['distance'] = new[1].str.rstrip('m').astype(np.int64)\n",
    "\n",
    "df.distance.head()"
   ]
  },
  {
   "cell_type": "markdown",
   "metadata": {},
   "source": [
    "### Creating general and track, distance, and condition-specific 'win_percent' and 'place_percent' columns:"
   ]
  },
  {
   "cell_type": "code",
   "execution_count": 11,
   "metadata": {},
   "outputs": [],
   "source": [
    "#creates overall, track, and distance win_percent and place_percent columns\n",
    "#and drops existing wins and places columns\n",
    "columns_list = ['overall','track','distance']\n",
    "\n",
    "for x in columns_list:\n",
    "    df[x+'_win_percent'] = df[x+'_wins']/df[x+'_starts']\n",
    "    \n",
    "    df[x+'_place_percent'] = df[x+'_places']/df[x+'_starts']"
   ]
  },
  {
   "cell_type": "code",
   "execution_count": 12,
   "metadata": {},
   "outputs": [],
   "source": [
    "#creates a condition_starts ,condition_win_percent, and condition_place_percent column\n",
    "#for each horse according to the condition of the track for that race\n",
    "df.loc[df.condition.isna(), 'condition_win_percent'] = np.nan\n",
    "condition_list = ['firm','good','slow','soft','heavy']\n",
    "\n",
    "for x in condition_list: \n",
    "    df.loc[df.condition.str.lower() == x, 'condition_starts'] = df[x+'_starts']\n",
    "    df.loc[df.condition.str.lower() == x, 'condition_win_percent'] = df[x+'_wins']/df[x+'_starts']\n",
    "    df.loc[df.condition.str.lower() == x, 'condition_place_percent'] = df[x+'_places']/df[x+'_starts']\n",
    "    \n",
    "# Replaces infinity (zero division) with NaN\n",
    "df.replace([np.inf, -np.inf], np.nan, inplace=True)"
   ]
  },
  {
   "cell_type": "markdown",
   "metadata": {},
   "source": [
    "### Splits last_twenty_starts column into 20 separate columns, replaces values, then drops last_twenty_starts:"
   ]
  },
  {
   "cell_type": "code",
   "execution_count": 13,
   "metadata": {},
   "outputs": [],
   "source": [
    "new = pd.DataFrame()\n",
    "\n",
    "for i in range(19,-1,-1):\n",
    "    new[i] = df.last_twenty_starts.str[i]\n",
    "    df['last_start'+str(i+1)] = new[i].replace(['0','','x','f'],['ten+','none','scratch','fell'])\n",
    "    \n",
    "df.drop('last_twenty_starts',axis=1,inplace=True)"
   ]
  },
  {
   "cell_type": "markdown",
   "metadata": {},
   "source": [
    "#### Most horse racing websites only have last 10 starts, so I remove starts data beyond that:"
   ]
  },
  {
   "cell_type": "code",
   "execution_count": 14,
   "metadata": {},
   "outputs": [],
   "source": [
    "#drops last_start 11 through 20 to match information provided on racing websites\n",
    "for i in range(10,20):\n",
    "    df.drop('last_start'+str(i+1),axis=1,inplace=True)"
   ]
  },
  {
   "cell_type": "markdown",
   "metadata": {},
   "source": [
    "#### Percentage of horses that have had at least 1 through 10 starts:"
   ]
  },
  {
   "cell_type": "code",
   "execution_count": 15,
   "metadata": {},
   "outputs": [
    {
     "data": {
      "text/plain": [
       "last_start1    83.02\n",
       "last_start2    83.02\n",
       "last_start3    79.74\n",
       "last_start4    76.43\n",
       "last_start5    73.18\n",
       "last_start6    69.85\n",
       "last_start7    66.64\n",
       "last_start8    63.50\n",
       "last_start9    60.52\n",
       "last_start10   57.64\n",
       "dtype: float64"
      ]
     },
     "execution_count": 15,
     "metadata": {},
     "output_type": "execute_result"
    }
   ],
   "source": [
    "start_list = ['last_start'+str(i+1) for i in range(10)]\n",
    "df[start_list].count()/len(df)*100"
   ]
  },
  {
   "cell_type": "markdown",
   "metadata": {},
   "source": [
    "### Reindexing the dataframe:"
   ]
  },
  {
   "cell_type": "code",
   "execution_count": 16,
   "metadata": {},
   "outputs": [],
   "source": [
    "df.set_index(['date','venue_name','race_number','market_name'], inplace=True)\n",
    "df.sort_index(level=['date','venue_name','race_number'], inplace=True)"
   ]
  },
  {
   "cell_type": "markdown",
   "metadata": {},
   "source": [
    "### Cleaning data by removing races with missing win and/or place values in 'position_again' column:"
   ]
  },
  {
   "cell_type": "code",
   "execution_count": 17,
   "metadata": {},
   "outputs": [
    {
     "data": {
      "text/plain": [
       "array([ 1.,  2.,  3., nan,  5.,  4.])"
      ]
     },
     "execution_count": 17,
     "metadata": {},
     "output_type": "execute_result"
    }
   ],
   "source": [
    "#position_again unique values\n",
    "df.position_again.unique()"
   ]
  },
  {
   "cell_type": "code",
   "execution_count": 18,
   "metadata": {},
   "outputs": [],
   "source": [
    "df_grouped = df.groupby(['date','venue_name','race_number','market_name'])\n",
    "\n",
    "#Drops all races in 'position_again' column where sum of values [1st, 2nd, 3rd] don't add to 3 or 6\n",
    "#i.e. 1+2 and 1+2+3\n",
    "index_list1 = df_grouped.position_again.sum().where(lambda x:(x == 3) | (x == 6)).dropna().index\n",
    "df_cleaned = df[df.index.isin(index_list1)]\n",
    "\n",
    "df_grouped = df_cleaned.groupby(['date','venue_name','race_number','market_name'])\n",
    "\n",
    "#Eliminates 'position_again' races where there are duplicate finishes (e.g. 1+1+1) or just one 3rd-place finish\n",
    "index_list2 = df_grouped.position_again.value_counts(normalize=True,dropna=False)\\\n",
    "                .where(lambda x:x != 1).dropna().index.droplevel('position_again')\n",
    "df_cleaned = df_cleaned[df_cleaned.index.isin(index_list2)]\n",
    "\n",
    "df_grouped = df_cleaned.groupby(['date','venue_name','race_number','market_name'])"
   ]
  },
  {
   "cell_type": "markdown",
   "metadata": {},
   "source": [
    "### Standardizing horses across races:\n",
    "\n",
    "#### Creating a weight_z column:"
   ]
  },
  {
   "cell_type": "code",
   "execution_count": 19,
   "metadata": {},
   "outputs": [],
   "source": [
    "df_cleaned['weight_z'] = df_grouped['handicap_weight'].transform(lambda x: zscore(x,ddof=1))\n",
    "\n",
    "df_grouped = df_cleaned.groupby(['date','venue_name','race_number','market_name'])"
   ]
  },
  {
   "cell_type": "markdown",
   "metadata": {},
   "source": [
    "#### Creating a prize_money_per_start_z column:\n",
    "\n",
    "##### This may be one of the best indicators, as prize money is also an indicator of the difficulty of past races. Therefore, the value (meaningfulness) of past wins is taken into consideration."
   ]
  },
  {
   "cell_type": "code",
   "execution_count": 20,
   "metadata": {},
   "outputs": [],
   "source": [
    "#creates prize_money_per_start column\n",
    "df_cleaned['prize_money_per_start'] = df_cleaned.prize_money/df_cleaned.overall_starts\n",
    "\n",
    "df_cleaned['prize_money_per_start_z'] = df_grouped['prize_money_per_start'].transform(lambda x: zscore(x,ddof=1))\n",
    "\n",
    "df_grouped = df_cleaned.groupby(['date','venue_name','race_number','market_name'])"
   ]
  },
  {
   "cell_type": "markdown",
   "metadata": {},
   "source": [
    "#### Creating a horse age_z column:"
   ]
  },
  {
   "cell_type": "code",
   "execution_count": 21,
   "metadata": {},
   "outputs": [],
   "source": [
    "df_cleaned['age_z'] = df_grouped['age'].transform(lambda x: zscore(x,ddof=1))\n",
    "\n",
    "df_grouped = df_cleaned.groupby(['date','venue_name','race_number','market_name'])"
   ]
  },
  {
   "cell_type": "markdown",
   "metadata": {},
   "source": [
    "#### Creating race-relative z-scores for the remaining continuous features:"
   ]
  },
  {
   "cell_type": "code",
   "execution_count": 22,
   "metadata": {},
   "outputs": [],
   "source": [
    "z_score_cols = ['days_since_last_run','overall_win_percent','overall_place_percent',\n",
    "                'distance_win_percent','distance_place_percent','condition_win_percent',\n",
    "                'condition_place_percent','overall_starts','distance_starts','condition_starts',\n",
    "                'track_starts']\n",
    "\n",
    "for col in z_score_cols:\n",
    "    df_cleaned[col+'_z'] = df_grouped[col].transform(lambda x: zscore(x,ddof=1))"
   ]
  },
  {
   "cell_type": "code",
   "execution_count": 23,
   "metadata": {
    "scrolled": true
   },
   "outputs": [
    {
     "data": {
      "text/html": [
       "<div>\n",
       "<style scoped>\n",
       "    .dataframe tbody tr th:only-of-type {\n",
       "        vertical-align: middle;\n",
       "    }\n",
       "\n",
       "    .dataframe tbody tr th {\n",
       "        vertical-align: top;\n",
       "    }\n",
       "\n",
       "    .dataframe thead th {\n",
       "        text-align: right;\n",
       "    }\n",
       "</style>\n",
       "<table border=\"1\" class=\"dataframe\">\n",
       "  <thead>\n",
       "    <tr style=\"text-align: right;\">\n",
       "      <th></th>\n",
       "      <th></th>\n",
       "      <th></th>\n",
       "      <th></th>\n",
       "      <th>position_again</th>\n",
       "      <th>bf_odds</th>\n",
       "      <th>condition</th>\n",
       "      <th>name</th>\n",
       "      <th>barrier</th>\n",
       "      <th>blinkers</th>\n",
       "      <th>emergency</th>\n",
       "      <th>handicap_weight</th>\n",
       "      <th>prize_money</th>\n",
       "      <th>sex</th>\n",
       "      <th>age</th>\n",
       "      <th>jockey_sex</th>\n",
       "      <th>days_since_last_run</th>\n",
       "      <th>overall_starts</th>\n",
       "      <th>overall_wins</th>\n",
       "      <th>overall_places</th>\n",
       "      <th>track_starts</th>\n",
       "      <th>track_wins</th>\n",
       "      <th>track_places</th>\n",
       "      <th>firm_starts</th>\n",
       "      <th>firm_wins</th>\n",
       "      <th>firm_places</th>\n",
       "      <th>good_starts</th>\n",
       "      <th>good_wins</th>\n",
       "      <th>good_places</th>\n",
       "      <th>slow_starts</th>\n",
       "      <th>slow_wins</th>\n",
       "      <th>slow_places</th>\n",
       "      <th>soft_starts</th>\n",
       "      <th>soft_wins</th>\n",
       "      <th>soft_places</th>\n",
       "      <th>heavy_starts</th>\n",
       "      <th>heavy_wins</th>\n",
       "      <th>heavy_places</th>\n",
       "      <th>distance_starts</th>\n",
       "      <th>distance_wins</th>\n",
       "      <th>distance_places</th>\n",
       "      <th>distance</th>\n",
       "      <th>overall_win_percent</th>\n",
       "      <th>overall_place_percent</th>\n",
       "      <th>track_win_percent</th>\n",
       "      <th>track_place_percent</th>\n",
       "      <th>distance_win_percent</th>\n",
       "      <th>distance_place_percent</th>\n",
       "      <th>condition_win_percent</th>\n",
       "      <th>condition_starts</th>\n",
       "      <th>condition_place_percent</th>\n",
       "      <th>last_start10</th>\n",
       "      <th>last_start9</th>\n",
       "      <th>last_start8</th>\n",
       "      <th>last_start7</th>\n",
       "      <th>last_start6</th>\n",
       "      <th>last_start5</th>\n",
       "      <th>last_start4</th>\n",
       "      <th>last_start3</th>\n",
       "      <th>last_start2</th>\n",
       "      <th>last_start1</th>\n",
       "      <th>weight_z</th>\n",
       "      <th>prize_money_per_start</th>\n",
       "      <th>prize_money_per_start_z</th>\n",
       "      <th>age_z</th>\n",
       "      <th>days_since_last_run_z</th>\n",
       "      <th>overall_win_percent_z</th>\n",
       "      <th>overall_place_percent_z</th>\n",
       "      <th>distance_win_percent_z</th>\n",
       "      <th>distance_place_percent_z</th>\n",
       "      <th>condition_win_percent_z</th>\n",
       "      <th>condition_place_percent_z</th>\n",
       "      <th>overall_starts_z</th>\n",
       "      <th>distance_starts_z</th>\n",
       "      <th>condition_starts_z</th>\n",
       "      <th>track_starts_z</th>\n",
       "    </tr>\n",
       "    <tr>\n",
       "      <th>date</th>\n",
       "      <th>venue_name</th>\n",
       "      <th>race_number</th>\n",
       "      <th>market_name</th>\n",
       "      <th></th>\n",
       "      <th></th>\n",
       "      <th></th>\n",
       "      <th></th>\n",
       "      <th></th>\n",
       "      <th></th>\n",
       "      <th></th>\n",
       "      <th></th>\n",
       "      <th></th>\n",
       "      <th></th>\n",
       "      <th></th>\n",
       "      <th></th>\n",
       "      <th></th>\n",
       "      <th></th>\n",
       "      <th></th>\n",
       "      <th></th>\n",
       "      <th></th>\n",
       "      <th></th>\n",
       "      <th></th>\n",
       "      <th></th>\n",
       "      <th></th>\n",
       "      <th></th>\n",
       "      <th></th>\n",
       "      <th></th>\n",
       "      <th></th>\n",
       "      <th></th>\n",
       "      <th></th>\n",
       "      <th></th>\n",
       "      <th></th>\n",
       "      <th></th>\n",
       "      <th></th>\n",
       "      <th></th>\n",
       "      <th></th>\n",
       "      <th></th>\n",
       "      <th></th>\n",
       "      <th></th>\n",
       "      <th></th>\n",
       "      <th></th>\n",
       "      <th></th>\n",
       "      <th></th>\n",
       "      <th></th>\n",
       "      <th></th>\n",
       "      <th></th>\n",
       "      <th></th>\n",
       "      <th></th>\n",
       "      <th></th>\n",
       "      <th></th>\n",
       "      <th></th>\n",
       "      <th></th>\n",
       "      <th></th>\n",
       "      <th></th>\n",
       "      <th></th>\n",
       "      <th></th>\n",
       "      <th></th>\n",
       "      <th></th>\n",
       "      <th></th>\n",
       "      <th></th>\n",
       "      <th></th>\n",
       "      <th></th>\n",
       "      <th></th>\n",
       "      <th></th>\n",
       "      <th></th>\n",
       "      <th></th>\n",
       "      <th></th>\n",
       "      <th></th>\n",
       "      <th></th>\n",
       "      <th></th>\n",
       "      <th></th>\n",
       "      <th></th>\n",
       "      <th></th>\n",
       "      <th></th>\n",
       "      <th></th>\n",
       "    </tr>\n",
       "  </thead>\n",
       "  <tbody>\n",
       "    <tr>\n",
       "      <th rowspan=\"5\" valign=\"top\">2016-06-27</th>\n",
       "      <th rowspan=\"5\" valign=\"top\">Echuca</th>\n",
       "      <th rowspan=\"5\" valign=\"top\">3</th>\n",
       "      <th>R3 1200m Mdn</th>\n",
       "      <td>1.00</td>\n",
       "      <td>2.88</td>\n",
       "      <td>HEAVY</td>\n",
       "      <td>CORONATION LANCE</td>\n",
       "      <td>3.00</td>\n",
       "      <td>False</td>\n",
       "      <td>False</td>\n",
       "      <td>58.50</td>\n",
       "      <td>2160.00</td>\n",
       "      <td>Gelding</td>\n",
       "      <td>3.00</td>\n",
       "      <td>Male</td>\n",
       "      <td>14.00</td>\n",
       "      <td>1.00</td>\n",
       "      <td>0.00</td>\n",
       "      <td>1.00</td>\n",
       "      <td>0.00</td>\n",
       "      <td>0.00</td>\n",
       "      <td>0.00</td>\n",
       "      <td>0.00</td>\n",
       "      <td>0.00</td>\n",
       "      <td>0.00</td>\n",
       "      <td>0.00</td>\n",
       "      <td>0.00</td>\n",
       "      <td>0.00</td>\n",
       "      <td>1.00</td>\n",
       "      <td>0.00</td>\n",
       "      <td>1.00</td>\n",
       "      <td>1.00</td>\n",
       "      <td>0.00</td>\n",
       "      <td>1.00</td>\n",
       "      <td>0.00</td>\n",
       "      <td>0.00</td>\n",
       "      <td>0.00</td>\n",
       "      <td>1.00</td>\n",
       "      <td>0.00</td>\n",
       "      <td>1.00</td>\n",
       "      <td>1200</td>\n",
       "      <td>0.00</td>\n",
       "      <td>1.00</td>\n",
       "      <td>nan</td>\n",
       "      <td>nan</td>\n",
       "      <td>0.00</td>\n",
       "      <td>1.00</td>\n",
       "      <td>nan</td>\n",
       "      <td>0.00</td>\n",
       "      <td>nan</td>\n",
       "      <td>NaN</td>\n",
       "      <td>NaN</td>\n",
       "      <td>NaN</td>\n",
       "      <td>NaN</td>\n",
       "      <td>NaN</td>\n",
       "      <td>NaN</td>\n",
       "      <td>NaN</td>\n",
       "      <td>NaN</td>\n",
       "      <td>3</td>\n",
       "      <td>fell</td>\n",
       "      <td>1.56</td>\n",
       "      <td>2160.00</td>\n",
       "      <td>-0.28</td>\n",
       "      <td>-0.94</td>\n",
       "      <td>-0.61</td>\n",
       "      <td>nan</td>\n",
       "      <td>2.52</td>\n",
       "      <td>nan</td>\n",
       "      <td>nan</td>\n",
       "      <td>nan</td>\n",
       "      <td>nan</td>\n",
       "      <td>-0.72</td>\n",
       "      <td>-0.56</td>\n",
       "      <td>-0.58</td>\n",
       "      <td>-0.39</td>\n",
       "    </tr>\n",
       "    <tr>\n",
       "      <th>R3 1200m Mdn</th>\n",
       "      <td>2.00</td>\n",
       "      <td>15.00</td>\n",
       "      <td>HEAVY</td>\n",
       "      <td>THUNDER GUN</td>\n",
       "      <td>10.00</td>\n",
       "      <td>False</td>\n",
       "      <td>False</td>\n",
       "      <td>58.50</td>\n",
       "      <td>21175.00</td>\n",
       "      <td>Gelding</td>\n",
       "      <td>5.00</td>\n",
       "      <td>Male</td>\n",
       "      <td>39.00</td>\n",
       "      <td>5.00</td>\n",
       "      <td>0.00</td>\n",
       "      <td>1.00</td>\n",
       "      <td>0.00</td>\n",
       "      <td>0.00</td>\n",
       "      <td>0.00</td>\n",
       "      <td>0.00</td>\n",
       "      <td>0.00</td>\n",
       "      <td>0.00</td>\n",
       "      <td>2.00</td>\n",
       "      <td>0.00</td>\n",
       "      <td>0.00</td>\n",
       "      <td>2.00</td>\n",
       "      <td>0.00</td>\n",
       "      <td>1.00</td>\n",
       "      <td>2.00</td>\n",
       "      <td>0.00</td>\n",
       "      <td>1.00</td>\n",
       "      <td>1.00</td>\n",
       "      <td>0.00</td>\n",
       "      <td>0.00</td>\n",
       "      <td>1.00</td>\n",
       "      <td>0.00</td>\n",
       "      <td>1.00</td>\n",
       "      <td>1200</td>\n",
       "      <td>0.00</td>\n",
       "      <td>0.20</td>\n",
       "      <td>nan</td>\n",
       "      <td>nan</td>\n",
       "      <td>0.00</td>\n",
       "      <td>1.00</td>\n",
       "      <td>0.00</td>\n",
       "      <td>1.00</td>\n",
       "      <td>0.00</td>\n",
       "      <td>NaN</td>\n",
       "      <td>2</td>\n",
       "      <td>scratch</td>\n",
       "      <td>ten+</td>\n",
       "      <td>8</td>\n",
       "      <td>scratch</td>\n",
       "      <td>6</td>\n",
       "      <td>scratch</td>\n",
       "      <td>ten+</td>\n",
       "      <td>fell</td>\n",
       "      <td>1.56</td>\n",
       "      <td>4235.00</td>\n",
       "      <td>0.59</td>\n",
       "      <td>0.54</td>\n",
       "      <td>-0.20</td>\n",
       "      <td>nan</td>\n",
       "      <td>0.05</td>\n",
       "      <td>nan</td>\n",
       "      <td>nan</td>\n",
       "      <td>nan</td>\n",
       "      <td>nan</td>\n",
       "      <td>0.07</td>\n",
       "      <td>-0.56</td>\n",
       "      <td>0.49</td>\n",
       "      <td>-0.39</td>\n",
       "    </tr>\n",
       "    <tr>\n",
       "      <th>R3 1200m Mdn</th>\n",
       "      <td>3.00</td>\n",
       "      <td>95.00</td>\n",
       "      <td>HEAVY</td>\n",
       "      <td>JUST LEAVE</td>\n",
       "      <td>6.00</td>\n",
       "      <td>False</td>\n",
       "      <td>False</td>\n",
       "      <td>56.50</td>\n",
       "      <td>28855.00</td>\n",
       "      <td>Mare</td>\n",
       "      <td>6.00</td>\n",
       "      <td>Male</td>\n",
       "      <td>15.00</td>\n",
       "      <td>10.00</td>\n",
       "      <td>0.00</td>\n",
       "      <td>0.00</td>\n",
       "      <td>0.00</td>\n",
       "      <td>0.00</td>\n",
       "      <td>0.00</td>\n",
       "      <td>0.00</td>\n",
       "      <td>0.00</td>\n",
       "      <td>0.00</td>\n",
       "      <td>2.00</td>\n",
       "      <td>0.00</td>\n",
       "      <td>0.00</td>\n",
       "      <td>1.00</td>\n",
       "      <td>0.00</td>\n",
       "      <td>0.00</td>\n",
       "      <td>5.00</td>\n",
       "      <td>0.00</td>\n",
       "      <td>0.00</td>\n",
       "      <td>3.00</td>\n",
       "      <td>0.00</td>\n",
       "      <td>0.00</td>\n",
       "      <td>4.00</td>\n",
       "      <td>0.00</td>\n",
       "      <td>0.00</td>\n",
       "      <td>1200</td>\n",
       "      <td>0.00</td>\n",
       "      <td>0.00</td>\n",
       "      <td>nan</td>\n",
       "      <td>nan</td>\n",
       "      <td>0.00</td>\n",
       "      <td>0.00</td>\n",
       "      <td>0.00</td>\n",
       "      <td>3.00</td>\n",
       "      <td>0.00</td>\n",
       "      <td>scratch</td>\n",
       "      <td>9</td>\n",
       "      <td>7</td>\n",
       "      <td>5</td>\n",
       "      <td>7</td>\n",
       "      <td>7</td>\n",
       "      <td>4</td>\n",
       "      <td>8</td>\n",
       "      <td>6</td>\n",
       "      <td>fell</td>\n",
       "      <td>-0.58</td>\n",
       "      <td>2885.50</td>\n",
       "      <td>0.02</td>\n",
       "      <td>1.28</td>\n",
       "      <td>-0.60</td>\n",
       "      <td>nan</td>\n",
       "      <td>-0.56</td>\n",
       "      <td>nan</td>\n",
       "      <td>nan</td>\n",
       "      <td>nan</td>\n",
       "      <td>nan</td>\n",
       "      <td>1.06</td>\n",
       "      <td>0.41</td>\n",
       "      <td>2.63</td>\n",
       "      <td>-0.39</td>\n",
       "    </tr>\n",
       "    <tr>\n",
       "      <th>R3 1200m Mdn</th>\n",
       "      <td>nan</td>\n",
       "      <td>20.00</td>\n",
       "      <td>HEAVY</td>\n",
       "      <td>ONYA SKATES KATE</td>\n",
       "      <td>2.00</td>\n",
       "      <td>False</td>\n",
       "      <td>False</td>\n",
       "      <td>56.50</td>\n",
       "      <td>1475.00</td>\n",
       "      <td>Filly</td>\n",
       "      <td>3.00</td>\n",
       "      <td>Male</td>\n",
       "      <td>15.00</td>\n",
       "      <td>1.00</td>\n",
       "      <td>0.00</td>\n",
       "      <td>0.00</td>\n",
       "      <td>0.00</td>\n",
       "      <td>0.00</td>\n",
       "      <td>0.00</td>\n",
       "      <td>0.00</td>\n",
       "      <td>0.00</td>\n",
       "      <td>0.00</td>\n",
       "      <td>0.00</td>\n",
       "      <td>0.00</td>\n",
       "      <td>0.00</td>\n",
       "      <td>0.00</td>\n",
       "      <td>0.00</td>\n",
       "      <td>0.00</td>\n",
       "      <td>1.00</td>\n",
       "      <td>0.00</td>\n",
       "      <td>0.00</td>\n",
       "      <td>0.00</td>\n",
       "      <td>0.00</td>\n",
       "      <td>0.00</td>\n",
       "      <td>1.00</td>\n",
       "      <td>0.00</td>\n",
       "      <td>0.00</td>\n",
       "      <td>1200</td>\n",
       "      <td>0.00</td>\n",
       "      <td>0.00</td>\n",
       "      <td>nan</td>\n",
       "      <td>nan</td>\n",
       "      <td>0.00</td>\n",
       "      <td>0.00</td>\n",
       "      <td>nan</td>\n",
       "      <td>0.00</td>\n",
       "      <td>nan</td>\n",
       "      <td>NaN</td>\n",
       "      <td>NaN</td>\n",
       "      <td>NaN</td>\n",
       "      <td>NaN</td>\n",
       "      <td>NaN</td>\n",
       "      <td>NaN</td>\n",
       "      <td>NaN</td>\n",
       "      <td>NaN</td>\n",
       "      <td>ten+</td>\n",
       "      <td>fell</td>\n",
       "      <td>-0.58</td>\n",
       "      <td>1475.00</td>\n",
       "      <td>-0.57</td>\n",
       "      <td>-0.94</td>\n",
       "      <td>-0.60</td>\n",
       "      <td>nan</td>\n",
       "      <td>-0.56</td>\n",
       "      <td>nan</td>\n",
       "      <td>nan</td>\n",
       "      <td>nan</td>\n",
       "      <td>nan</td>\n",
       "      <td>-0.72</td>\n",
       "      <td>-0.56</td>\n",
       "      <td>-0.58</td>\n",
       "      <td>-0.39</td>\n",
       "    </tr>\n",
       "    <tr>\n",
       "      <th>R3 1200m Mdn</th>\n",
       "      <td>nan</td>\n",
       "      <td>2.74</td>\n",
       "      <td>HEAVY</td>\n",
       "      <td>DISSEMINATE</td>\n",
       "      <td>7.00</td>\n",
       "      <td>False</td>\n",
       "      <td>False</td>\n",
       "      <td>56.50</td>\n",
       "      <td>1215.00</td>\n",
       "      <td>Filly</td>\n",
       "      <td>3.00</td>\n",
       "      <td>Male</td>\n",
       "      <td>173.00</td>\n",
       "      <td>1.00</td>\n",
       "      <td>0.00</td>\n",
       "      <td>0.00</td>\n",
       "      <td>0.00</td>\n",
       "      <td>0.00</td>\n",
       "      <td>0.00</td>\n",
       "      <td>0.00</td>\n",
       "      <td>0.00</td>\n",
       "      <td>0.00</td>\n",
       "      <td>1.00</td>\n",
       "      <td>0.00</td>\n",
       "      <td>0.00</td>\n",
       "      <td>0.00</td>\n",
       "      <td>0.00</td>\n",
       "      <td>0.00</td>\n",
       "      <td>0.00</td>\n",
       "      <td>0.00</td>\n",
       "      <td>0.00</td>\n",
       "      <td>0.00</td>\n",
       "      <td>0.00</td>\n",
       "      <td>0.00</td>\n",
       "      <td>1.00</td>\n",
       "      <td>0.00</td>\n",
       "      <td>0.00</td>\n",
       "      <td>1200</td>\n",
       "      <td>0.00</td>\n",
       "      <td>0.00</td>\n",
       "      <td>nan</td>\n",
       "      <td>nan</td>\n",
       "      <td>0.00</td>\n",
       "      <td>0.00</td>\n",
       "      <td>nan</td>\n",
       "      <td>0.00</td>\n",
       "      <td>nan</td>\n",
       "      <td>NaN</td>\n",
       "      <td>NaN</td>\n",
       "      <td>NaN</td>\n",
       "      <td>NaN</td>\n",
       "      <td>NaN</td>\n",
       "      <td>NaN</td>\n",
       "      <td>NaN</td>\n",
       "      <td>scratch</td>\n",
       "      <td>4</td>\n",
       "      <td>fell</td>\n",
       "      <td>-0.58</td>\n",
       "      <td>1215.00</td>\n",
       "      <td>-0.68</td>\n",
       "      <td>-0.94</td>\n",
       "      <td>2.00</td>\n",
       "      <td>nan</td>\n",
       "      <td>-0.56</td>\n",
       "      <td>nan</td>\n",
       "      <td>nan</td>\n",
       "      <td>nan</td>\n",
       "      <td>nan</td>\n",
       "      <td>-0.72</td>\n",
       "      <td>-0.56</td>\n",
       "      <td>-0.58</td>\n",
       "      <td>-0.39</td>\n",
       "    </tr>\n",
       "  </tbody>\n",
       "</table>\n",
       "</div>"
      ],
      "text/plain": [
       "                                                position_again  bf_odds  \\\n",
       "date       venue_name race_number market_name                             \n",
       "2016-06-27 Echuca     3           R3 1200m Mdn            1.00     2.88   \n",
       "                                  R3 1200m Mdn            2.00    15.00   \n",
       "                                  R3 1200m Mdn            3.00    95.00   \n",
       "                                  R3 1200m Mdn             nan    20.00   \n",
       "                                  R3 1200m Mdn             nan     2.74   \n",
       "\n",
       "                                               condition              name  \\\n",
       "date       venue_name race_number market_name                                \n",
       "2016-06-27 Echuca     3           R3 1200m Mdn     HEAVY  CORONATION LANCE   \n",
       "                                  R3 1200m Mdn     HEAVY       THUNDER GUN   \n",
       "                                  R3 1200m Mdn     HEAVY        JUST LEAVE   \n",
       "                                  R3 1200m Mdn     HEAVY  ONYA SKATES KATE   \n",
       "                                  R3 1200m Mdn     HEAVY       DISSEMINATE   \n",
       "\n",
       "                                                barrier  blinkers  emergency  \\\n",
       "date       venue_name race_number market_name                                  \n",
       "2016-06-27 Echuca     3           R3 1200m Mdn     3.00     False      False   \n",
       "                                  R3 1200m Mdn    10.00     False      False   \n",
       "                                  R3 1200m Mdn     6.00     False      False   \n",
       "                                  R3 1200m Mdn     2.00     False      False   \n",
       "                                  R3 1200m Mdn     7.00     False      False   \n",
       "\n",
       "                                                handicap_weight  prize_money  \\\n",
       "date       venue_name race_number market_name                                  \n",
       "2016-06-27 Echuca     3           R3 1200m Mdn            58.50      2160.00   \n",
       "                                  R3 1200m Mdn            58.50     21175.00   \n",
       "                                  R3 1200m Mdn            56.50     28855.00   \n",
       "                                  R3 1200m Mdn            56.50      1475.00   \n",
       "                                  R3 1200m Mdn            56.50      1215.00   \n",
       "\n",
       "                                                    sex  age jockey_sex  \\\n",
       "date       venue_name race_number market_name                             \n",
       "2016-06-27 Echuca     3           R3 1200m Mdn  Gelding 3.00       Male   \n",
       "                                  R3 1200m Mdn  Gelding 5.00       Male   \n",
       "                                  R3 1200m Mdn     Mare 6.00       Male   \n",
       "                                  R3 1200m Mdn    Filly 3.00       Male   \n",
       "                                  R3 1200m Mdn    Filly 3.00       Male   \n",
       "\n",
       "                                                days_since_last_run  \\\n",
       "date       venue_name race_number market_name                         \n",
       "2016-06-27 Echuca     3           R3 1200m Mdn                14.00   \n",
       "                                  R3 1200m Mdn                39.00   \n",
       "                                  R3 1200m Mdn                15.00   \n",
       "                                  R3 1200m Mdn                15.00   \n",
       "                                  R3 1200m Mdn               173.00   \n",
       "\n",
       "                                                overall_starts  overall_wins  \\\n",
       "date       venue_name race_number market_name                                  \n",
       "2016-06-27 Echuca     3           R3 1200m Mdn            1.00          0.00   \n",
       "                                  R3 1200m Mdn            5.00          0.00   \n",
       "                                  R3 1200m Mdn           10.00          0.00   \n",
       "                                  R3 1200m Mdn            1.00          0.00   \n",
       "                                  R3 1200m Mdn            1.00          0.00   \n",
       "\n",
       "                                                overall_places  track_starts  \\\n",
       "date       venue_name race_number market_name                                  \n",
       "2016-06-27 Echuca     3           R3 1200m Mdn            1.00          0.00   \n",
       "                                  R3 1200m Mdn            1.00          0.00   \n",
       "                                  R3 1200m Mdn            0.00          0.00   \n",
       "                                  R3 1200m Mdn            0.00          0.00   \n",
       "                                  R3 1200m Mdn            0.00          0.00   \n",
       "\n",
       "                                                track_wins  track_places  \\\n",
       "date       venue_name race_number market_name                              \n",
       "2016-06-27 Echuca     3           R3 1200m Mdn        0.00          0.00   \n",
       "                                  R3 1200m Mdn        0.00          0.00   \n",
       "                                  R3 1200m Mdn        0.00          0.00   \n",
       "                                  R3 1200m Mdn        0.00          0.00   \n",
       "                                  R3 1200m Mdn        0.00          0.00   \n",
       "\n",
       "                                                firm_starts  firm_wins  \\\n",
       "date       venue_name race_number market_name                            \n",
       "2016-06-27 Echuca     3           R3 1200m Mdn         0.00       0.00   \n",
       "                                  R3 1200m Mdn         0.00       0.00   \n",
       "                                  R3 1200m Mdn         0.00       0.00   \n",
       "                                  R3 1200m Mdn         0.00       0.00   \n",
       "                                  R3 1200m Mdn         0.00       0.00   \n",
       "\n",
       "                                                firm_places  good_starts  \\\n",
       "date       venue_name race_number market_name                              \n",
       "2016-06-27 Echuca     3           R3 1200m Mdn         0.00         0.00   \n",
       "                                  R3 1200m Mdn         0.00         2.00   \n",
       "                                  R3 1200m Mdn         0.00         2.00   \n",
       "                                  R3 1200m Mdn         0.00         0.00   \n",
       "                                  R3 1200m Mdn         0.00         1.00   \n",
       "\n",
       "                                                good_wins  good_places  \\\n",
       "date       venue_name race_number market_name                            \n",
       "2016-06-27 Echuca     3           R3 1200m Mdn       0.00         0.00   \n",
       "                                  R3 1200m Mdn       0.00         0.00   \n",
       "                                  R3 1200m Mdn       0.00         0.00   \n",
       "                                  R3 1200m Mdn       0.00         0.00   \n",
       "                                  R3 1200m Mdn       0.00         0.00   \n",
       "\n",
       "                                                slow_starts  slow_wins  \\\n",
       "date       venue_name race_number market_name                            \n",
       "2016-06-27 Echuca     3           R3 1200m Mdn         1.00       0.00   \n",
       "                                  R3 1200m Mdn         2.00       0.00   \n",
       "                                  R3 1200m Mdn         1.00       0.00   \n",
       "                                  R3 1200m Mdn         0.00       0.00   \n",
       "                                  R3 1200m Mdn         0.00       0.00   \n",
       "\n",
       "                                                slow_places  soft_starts  \\\n",
       "date       venue_name race_number market_name                              \n",
       "2016-06-27 Echuca     3           R3 1200m Mdn         1.00         1.00   \n",
       "                                  R3 1200m Mdn         1.00         2.00   \n",
       "                                  R3 1200m Mdn         0.00         5.00   \n",
       "                                  R3 1200m Mdn         0.00         1.00   \n",
       "                                  R3 1200m Mdn         0.00         0.00   \n",
       "\n",
       "                                                soft_wins  soft_places  \\\n",
       "date       venue_name race_number market_name                            \n",
       "2016-06-27 Echuca     3           R3 1200m Mdn       0.00         1.00   \n",
       "                                  R3 1200m Mdn       0.00         1.00   \n",
       "                                  R3 1200m Mdn       0.00         0.00   \n",
       "                                  R3 1200m Mdn       0.00         0.00   \n",
       "                                  R3 1200m Mdn       0.00         0.00   \n",
       "\n",
       "                                                heavy_starts  heavy_wins  \\\n",
       "date       venue_name race_number market_name                              \n",
       "2016-06-27 Echuca     3           R3 1200m Mdn          0.00        0.00   \n",
       "                                  R3 1200m Mdn          1.00        0.00   \n",
       "                                  R3 1200m Mdn          3.00        0.00   \n",
       "                                  R3 1200m Mdn          0.00        0.00   \n",
       "                                  R3 1200m Mdn          0.00        0.00   \n",
       "\n",
       "                                                heavy_places  distance_starts  \\\n",
       "date       venue_name race_number market_name                                   \n",
       "2016-06-27 Echuca     3           R3 1200m Mdn          0.00             1.00   \n",
       "                                  R3 1200m Mdn          0.00             1.00   \n",
       "                                  R3 1200m Mdn          0.00             4.00   \n",
       "                                  R3 1200m Mdn          0.00             1.00   \n",
       "                                  R3 1200m Mdn          0.00             1.00   \n",
       "\n",
       "                                                distance_wins  \\\n",
       "date       venue_name race_number market_name                   \n",
       "2016-06-27 Echuca     3           R3 1200m Mdn           0.00   \n",
       "                                  R3 1200m Mdn           0.00   \n",
       "                                  R3 1200m Mdn           0.00   \n",
       "                                  R3 1200m Mdn           0.00   \n",
       "                                  R3 1200m Mdn           0.00   \n",
       "\n",
       "                                                distance_places  distance  \\\n",
       "date       venue_name race_number market_name                               \n",
       "2016-06-27 Echuca     3           R3 1200m Mdn             1.00      1200   \n",
       "                                  R3 1200m Mdn             1.00      1200   \n",
       "                                  R3 1200m Mdn             0.00      1200   \n",
       "                                  R3 1200m Mdn             0.00      1200   \n",
       "                                  R3 1200m Mdn             0.00      1200   \n",
       "\n",
       "                                                overall_win_percent  \\\n",
       "date       venue_name race_number market_name                         \n",
       "2016-06-27 Echuca     3           R3 1200m Mdn                 0.00   \n",
       "                                  R3 1200m Mdn                 0.00   \n",
       "                                  R3 1200m Mdn                 0.00   \n",
       "                                  R3 1200m Mdn                 0.00   \n",
       "                                  R3 1200m Mdn                 0.00   \n",
       "\n",
       "                                                overall_place_percent  \\\n",
       "date       venue_name race_number market_name                           \n",
       "2016-06-27 Echuca     3           R3 1200m Mdn                   1.00   \n",
       "                                  R3 1200m Mdn                   0.20   \n",
       "                                  R3 1200m Mdn                   0.00   \n",
       "                                  R3 1200m Mdn                   0.00   \n",
       "                                  R3 1200m Mdn                   0.00   \n",
       "\n",
       "                                                track_win_percent  \\\n",
       "date       venue_name race_number market_name                       \n",
       "2016-06-27 Echuca     3           R3 1200m Mdn                nan   \n",
       "                                  R3 1200m Mdn                nan   \n",
       "                                  R3 1200m Mdn                nan   \n",
       "                                  R3 1200m Mdn                nan   \n",
       "                                  R3 1200m Mdn                nan   \n",
       "\n",
       "                                                track_place_percent  \\\n",
       "date       venue_name race_number market_name                         \n",
       "2016-06-27 Echuca     3           R3 1200m Mdn                  nan   \n",
       "                                  R3 1200m Mdn                  nan   \n",
       "                                  R3 1200m Mdn                  nan   \n",
       "                                  R3 1200m Mdn                  nan   \n",
       "                                  R3 1200m Mdn                  nan   \n",
       "\n",
       "                                                distance_win_percent  \\\n",
       "date       venue_name race_number market_name                          \n",
       "2016-06-27 Echuca     3           R3 1200m Mdn                  0.00   \n",
       "                                  R3 1200m Mdn                  0.00   \n",
       "                                  R3 1200m Mdn                  0.00   \n",
       "                                  R3 1200m Mdn                  0.00   \n",
       "                                  R3 1200m Mdn                  0.00   \n",
       "\n",
       "                                                distance_place_percent  \\\n",
       "date       venue_name race_number market_name                            \n",
       "2016-06-27 Echuca     3           R3 1200m Mdn                    1.00   \n",
       "                                  R3 1200m Mdn                    1.00   \n",
       "                                  R3 1200m Mdn                    0.00   \n",
       "                                  R3 1200m Mdn                    0.00   \n",
       "                                  R3 1200m Mdn                    0.00   \n",
       "\n",
       "                                                condition_win_percent  \\\n",
       "date       venue_name race_number market_name                           \n",
       "2016-06-27 Echuca     3           R3 1200m Mdn                    nan   \n",
       "                                  R3 1200m Mdn                   0.00   \n",
       "                                  R3 1200m Mdn                   0.00   \n",
       "                                  R3 1200m Mdn                    nan   \n",
       "                                  R3 1200m Mdn                    nan   \n",
       "\n",
       "                                                condition_starts  \\\n",
       "date       venue_name race_number market_name                      \n",
       "2016-06-27 Echuca     3           R3 1200m Mdn              0.00   \n",
       "                                  R3 1200m Mdn              1.00   \n",
       "                                  R3 1200m Mdn              3.00   \n",
       "                                  R3 1200m Mdn              0.00   \n",
       "                                  R3 1200m Mdn              0.00   \n",
       "\n",
       "                                                condition_place_percent  \\\n",
       "date       venue_name race_number market_name                             \n",
       "2016-06-27 Echuca     3           R3 1200m Mdn                      nan   \n",
       "                                  R3 1200m Mdn                     0.00   \n",
       "                                  R3 1200m Mdn                     0.00   \n",
       "                                  R3 1200m Mdn                      nan   \n",
       "                                  R3 1200m Mdn                      nan   \n",
       "\n",
       "                                               last_start10 last_start9  \\\n",
       "date       venue_name race_number market_name                             \n",
       "2016-06-27 Echuca     3           R3 1200m Mdn          NaN         NaN   \n",
       "                                  R3 1200m Mdn          NaN           2   \n",
       "                                  R3 1200m Mdn      scratch           9   \n",
       "                                  R3 1200m Mdn          NaN         NaN   \n",
       "                                  R3 1200m Mdn          NaN         NaN   \n",
       "\n",
       "                                               last_start8 last_start7  \\\n",
       "date       venue_name race_number market_name                            \n",
       "2016-06-27 Echuca     3           R3 1200m Mdn         NaN         NaN   \n",
       "                                  R3 1200m Mdn     scratch        ten+   \n",
       "                                  R3 1200m Mdn           7           5   \n",
       "                                  R3 1200m Mdn         NaN         NaN   \n",
       "                                  R3 1200m Mdn         NaN         NaN   \n",
       "\n",
       "                                               last_start6 last_start5  \\\n",
       "date       venue_name race_number market_name                            \n",
       "2016-06-27 Echuca     3           R3 1200m Mdn         NaN         NaN   \n",
       "                                  R3 1200m Mdn           8     scratch   \n",
       "                                  R3 1200m Mdn           7           7   \n",
       "                                  R3 1200m Mdn         NaN         NaN   \n",
       "                                  R3 1200m Mdn         NaN         NaN   \n",
       "\n",
       "                                               last_start4 last_start3  \\\n",
       "date       venue_name race_number market_name                            \n",
       "2016-06-27 Echuca     3           R3 1200m Mdn         NaN         NaN   \n",
       "                                  R3 1200m Mdn           6     scratch   \n",
       "                                  R3 1200m Mdn           4           8   \n",
       "                                  R3 1200m Mdn         NaN         NaN   \n",
       "                                  R3 1200m Mdn         NaN     scratch   \n",
       "\n",
       "                                               last_start2 last_start1  \\\n",
       "date       venue_name race_number market_name                            \n",
       "2016-06-27 Echuca     3           R3 1200m Mdn           3        fell   \n",
       "                                  R3 1200m Mdn        ten+        fell   \n",
       "                                  R3 1200m Mdn           6        fell   \n",
       "                                  R3 1200m Mdn        ten+        fell   \n",
       "                                  R3 1200m Mdn           4        fell   \n",
       "\n",
       "                                                weight_z  \\\n",
       "date       venue_name race_number market_name              \n",
       "2016-06-27 Echuca     3           R3 1200m Mdn      1.56   \n",
       "                                  R3 1200m Mdn      1.56   \n",
       "                                  R3 1200m Mdn     -0.58   \n",
       "                                  R3 1200m Mdn     -0.58   \n",
       "                                  R3 1200m Mdn     -0.58   \n",
       "\n",
       "                                                prize_money_per_start  \\\n",
       "date       venue_name race_number market_name                           \n",
       "2016-06-27 Echuca     3           R3 1200m Mdn                2160.00   \n",
       "                                  R3 1200m Mdn                4235.00   \n",
       "                                  R3 1200m Mdn                2885.50   \n",
       "                                  R3 1200m Mdn                1475.00   \n",
       "                                  R3 1200m Mdn                1215.00   \n",
       "\n",
       "                                                prize_money_per_start_z  \\\n",
       "date       venue_name race_number market_name                             \n",
       "2016-06-27 Echuca     3           R3 1200m Mdn                    -0.28   \n",
       "                                  R3 1200m Mdn                     0.59   \n",
       "                                  R3 1200m Mdn                     0.02   \n",
       "                                  R3 1200m Mdn                    -0.57   \n",
       "                                  R3 1200m Mdn                    -0.68   \n",
       "\n",
       "                                                age_z  days_since_last_run_z  \\\n",
       "date       venue_name race_number market_name                                  \n",
       "2016-06-27 Echuca     3           R3 1200m Mdn  -0.94                  -0.61   \n",
       "                                  R3 1200m Mdn   0.54                  -0.20   \n",
       "                                  R3 1200m Mdn   1.28                  -0.60   \n",
       "                                  R3 1200m Mdn  -0.94                  -0.60   \n",
       "                                  R3 1200m Mdn  -0.94                   2.00   \n",
       "\n",
       "                                                overall_win_percent_z  \\\n",
       "date       venue_name race_number market_name                           \n",
       "2016-06-27 Echuca     3           R3 1200m Mdn                    nan   \n",
       "                                  R3 1200m Mdn                    nan   \n",
       "                                  R3 1200m Mdn                    nan   \n",
       "                                  R3 1200m Mdn                    nan   \n",
       "                                  R3 1200m Mdn                    nan   \n",
       "\n",
       "                                                overall_place_percent_z  \\\n",
       "date       venue_name race_number market_name                             \n",
       "2016-06-27 Echuca     3           R3 1200m Mdn                     2.52   \n",
       "                                  R3 1200m Mdn                     0.05   \n",
       "                                  R3 1200m Mdn                    -0.56   \n",
       "                                  R3 1200m Mdn                    -0.56   \n",
       "                                  R3 1200m Mdn                    -0.56   \n",
       "\n",
       "                                                distance_win_percent_z  \\\n",
       "date       venue_name race_number market_name                            \n",
       "2016-06-27 Echuca     3           R3 1200m Mdn                     nan   \n",
       "                                  R3 1200m Mdn                     nan   \n",
       "                                  R3 1200m Mdn                     nan   \n",
       "                                  R3 1200m Mdn                     nan   \n",
       "                                  R3 1200m Mdn                     nan   \n",
       "\n",
       "                                                distance_place_percent_z  \\\n",
       "date       venue_name race_number market_name                              \n",
       "2016-06-27 Echuca     3           R3 1200m Mdn                       nan   \n",
       "                                  R3 1200m Mdn                       nan   \n",
       "                                  R3 1200m Mdn                       nan   \n",
       "                                  R3 1200m Mdn                       nan   \n",
       "                                  R3 1200m Mdn                       nan   \n",
       "\n",
       "                                                condition_win_percent_z  \\\n",
       "date       venue_name race_number market_name                             \n",
       "2016-06-27 Echuca     3           R3 1200m Mdn                      nan   \n",
       "                                  R3 1200m Mdn                      nan   \n",
       "                                  R3 1200m Mdn                      nan   \n",
       "                                  R3 1200m Mdn                      nan   \n",
       "                                  R3 1200m Mdn                      nan   \n",
       "\n",
       "                                                condition_place_percent_z  \\\n",
       "date       venue_name race_number market_name                               \n",
       "2016-06-27 Echuca     3           R3 1200m Mdn                        nan   \n",
       "                                  R3 1200m Mdn                        nan   \n",
       "                                  R3 1200m Mdn                        nan   \n",
       "                                  R3 1200m Mdn                        nan   \n",
       "                                  R3 1200m Mdn                        nan   \n",
       "\n",
       "                                                overall_starts_z  \\\n",
       "date       venue_name race_number market_name                      \n",
       "2016-06-27 Echuca     3           R3 1200m Mdn             -0.72   \n",
       "                                  R3 1200m Mdn              0.07   \n",
       "                                  R3 1200m Mdn              1.06   \n",
       "                                  R3 1200m Mdn             -0.72   \n",
       "                                  R3 1200m Mdn             -0.72   \n",
       "\n",
       "                                                distance_starts_z  \\\n",
       "date       venue_name race_number market_name                       \n",
       "2016-06-27 Echuca     3           R3 1200m Mdn              -0.56   \n",
       "                                  R3 1200m Mdn              -0.56   \n",
       "                                  R3 1200m Mdn               0.41   \n",
       "                                  R3 1200m Mdn              -0.56   \n",
       "                                  R3 1200m Mdn              -0.56   \n",
       "\n",
       "                                                condition_starts_z  \\\n",
       "date       venue_name race_number market_name                        \n",
       "2016-06-27 Echuca     3           R3 1200m Mdn               -0.58   \n",
       "                                  R3 1200m Mdn                0.49   \n",
       "                                  R3 1200m Mdn                2.63   \n",
       "                                  R3 1200m Mdn               -0.58   \n",
       "                                  R3 1200m Mdn               -0.58   \n",
       "\n",
       "                                                track_starts_z  \n",
       "date       venue_name race_number market_name                   \n",
       "2016-06-27 Echuca     3           R3 1200m Mdn           -0.39  \n",
       "                                  R3 1200m Mdn           -0.39  \n",
       "                                  R3 1200m Mdn           -0.39  \n",
       "                                  R3 1200m Mdn           -0.39  \n",
       "                                  R3 1200m Mdn           -0.39  "
      ]
     },
     "execution_count": 23,
     "metadata": {},
     "output_type": "execute_result"
    }
   ],
   "source": [
    "#Replaces infinity (from zero division) with NaN\n",
    "df_cleaned.replace([np.inf, -np.inf], np.nan, inplace=True)\n",
    "\n",
    "df_cleaned.fillna(np.nan,inplace=True)\n",
    "\n",
    "df_grouped = df_cleaned.groupby(['date','venue_name','race_number','market_name'])\n",
    "\n",
    "df_cleaned.head()"
   ]
  },
  {
   "cell_type": "markdown",
   "metadata": {},
   "source": [
    "### Cleaned Dataframe Details:"
   ]
  },
  {
   "cell_type": "code",
   "execution_count": 24,
   "metadata": {},
   "outputs": [
    {
     "name": "stdout",
     "output_type": "stream",
     "text": [
      "Shape (rows,columns): (218917, 72)\n",
      "Number of uncleaned races in original dataframe: 22407\n",
      "Number of remaining cleaned races: 22129\n"
     ]
    }
   ],
   "source": [
    "print('Shape (rows,columns):', df_cleaned.shape)\n",
    "print('Number of uncleaned races in original dataframe:',len(df.groupby(['date','venue_name',\n",
    "                                                                         'race_number','market_name'])))\n",
    "print('Number of remaining cleaned races:',len(df_grouped))"
   ]
  },
  {
   "cell_type": "markdown",
   "metadata": {},
   "source": [
    "## Graphing the feature distributions:"
   ]
  },
  {
   "cell_type": "code",
   "execution_count": 25,
   "metadata": {},
   "outputs": [
    {
     "name": "stdout",
     "output_type": "stream",
     "text": [
      "Number of numeric features: 40\n"
     ]
    },
    {
     "data": {
      "image/png": "[encoded data removed]",
      "text/plain": [
       "<Figure size 1080x1440 with 40 Axes>"
      ]
     },
     "metadata": {
      "needs_background": "light"
     },
     "output_type": "display_data"
    }
   ],
   "source": [
    "number_list = df.select_dtypes(include=np.number).columns.tolist()\n",
    "number_list.remove('position_again')\n",
    "print('Number of numeric features:',len(number_list))\n",
    "\n",
    "fig,ax = plt.subplots(10, 4)\n",
    "\n",
    "m=0\n",
    "for i in range(10):\n",
    "    for j in range(4):\n",
    "        df[number_list[m]].plot(kind='hist',bins=20,ax=ax[i,j],figsize=(15,20),\n",
    "                                edgecolor='k').set_title(number_list[m])\n",
    "        m+=1\n",
    "        \n",
    "plt.tight_layout()"
   ]
  },
  {
   "cell_type": "markdown",
   "metadata": {},
   "source": [
    "### Features that are primarily NaN:"
   ]
  },
  {
   "cell_type": "code",
   "execution_count": 26,
   "metadata": {},
   "outputs": [
    {
     "data": {
      "text/plain": [
       "position_again              156121.00\n",
       "distance_win_percent_z      130146.00\n",
       "distance_place_percent_z    126568.00\n",
       "condition_win_percent_z     121757.00\n",
       "condition_place_percent_z   112404.00\n",
       "dtype: float64"
      ]
     },
     "execution_count": 26,
     "metadata": {},
     "output_type": "execute_result"
    }
   ],
   "source": [
    "df_cleaned.isnull().sum().where(df_cleaned.isnull().sum() > .5 * df_cleaned.shape[0]).dropna()\n",
    "# The position_again is primarily nan values because it only shows first and place."
   ]
  },
  {
   "cell_type": "markdown",
   "metadata": {},
   "source": [
    "## Visualisations and hypothesis tests of various features:\n",
    "\n",
    "### For horse gender:"
   ]
  },
  {
   "cell_type": "code",
   "execution_count": 27,
   "metadata": {},
   "outputs": [],
   "source": [
    "#Removes races where only one horse gender is represented\n",
    "sex_pop_cleaned = column_cleaner(df_cleaned, df_grouped, 'sex')\n",
    "sex_pop_cleaned_win = cleaned_win_df(sex_pop_cleaned)"
   ]
  },
  {
   "cell_type": "code",
   "execution_count": 28,
   "metadata": {},
   "outputs": [
    {
     "data": {
      "text/plain": [
       "Gelding   0.57\n",
       "Mare      0.27\n",
       "Filly     0.13\n",
       "Colt      0.03\n",
       "Horse     0.01\n",
       "Name: sex, dtype: float64"
      ]
     },
     "execution_count": 28,
     "metadata": {},
     "output_type": "execute_result"
    }
   ],
   "source": [
    "#General percentage of horse genders for races where multiple genders are represented  \n",
    "sex_pop_cleaned.sex.value_counts(dropna=False,normalize=True).sort_values(ascending=False).drop('Unknown')"
   ]
  },
  {
   "cell_type": "code",
   "execution_count": 29,
   "metadata": {},
   "outputs": [
    {
     "data": {
      "text/plain": [
       "Gelding   0.57\n",
       "Mare      0.24\n",
       "Filly     0.14\n",
       "Colt      0.04\n",
       "Horse     0.01\n",
       "Name: sex, dtype: float64"
      ]
     },
     "execution_count": 29,
     "metadata": {},
     "output_type": "execute_result"
    }
   ],
   "source": [
    "sex_pop_cleaned_win.sex.value_counts(dropna=False,normalize=True).sort_values(ascending=False).drop('Unknown')"
   ]
  },
  {
   "cell_type": "code",
   "execution_count": 30,
   "metadata": {},
   "outputs": [
    {
     "data": {
      "text/plain": [
       "Gelding    0.00\n",
       "Mare      -0.11\n",
       "Filly      0.10\n",
       "Colt       0.49\n",
       "Horse      0.16\n",
       "Name: sex, dtype: float64"
      ]
     },
     "execution_count": 30,
     "metadata": {},
     "output_type": "execute_result"
    }
   ],
   "source": [
    "horse_sex_pop = sex_pop_cleaned.sex.value_counts(dropna=False,normalize=True)\\\n",
    "    .sort_values(ascending=False).drop('Unknown')\n",
    "horse_sex_win = sex_pop_cleaned_win.sex.value_counts(dropna=False,normalize=True)\\\n",
    "    .sort_values(ascending=False).drop('Unknown')\n",
    "horse_sex_percent_difference = (horse_sex_win - horse_sex_pop)/horse_sex_pop\n",
    "horse_sex_percent_difference"
   ]
  },
  {
   "cell_type": "code",
   "execution_count": 31,
   "metadata": {
    "scrolled": true
   },
   "outputs": [
    {
     "data": {
      "image/png": "[encoded data removed]",
      "text/plain": [
       "<Figure size 432x288 with 1 Axes>"
      ]
     },
     "metadata": {
      "needs_background": "light"
     },
     "output_type": "display_data"
    }
   ],
   "source": [
    "index1 = ['Gelding','Mare','Filly','Colt','Horse']\n",
    "df1 = pd.DataFrame({'Total Proportion': horse_sex_pop,'Win Proportion': horse_sex_win,\n",
    "                    'Percent Difference': horse_sex_percent_difference}, index=index1)\n",
    "ax = df1.plot.bar(rot=0,title='The Significance of Horse Gender')"
   ]
  },
  {
   "cell_type": "markdown",
   "metadata": {},
   "source": [
    "### Using the Pearson's chi-squared, I find horse gender is significant:"
   ]
  },
  {
   "cell_type": "code",
   "execution_count": 32,
   "metadata": {},
   "outputs": [
    {
     "data": {
      "text/plain": [
       "(196.1115393313328, 2.575135537285537e-41)"
      ]
     },
     "execution_count": 32,
     "metadata": {},
     "output_type": "execute_result"
    }
   ],
   "source": [
    "observed1 = sex_pop_cleaned_win.sex.value_counts().sort_values(ascending=False).drop('Unknown').values\n",
    "\n",
    "expected_percentages1 = horse_sex_pop.values\n",
    "expected1 = [x*observed1.sum() for x in expected_percentages1]\n",
    "\n",
    "test_stat1, p_value1 = chisquare(observed1, expected1)\n",
    "test_stat1, p_value1"
   ]
  },
  {
   "cell_type": "markdown",
   "metadata": {},
   "source": [
    "### For horse age_z (z-scores):"
   ]
  },
  {
   "cell_type": "code",
   "execution_count": 33,
   "metadata": {},
   "outputs": [],
   "source": [
    "#Removing races where there is only one age\n",
    "age_pop_cleaned = column_cleaner(df_cleaned, df_grouped, 'age_z')\n",
    "\n",
    "age_pop_cleaned_win = cleaned_win_df(age_pop_cleaned)"
   ]
  },
  {
   "cell_type": "code",
   "execution_count": 34,
   "metadata": {},
   "outputs": [
    {
     "data": {
      "text/plain": [
       "count   173884.00\n",
       "mean         0.00\n",
       "std          0.95\n",
       "min         -3.33\n",
       "25%         -0.71\n",
       "50%         -0.17\n",
       "75%          0.63\n",
       "max          3.88\n",
       "Name: age_z, dtype: float64"
      ]
     },
     "execution_count": 34,
     "metadata": {},
     "output_type": "execute_result"
    }
   ],
   "source": [
    "age_pop_cleaned.age_z.describe()"
   ]
  },
  {
   "cell_type": "code",
   "execution_count": 35,
   "metadata": {},
   "outputs": [
    {
     "data": {
      "text/plain": [
       "count   17426.00\n",
       "mean       -0.24\n",
       "std         0.88\n",
       "min        -3.33\n",
       "25%        -0.86\n",
       "50%        -0.41\n",
       "75%         0.30\n",
       "max         3.61\n",
       "Name: age_z, dtype: float64"
      ]
     },
     "execution_count": 35,
     "metadata": {},
     "output_type": "execute_result"
    }
   ],
   "source": [
    "age_pop_cleaned_win.age_z.describe()"
   ]
  },
  {
   "cell_type": "code",
   "execution_count": 36,
   "metadata": {},
   "outputs": [
    {
     "data": {
      "image/png": "[encoded data removed]",
      "text/plain": [
       "<Figure size 432x288 with 1 Axes>"
      ]
     },
     "metadata": {
      "needs_background": "light"
     },
     "output_type": "display_data"
    }
   ],
   "source": [
    "data2a = age_pop_cleaned.age_z.dropna().values\n",
    "data2b = age_pop_cleaned_win.age_z.dropna().values\n",
    "\n",
    "plt.title('Winner and Race Distributions of Age Z-scores', fontsize=15)\n",
    "plt.hist(data2a, density=True, bins=24, range=(-3,3), label='Race Average', \n",
    "         color='b', alpha=.5, edgecolor='k')\n",
    "plt.hist(data2b, density=True, bins=24, range=(-3,3), label='Winner Average',\n",
    "         color='r', alpha=.5, edgecolor='k')\n",
    "plt.legend(loc='upper right')\n",
    "plt.xlabel('Age Z-scores')\n",
    "plt.ylabel('Probability');"
   ]
  },
  {
   "cell_type": "markdown",
   "metadata": {},
   "source": [
    "#### Using a 2-sample T-test, I find that Age Z-scores is significant:"
   ]
  },
  {
   "cell_type": "code",
   "execution_count": 37,
   "metadata": {},
   "outputs": [
    {
     "data": {
      "text/plain": [
       "(31.552662544654574, 6.00866138842315e-218)"
      ]
     },
     "execution_count": 37,
     "metadata": {},
     "output_type": "execute_result"
    }
   ],
   "source": [
    "test_stat2, p_value2 = ttest_ind(data2a, data2b)\n",
    "test_stat2, p_value2"
   ]
  },
  {
   "cell_type": "markdown",
   "metadata": {},
   "source": [
    "#### Does condition affect the win distribution of age? Specifically, do older horses perform worse in bad conditions?"
   ]
  },
  {
   "cell_type": "code",
   "execution_count": 38,
   "metadata": {},
   "outputs": [],
   "source": [
    "condit_age_pop = age_pop_cleaned[age_pop_cleaned.condition == 'HEAVY']"
   ]
  },
  {
   "cell_type": "code",
   "execution_count": 39,
   "metadata": {},
   "outputs": [],
   "source": [
    "condit_age_pop_win = cleaned_win_df(condit_age_pop)"
   ]
  },
  {
   "cell_type": "code",
   "execution_count": 40,
   "metadata": {},
   "outputs": [
    {
     "data": {
      "image/png": "[encoded data removed]",
      "text/plain": [
       "<Figure size 432x288 with 1 Axes>"
      ]
     },
     "metadata": {
      "needs_background": "light"
     },
     "output_type": "display_data"
    }
   ],
   "source": [
    "data2c = condit_age_pop.age_z.dropna().values\n",
    "data2d = condit_age_pop_win.age_z.dropna().values\n",
    "\n",
    "plt.title('Winner and Race Distributions of Age Z-scores \\n (Condition Specific)', fontsize=15)\n",
    "plt.hist(data2c, density=True, bins=24, range=(-3,3), label='Race Average', \n",
    "         color='b', alpha=.5, edgecolor='k')\n",
    "plt.hist(data2d, density=True, bins=24, range=(-3,3), label='Winner Average',\n",
    "         color='r', alpha=.5, edgecolor='k')\n",
    "\n",
    "plt.legend(loc='upper right')\n",
    "plt.xlabel('Age Z-scores')\n",
    "plt.ylabel('Probability');"
   ]
  },
  {
   "cell_type": "markdown",
   "metadata": {},
   "source": [
    "#### Condition depended T-test for Age Z-scores: "
   ]
  },
  {
   "cell_type": "code",
   "execution_count": 41,
   "metadata": {},
   "outputs": [
    {
     "data": {
      "text/plain": [
       "(6.335284227796313, 2.4194653311198434e-10)"
      ]
     },
     "execution_count": 41,
     "metadata": {},
     "output_type": "execute_result"
    }
   ],
   "source": [
    "test_stat2, p_value2 = ttest_ind(data2c, data2d)\n",
    "test_stat2, p_value2"
   ]
  },
  {
   "cell_type": "markdown",
   "metadata": {},
   "source": [
    "#### It appears as though bad track conditions actually level out the age discrepancies, maybe because they have more experience with those bad conditions."
   ]
  },
  {
   "cell_type": "markdown",
   "metadata": {},
   "source": [
    "### For horse handicap weight_z (z-scores):"
   ]
  },
  {
   "cell_type": "code",
   "execution_count": 42,
   "metadata": {},
   "outputs": [],
   "source": [
    "#Removing races where there is only one weight\n",
    "weight_pop_cleaned = column_cleaner(df_cleaned, df_grouped, 'weight_z')\n",
    "weight_pop_cleaned_win = cleaned_win_df(weight_pop_cleaned)"
   ]
  },
  {
   "cell_type": "code",
   "execution_count": 43,
   "metadata": {},
   "outputs": [
    {
     "data": {
      "text/plain": [
       "count   188779.00\n",
       "mean        -0.00\n",
       "std          0.95\n",
       "min         -3.88\n",
       "25%         -0.75\n",
       "50%         -0.06\n",
       "75%          0.74\n",
       "max          3.95\n",
       "Name: weight_z, dtype: float64"
      ]
     },
     "execution_count": 43,
     "metadata": {},
     "output_type": "execute_result"
    }
   ],
   "source": [
    "weight_pop_cleaned.weight_z.describe()"
   ]
  },
  {
   "cell_type": "code",
   "execution_count": 44,
   "metadata": {},
   "outputs": [
    {
     "data": {
      "text/plain": [
       "count   19066.00\n",
       "mean        0.21\n",
       "std         0.95\n",
       "min        -3.88\n",
       "25%        -0.57\n",
       "50%         0.27\n",
       "75%         0.90\n",
       "max         3.53\n",
       "Name: weight_z, dtype: float64"
      ]
     },
     "execution_count": 44,
     "metadata": {},
     "output_type": "execute_result"
    }
   ],
   "source": [
    "weight_pop_cleaned_win.weight_z.describe()"
   ]
  },
  {
   "cell_type": "code",
   "execution_count": 45,
   "metadata": {
    "scrolled": true
   },
   "outputs": [
    {
     "data": {
      "image/png": "[encoded data removed]",
      "text/plain": [
       "<Figure size 432x288 with 1 Axes>"
      ]
     },
     "metadata": {
      "needs_background": "light"
     },
     "output_type": "display_data"
    }
   ],
   "source": [
    "data3a = weight_pop_cleaned.weight_z.dropna().values\n",
    "data3b = weight_pop_cleaned_win.weight_z.dropna().values\n",
    "\n",
    "plt.title('Winner and Race Distributions of Weight Z-scores', fontsize=15)\n",
    "plt.hist(data3a, density=True, bins=24, range=(-3,3), label='Race Average', \n",
    "         color='b', alpha=.5, edgecolor='k')\n",
    "plt.hist(data3b, density=True, bins=24, range=(-3,3), label='Winner Average',\n",
    "         color='r', alpha=.5, edgecolor='k')\n",
    "plt.legend(loc='upper right')\n",
    "plt.xlabel('Weight Z-scores')\n",
    "plt.ylabel('Probability');"
   ]
  },
  {
   "cell_type": "markdown",
   "metadata": {},
   "source": [
    "#### Using a 2-sample T-test, again I find that Weight Z-scores is significant:"
   ]
  },
  {
   "cell_type": "code",
   "execution_count": 46,
   "metadata": {},
   "outputs": [
    {
     "data": {
      "text/plain": [
       "(-28.818437151385726, 2.888515333660301e-182)"
      ]
     },
     "execution_count": 46,
     "metadata": {},
     "output_type": "execute_result"
    }
   ],
   "source": [
    "test_stat3, p_value3 = ttest_ind(data3a, data3b)\n",
    "test_stat3, p_value3"
   ]
  },
  {
   "cell_type": "markdown",
   "metadata": {},
   "source": [
    "### For prize money, using prize_money_per_start_z (z-scores):"
   ]
  },
  {
   "cell_type": "code",
   "execution_count": 47,
   "metadata": {},
   "outputs": [],
   "source": [
    "money_pop_cleaned = column_cleaner(df_cleaned, df_grouped, 'prize_money_per_start_z')\n",
    "money_pop_cleaned_win = cleaned_win_df(weight_pop_cleaned)"
   ]
  },
  {
   "cell_type": "code",
   "execution_count": 48,
   "metadata": {},
   "outputs": [
    {
     "data": {
      "text/plain": [
       "count   150815.00\n",
       "mean         0.00\n",
       "std          0.95\n",
       "min         -2.82\n",
       "25%         -0.66\n",
       "50%         -0.24\n",
       "75%          0.49\n",
       "max          3.84\n",
       "Name: prize_money_per_start_z, dtype: float64"
      ]
     },
     "execution_count": 48,
     "metadata": {},
     "output_type": "execute_result"
    }
   ],
   "source": [
    "money_pop_cleaned.prize_money_per_start_z.describe()"
   ]
  },
  {
   "cell_type": "code",
   "execution_count": 49,
   "metadata": {},
   "outputs": [
    {
     "data": {
      "text/plain": [
       "count   15191.00\n",
       "mean        0.62\n",
       "std         1.04\n",
       "min        -2.13\n",
       "25%        -0.22\n",
       "50%         0.46\n",
       "75%         1.40\n",
       "max         3.83\n",
       "Name: prize_money_per_start_z, dtype: float64"
      ]
     },
     "execution_count": 49,
     "metadata": {},
     "output_type": "execute_result"
    }
   ],
   "source": [
    "#Winner prize money \n",
    "money_pop_cleaned_win.prize_money_per_start_z.describe()"
   ]
  },
  {
   "cell_type": "code",
   "execution_count": 50,
   "metadata": {},
   "outputs": [
    {
     "data": {
      "image/png": "[encoded data removed]",
      "text/plain": [
       "<Figure size 432x288 with 1 Axes>"
      ]
     },
     "metadata": {
      "needs_background": "light"
     },
     "output_type": "display_data"
    }
   ],
   "source": [
    "data4a = money_pop_cleaned.prize_money_per_start_z.dropna().values\n",
    "data4b = money_pop_cleaned_win.prize_money_per_start_z.dropna().values\n",
    "\n",
    "plt.title('Winner and Race Distributions of Prize Money per Start Z-scores',\n",
    "          fontsize=15)\n",
    "plt.hist(data4a, density=True, bins=24, range=(-3,3), label='Race Average',\n",
    "         color='b', alpha=.6, edgecolor='k')\n",
    "plt.hist(data4b, density=True, bins=24, range=(-3,3), label='Winner Average',\n",
    "         color='r', alpha=.5, edgecolor='k')\n",
    "plt.legend(loc='upper right')\n",
    "plt.xlabel('Prize Money per Start Z-scores')\n",
    "plt.ylabel('Probability');"
   ]
  },
  {
   "cell_type": "markdown",
   "metadata": {},
   "source": [
    "#### Using a 2-sample T-test, I find that Prize Money per Start Z-scores is significant:\n"
   ]
  },
  {
   "cell_type": "code",
   "execution_count": 51,
   "metadata": {},
   "outputs": [
    {
     "data": {
      "text/plain": [
       "(-76.41022262522957, 0.0)"
      ]
     },
     "execution_count": 51,
     "metadata": {},
     "output_type": "execute_result"
    }
   ],
   "source": [
    "test_stat4, p_value4 = ttest_ind(data4a, data4b)\n",
    "test_stat4, p_value4"
   ]
  },
  {
   "cell_type": "markdown",
   "metadata": {},
   "source": [
    "### For overall wins:"
   ]
  },
  {
   "cell_type": "code",
   "execution_count": 52,
   "metadata": {},
   "outputs": [],
   "source": [
    "overall_win_pop_cleaned = column_cleaner(df_cleaned, df_grouped, 'overall_win_percent_z')\n",
    "overall_win_pop_cleaned_win = cleaned_win_df(overall_win_pop_cleaned)"
   ]
  },
  {
   "cell_type": "code",
   "execution_count": 53,
   "metadata": {},
   "outputs": [
    {
     "data": {
      "text/plain": [
       "count   129633.00\n",
       "mean         0.00\n",
       "std          0.95\n",
       "min         -2.66\n",
       "25%         -0.66\n",
       "50%         -0.21\n",
       "75%          0.53\n",
       "max          3.75\n",
       "Name: overall_win_percent_z, dtype: float64"
      ]
     },
     "execution_count": 53,
     "metadata": {},
     "output_type": "execute_result"
    }
   ],
   "source": [
    "overall_win_pop_cleaned.overall_win_percent_z.describe()"
   ]
  },
  {
   "cell_type": "code",
   "execution_count": 54,
   "metadata": {},
   "outputs": [
    {
     "data": {
      "text/plain": [
       "count   13162.00\n",
       "mean        0.31\n",
       "std         1.02\n",
       "min        -2.65\n",
       "25%        -0.46\n",
       "50%         0.13\n",
       "75%         1.01\n",
       "max         3.59\n",
       "Name: overall_win_percent_z, dtype: float64"
      ]
     },
     "execution_count": 54,
     "metadata": {},
     "output_type": "execute_result"
    }
   ],
   "source": [
    "overall_win_pop_cleaned_win.overall_win_percent_z.describe()"
   ]
  },
  {
   "cell_type": "code",
   "execution_count": 55,
   "metadata": {},
   "outputs": [
    {
     "data": {
      "image/png": "[encoded data removed]",
      "text/plain": [
       "<Figure size 432x288 with 1 Axes>"
      ]
     },
     "metadata": {
      "needs_background": "light"
     },
     "output_type": "display_data"
    }
   ],
   "source": [
    "data5a = overall_win_pop_cleaned.overall_win_percent_z.dropna().values\n",
    "data5b = overall_win_pop_cleaned_win.overall_win_percent_z.dropna().values\n",
    "\n",
    "plt.title('Winner and Race Distributions of Overall Win Percent Z-scores',\n",
    "          fontsize=15)\n",
    "plt.hist(data5a, density=True, bins=24, range=(-3,3), label='Race Average',\n",
    "         color='b', alpha=.6, edgecolor='k')\n",
    "plt.hist(data5b, density=True, bins=24, range=(-3,3), label='Winner Average',\n",
    "         color='r', alpha=.5, edgecolor='k')\n",
    "plt.legend(loc='upper right')\n",
    "plt.xlabel('Overall Win Percent Z-scores')\n",
    "plt.ylabel('Probability');"
   ]
  },
  {
   "cell_type": "markdown",
   "metadata": {},
   "source": [
    "#### Using a 2-sample T-test, I find that Overall Win Percent Z-scores is significant:"
   ]
  },
  {
   "cell_type": "code",
   "execution_count": 56,
   "metadata": {},
   "outputs": [
    {
     "data": {
      "text/plain": [
       "(-35.607706413268424, 1.754853660594702e-276)"
      ]
     },
     "execution_count": 56,
     "metadata": {},
     "output_type": "execute_result"
    }
   ],
   "source": [
    "test_stat5, p_value5 = ttest_ind(data5a, data5b)\n",
    "test_stat5, p_value5"
   ]
  },
  {
   "cell_type": "markdown",
   "metadata": {},
   "source": [
    "#### There is high variance in the 100% column (aka beginner's luck). How many races before the 100% column is properly represented? That is, how many races is considered statistically significant?\n",
    "\n",
    "#### It seems that a minimum of 5 races for all horses in the race gives the percent difference bar graph an exponential appearance. The other Github file has the graph showing this behavior."
   ]
  },
  {
   "cell_type": "code",
   "execution_count": 57,
   "metadata": {},
   "outputs": [],
   "source": [
    "overall_win_pop_grouped = overall_win_pop_cleaned.groupby(['date','venue_name','race_number','market_name'])\n",
    "overall_starts_indices = overall_win_pop_grouped.overall_starts.agg('min').where(lambda x:x >= 5).dropna().index\n",
    "overall_starts_cleaned = overall_win_pop_cleaned[overall_win_pop_cleaned.index.isin(overall_starts_indices)]\n",
    "overall_starts_cleaned_win = cleaned_win_df(overall_starts_cleaned)"
   ]
  },
  {
   "cell_type": "code",
   "execution_count": 58,
   "metadata": {},
   "outputs": [
    {
     "data": {
      "text/plain": [
       "count   85596.00\n",
       "mean        0.00\n",
       "std         0.95\n",
       "min        -2.66\n",
       "25%        -0.69\n",
       "50%        -0.15\n",
       "75%         0.59\n",
       "max         3.40\n",
       "Name: overall_win_percent_z, dtype: float64"
      ]
     },
     "execution_count": 58,
     "metadata": {},
     "output_type": "execute_result"
    }
   ],
   "source": [
    "overall_starts_cleaned.overall_win_percent_z.describe()"
   ]
  },
  {
   "cell_type": "code",
   "execution_count": 59,
   "metadata": {},
   "outputs": [
    {
     "data": {
      "text/plain": [
       "count   8804.00\n",
       "mean       0.30\n",
       "std        1.00\n",
       "min       -2.65\n",
       "25%       -0.46\n",
       "50%        0.18\n",
       "75%        1.01\n",
       "max        3.40\n",
       "Name: overall_win_percent_z, dtype: float64"
      ]
     },
     "execution_count": 59,
     "metadata": {},
     "output_type": "execute_result"
    }
   ],
   "source": [
    "overall_starts_cleaned_win.overall_win_percent_z.describe()"
   ]
  },
  {
   "cell_type": "code",
   "execution_count": 60,
   "metadata": {},
   "outputs": [
    {
     "data": {
      "image/png": "[encoded data removed]",
      "text/plain": [
       "<Figure size 432x288 with 1 Axes>"
      ]
     },
     "metadata": {
      "needs_background": "light"
     },
     "output_type": "display_data"
    }
   ],
   "source": [
    "data6a = overall_starts_cleaned.overall_win_percent_z.dropna().values\n",
    "data6b = overall_starts_cleaned_win.overall_win_percent_z.dropna().values\n",
    "\n",
    "plt.title('Winner and Race Distributions of Overall Win Percent Z-scores\\n(horses over 5 total races)',\n",
    "          fontsize=15)\n",
    "plt.hist(data6a, density=True, bins=24, range=(-3,3), label='Race Average',\n",
    "         color='b', alpha=.6, edgecolor='k')\n",
    "plt.hist(data6b, density=True, bins=24, range=(-3,3), label='Winner Average',\n",
    "         color='r', alpha=.5, edgecolor='k')\n",
    "plt.legend(loc='upper right')\n",
    "plt.xlabel('Overall Win Percent Z-scores \\n (with horses over 5 total races)')\n",
    "plt.ylabel('Probability');"
   ]
  },
  {
   "cell_type": "markdown",
   "metadata": {},
   "source": [
    "#### Using a 2-sample T-test, I find that Overall Win Percent Z-scores (with horses over 5 total races) is significant:"
   ]
  },
  {
   "cell_type": "code",
   "execution_count": 61,
   "metadata": {},
   "outputs": [
    {
     "data": {
      "text/plain": [
       "(-28.064189478081484, 1.379332242910428e-172)"
      ]
     },
     "execution_count": 61,
     "metadata": {},
     "output_type": "execute_result"
    }
   ],
   "source": [
    "test_stat6, p_value6 = ttest_ind(data6a, data6b)\n",
    "test_stat6, p_value6"
   ]
  },
  {
   "cell_type": "markdown",
   "metadata": {},
   "source": [
    "### For Barrier:"
   ]
  },
  {
   "cell_type": "code",
   "execution_count": 62,
   "metadata": {},
   "outputs": [],
   "source": [
    "barrier_pop_cleaned = column_cleaner(df_cleaned, df_grouped, 'barrier')\n",
    "barrier_grouped = barrier_pop_cleaned.groupby(['date','venue_name','race_number','market_name'])\n",
    "barrier_indices = barrier_grouped.barrier.value_counts().where(lambda x:x == 1).dropna().index.droplevel('barrier')\n",
    "barrier_pop_cleaned = barrier_pop_cleaned[barrier_pop_cleaned.index.isin(barrier_indices)]\n",
    "barrier_pop_cleaned_win = cleaned_win_df(barrier_pop_cleaned)"
   ]
  },
  {
   "cell_type": "code",
   "execution_count": 63,
   "metadata": {},
   "outputs": [
    {
     "data": {
      "text/plain": [
       "1.00     0.22\n",
       "2.00     0.03\n",
       "3.00     0.05\n",
       "4.00     0.10\n",
       "5.00     0.12\n",
       "6.00     0.09\n",
       "7.00    -0.04\n",
       "8.00    -0.12\n",
       "9.00    -0.13\n",
       "10.00   -0.20\n",
       "11.00   -0.23\n",
       "12.00   -0.23\n",
       "13.00   -0.39\n",
       "14.00   -0.39\n",
       "15.00   -0.18\n",
       "16.00   -0.44\n",
       "17.00   -0.16\n",
       "Name: barrier, dtype: float64"
      ]
     },
     "execution_count": 63,
     "metadata": {},
     "output_type": "execute_result"
    }
   ],
   "source": [
    "barrier_pop = barrier_pop_cleaned.barrier.value_counts(normalize=True).sort_index().drop([18.00,19.00,20.00])\n",
    "barrier_win = barrier_pop_cleaned_win.barrier.value_counts(normalize=True).sort_index().drop(18.00)\n",
    "barrier_percent_difference = (barrier_win - barrier_pop)/barrier_pop\n",
    "barrier_percent_difference"
   ]
  },
  {
   "cell_type": "code",
   "execution_count": 64,
   "metadata": {},
   "outputs": [
    {
     "data": {
      "image/png": "[encoded data removed]",
      "text/plain": [
       "<Figure size 432x288 with 1 Axes>"
      ]
     },
     "metadata": {
      "needs_background": "light"
     },
     "output_type": "display_data"
    }
   ],
   "source": [
    "index7 = barrier_percent_difference.index\n",
    "df7 = pd.DataFrame({'Total Proportion': barrier_pop,'Win Proportion': barrier_win,\n",
    "                    'Percent Difference': barrier_percent_difference}, index=index7)\n",
    "ax = df7.plot.bar(rot=0, title='The Significance of Barrier')"
   ]
  },
  {
   "cell_type": "markdown",
   "metadata": {},
   "source": [
    "#### Why is barrier 1 so overrepresented?\n",
    "\n",
    "#### Using the Pearson's chi-squared test, I find that barrier is significant:"
   ]
  },
  {
   "cell_type": "code",
   "execution_count": 65,
   "metadata": {},
   "outputs": [
    {
     "data": {
      "text/plain": [
       "(412.7953152755308, 7.551757964292395e-78)"
      ]
     },
     "execution_count": 65,
     "metadata": {},
     "output_type": "execute_result"
    }
   ],
   "source": [
    "observed7 = barrier_pop_cleaned_win.barrier.value_counts().sort_index().drop(18.00).values\n",
    "expected_percentages7 = barrier_pop.values\n",
    "expected7 = [x*observed7.sum() for x in expected_percentages7]\n",
    "test_stat7, p_value7 = chisquare(observed7, expected7)\n",
    "test_stat7, p_value7"
   ]
  },
  {
   "cell_type": "markdown",
   "metadata": {},
   "source": [
    "#### Does the length of a race negate or alter the effect of starting barrier?"
   ]
  },
  {
   "cell_type": "code",
   "execution_count": 66,
   "metadata": {},
   "outputs": [],
   "source": [
    "barr_dist_indices = barrier_pop_cleaned.distance.where(lambda x:x>=1800).dropna().index\n",
    "barr_dist_cleaned = barrier_pop_cleaned[barrier_pop_cleaned.index.isin(barr_dist_indices)]\n",
    "barr_dist_cleaned_win = cleaned_win_df(barr_dist_cleaned)"
   ]
  },
  {
   "cell_type": "code",
   "execution_count": 67,
   "metadata": {},
   "outputs": [
    {
     "data": {
      "text/plain": [
       "1.00     0.18\n",
       "2.00     0.00\n",
       "3.00     0.07\n",
       "4.00     0.14\n",
       "5.00     0.13\n",
       "6.00     0.03\n",
       "7.00     0.03\n",
       "8.00    -0.03\n",
       "9.00    -0.13\n",
       "10.00   -0.26\n",
       "11.00   -0.22\n",
       "12.00   -0.36\n",
       "13.00   -0.43\n",
       "14.00   -0.35\n",
       "15.00   -0.56\n",
       "16.00   -0.82\n",
       "17.00     nan\n",
       "Name: barrier, dtype: float64"
      ]
     },
     "execution_count": 67,
     "metadata": {},
     "output_type": "execute_result"
    }
   ],
   "source": [
    "barr_dist_pop = barr_dist_cleaned.barrier.value_counts(normalize=True).sort_index().drop(18.00)\n",
    "barr_dist_win = barr_dist_cleaned_win.barrier.value_counts(normalize=True).sort_index().drop(18.00)\n",
    "barr_dist_percent_difference = (barr_dist_win - barr_dist_pop)/barr_dist_pop\n",
    "barr_dist_percent_difference"
   ]
  },
  {
   "cell_type": "code",
   "execution_count": 68,
   "metadata": {},
   "outputs": [
    {
     "data": {
      "image/png": "[encoded data removed]",
      "text/plain": [
       "<Figure size 432x288 with 1 Axes>"
      ]
     },
     "metadata": {
      "needs_background": "light"
     },
     "output_type": "display_data"
    }
   ],
   "source": [
    "index7a = barr_dist_percent_difference.index\n",
    "df7a = pd.DataFrame({'Total Proportion': barr_dist_pop,'Win Proportion': barr_dist_win,\n",
    "                    'Percent Difference': barr_dist_percent_difference}, index=index7a)\n",
    "ax = df7a.plot.bar(rot=0, title='The Significance of Barrier for Races Longer than 1800m')"
   ]
  },
  {
   "cell_type": "markdown",
   "metadata": {},
   "source": [
    "#### There doesn't appear to be a dramatic difference for races longer than 1800m.\n",
    "\n",
    "### For jockey gender: \n",
    "\n",
    "#### Overall percentage of men and women in races where both are represented:"
   ]
  },
  {
   "cell_type": "code",
   "execution_count": 69,
   "metadata": {},
   "outputs": [],
   "source": [
    "#Drops races where there is only one jockey gender, meaning that the other gender can't win\n",
    "jockey_sex_cleaned = column_cleaner(df_cleaned, df_grouped, 'jockey_sex')\n",
    "jockey_sex_cleaned_win = cleaned_win_df(jockey_sex_cleaned)"
   ]
  },
  {
   "cell_type": "code",
   "execution_count": 70,
   "metadata": {},
   "outputs": [
    {
     "data": {
      "text/plain": [
       "Male     0.75\n",
       "Female   0.25\n",
       "Name: jockey_sex, dtype: float64"
      ]
     },
     "execution_count": 70,
     "metadata": {},
     "output_type": "execute_result"
    }
   ],
   "source": [
    "jockey_sex_cleaned.jockey_sex.value_counts(normalize=True)\n",
    "#This amount is the sum of all 'male' and 'female' jockeys added together and THEN 'normalized'"
   ]
  },
  {
   "cell_type": "markdown",
   "metadata": {},
   "source": [
    "#### Win percentage of those races:"
   ]
  },
  {
   "cell_type": "code",
   "execution_count": 71,
   "metadata": {},
   "outputs": [
    {
     "data": {
      "text/plain": [
       "Male     0.79\n",
       "Female   0.21\n",
       "Name: jockey_sex, dtype: float64"
      ]
     },
     "execution_count": 71,
     "metadata": {},
     "output_type": "execute_result"
    }
   ],
   "source": [
    "#Isolates wins in races with both jockey genders represented\n",
    "jockey_sex_cleaned_win.jockey_sex.value_counts(normalize=True, dropna=False)"
   ]
  },
  {
   "cell_type": "code",
   "execution_count": 72,
   "metadata": {},
   "outputs": [],
   "source": [
    "#Finding the percent difference between win and total\n",
    "jockey_sex_pop = jockey_sex_cleaned.jockey_sex.value_counts(normalize=True,\n",
    "                                                            dropna=False).values\n",
    "jockey_sex_win = jockey_sex_cleaned_win.jockey_sex.value_counts(normalize=True,\n",
    "                                                                dropna=False).values\n",
    "jockey_sex_percent_difference = (jockey_sex_win - jockey_sex_pop)/jockey_sex_pop"
   ]
  },
  {
   "cell_type": "code",
   "execution_count": 73,
   "metadata": {},
   "outputs": [
    {
     "data": {
      "image/png": "[encoded data removed]",
      "text/plain": [
       "<Figure size 432x288 with 1 Axes>"
      ]
     },
     "metadata": {
      "needs_background": "light"
     },
     "output_type": "display_data"
    }
   ],
   "source": [
    "index8 = ['Men','Women']\n",
    "df8 = pd.DataFrame({'Total Proportion': jockey_sex_pop,'Win Proportion': jockey_sex_win ,\n",
    "                    'Percent Difference': jockey_sex_percent_difference}, index=index8)\n",
    "ax = df8.plot.bar(rot=0, title='The Significance of Jockey Gender')"
   ]
  },
  {
   "cell_type": "markdown",
   "metadata": {},
   "source": [
    "#### Using a 2-proportion z-test, I find that jockey gender is significant with a p-value of 2.3E-30\n",
    "##### (There is currently a bug with the statsmodels library concerning compatibility with scipy, so I used a scientific calculator)\n",
    "\n",
    "### Do blinkers make a difference?"
   ]
  },
  {
   "cell_type": "code",
   "execution_count": 74,
   "metadata": {},
   "outputs": [
    {
     "name": "stdout",
     "output_type": "stream",
     "text": [
      "Rows in blinkers_pop_cleaned: 68830\n",
      "Rows in blinkers_pop_cleaned_win: 6637\n"
     ]
    }
   ],
   "source": [
    "blinkers_pop_cleaned = column_cleaner(df_cleaned, df_grouped, 'blinkers')\n",
    "blinkers_pop_cleaned_win = cleaned_win_df(blinkers_pop_cleaned)\n",
    "print('Rows in blinkers_pop_cleaned:',len(blinkers_pop_cleaned))\n",
    "print('Rows in blinkers_pop_cleaned_win:',len(blinkers_pop_cleaned_win))"
   ]
  },
  {
   "cell_type": "code",
   "execution_count": 75,
   "metadata": {},
   "outputs": [
    {
     "data": {
      "text/plain": [
       "False   0.86\n",
       "True    0.14\n",
       "Name: blinkers, dtype: float64"
      ]
     },
     "execution_count": 75,
     "metadata": {},
     "output_type": "execute_result"
    }
   ],
   "source": [
    "#General percentage of horse genders for races where multiple genders are represented  \n",
    "blinkers_pop_cleaned.blinkers.value_counts(dropna=False,normalize=True).sort_values(ascending=False)"
   ]
  },
  {
   "cell_type": "code",
   "execution_count": 76,
   "metadata": {},
   "outputs": [
    {
     "data": {
      "text/plain": [
       "False   0.86\n",
       "True    0.14\n",
       "Name: blinkers, dtype: float64"
      ]
     },
     "execution_count": 76,
     "metadata": {},
     "output_type": "execute_result"
    }
   ],
   "source": [
    "blinkers_pop_cleaned_win.blinkers.value_counts(dropna=False,normalize=True).sort_values(ascending=False)"
   ]
  },
  {
   "cell_type": "markdown",
   "metadata": {},
   "source": [
    "#### Blinkers appear to make no difference.\n",
    "\n",
    "### How many races before previous finishes become irrelevant?\n",
    "\n",
    "#### The distribution after 1 start:"
   ]
  },
  {
   "cell_type": "code",
   "execution_count": 77,
   "metadata": {},
   "outputs": [],
   "source": [
    "last_start_pop_cleaned = column_cleaner(df_cleaned, df_grouped, 'last_start1')\n",
    "last_start_pop_cleaned_win = cleaned_win_df(last_start_pop_cleaned)"
   ]
  },
  {
   "cell_type": "code",
   "execution_count": 78,
   "metadata": {},
   "outputs": [
    {
     "data": {
      "text/plain": [
       "1         -0.06\n",
       "2         -0.10\n",
       "3         -0.11\n",
       "4         -0.21\n",
       "5         -0.16\n",
       "6         -0.27\n",
       "7         -0.19\n",
       "8         -0.18\n",
       "9         -0.25\n",
       "fell       0.20\n",
       "scratch   -0.12\n",
       "ten+      -0.28\n",
       "Name: last_start1, dtype: float64"
      ]
     },
     "execution_count": 78,
     "metadata": {},
     "output_type": "execute_result"
    }
   ],
   "source": [
    "#The percent difference between the previous finish of the winner and all horses:\n",
    "last_start_pop = last_start_pop_cleaned.last_start1.value_counts(normalize=True,\n",
    "                                                                 dropna=False)\n",
    "last_start_win = last_start_pop_cleaned_win.last_start1.value_counts(normalize=True,\n",
    "                                                                     dropna=False)\n",
    "last_start_percent_difference = (last_start_win - last_start_pop)/last_start_pop\n",
    "last_start_percent_difference"
   ]
  },
  {
   "cell_type": "code",
   "execution_count": 79,
   "metadata": {},
   "outputs": [],
   "source": [
    "index9 = ['1','2','3','4','5','6','7','8','9','ten+','scratch','fell','none']\n",
    "df9 = pd.DataFrame({'Total Proportion': last_start_pop,'Win Proportion': last_start_win,\n",
    "                    'Percent Difference': last_start_percent_difference}, index=index9)"
   ]
  },
  {
   "cell_type": "markdown",
   "metadata": {},
   "source": [
    "#### After 5 starts:"
   ]
  },
  {
   "cell_type": "code",
   "execution_count": 80,
   "metadata": {},
   "outputs": [],
   "source": [
    "last_start_pop_cleaned = column_cleaner(df_cleaned, df_grouped, 'last_start5')\n",
    "last_start_pop_cleaned_win = cleaned_win_df(last_start_pop_cleaned)"
   ]
  },
  {
   "cell_type": "code",
   "execution_count": 81,
   "metadata": {},
   "outputs": [],
   "source": [
    "#Finding the percent difference between win and total\n",
    "last_start_pop = last_start_pop_cleaned.last_start5.value_counts(normalize=True,\n",
    "                                                                 dropna=False)\n",
    "last_start_win = last_start_pop_cleaned_win.last_start5.value_counts(normalize=True,\n",
    "                                                                     dropna=False)\n",
    "last_start_percent_difference = (last_start_win - last_start_pop)/last_start_pop"
   ]
  },
  {
   "cell_type": "code",
   "execution_count": 82,
   "metadata": {},
   "outputs": [],
   "source": [
    "index10 = ['1','2','3','4','5','6','7','8','9','ten+','scratch','fell','none']\n",
    "df10 = pd.DataFrame({'Total Proportion': last_start_pop,'Win Proportion': last_start_win,\n",
    "                    'Percent Difference': last_start_percent_difference}, index=index10)"
   ]
  },
  {
   "cell_type": "markdown",
   "metadata": {},
   "source": [
    "#### After 10 starts:"
   ]
  },
  {
   "cell_type": "code",
   "execution_count": 83,
   "metadata": {},
   "outputs": [],
   "source": [
    "last_start_pop_cleaned = column_cleaner(df_cleaned, df_grouped, 'last_start10')\n",
    "last_start_pop_cleaned_win = cleaned_win_df(last_start_pop_cleaned)"
   ]
  },
  {
   "cell_type": "code",
   "execution_count": 84,
   "metadata": {},
   "outputs": [],
   "source": [
    "#Finding the percent difference between win and total\n",
    "last_start_pop = last_start_pop_cleaned.last_start10.value_counts(normalize=True,\n",
    "                                                                 dropna=False)\n",
    "last_start_win = last_start_pop_cleaned_win.last_start10.value_counts(normalize=True,\n",
    "                                                                     dropna=False)\n",
    "last_start_percent_difference = (last_start_win - last_start_pop)/last_start_pop"
   ]
  },
  {
   "cell_type": "code",
   "execution_count": 85,
   "metadata": {},
   "outputs": [],
   "source": [
    "index11 = ['1','2','3','4','5','6','7','8','9','ten+','scratch','fell','none']\n",
    "df11 = pd.DataFrame({'Total Proportion': last_start_pop,'Win Proportion': last_start_win,\n",
    "                    'Percent Difference': last_start_percent_difference}, index=index11)"
   ]
  },
  {
   "cell_type": "markdown",
   "metadata": {},
   "source": [
    "#### Graphing form data:"
   ]
  },
  {
   "cell_type": "code",
   "execution_count": 86,
   "metadata": {},
   "outputs": [
    {
     "data": {
      "image/png": "[encoded data removed]",
      "text/plain": [
       "<Figure size 1080x576 with 3 Axes>"
      ]
     },
     "metadata": {
      "needs_background": "light"
     },
     "output_type": "display_data"
    }
   ],
   "source": [
    "fig,ax1 = plt.subplots(1, 3)\n",
    "\n",
    "df9.plot.bar(ax=ax1[0],figsize=(15, 8)).set_title('The Significance of Previous Result')\n",
    "df10.plot.bar(ax=ax1[1],figsize=(15, 8)).set_title('The Significance of 5 Results Ago')\n",
    "df11.plot.bar(ax=ax1[2],figsize=(15, 8)).set_title('The Significance of 10 Results Ago')\n",
    "\n",
    "plt.tight_layout()"
   ]
  },
  {
   "cell_type": "markdown",
   "metadata": {},
   "source": [
    "#### The larger win and total portions in the 5 and 10 results ago categories are likely because the horse is more of a veteran.\n",
    "\n",
    "## How often would you win and what would be your expected return if you always bet on the favorite?"
   ]
  },
  {
   "cell_type": "code",
   "execution_count": 87,
   "metadata": {},
   "outputs": [],
   "source": [
    "#Removing races where there is only one odds value\n",
    "odds_cleaned = column_cleaner(df_cleaned, df_grouped, 'bf_odds')"
   ]
  },
  {
   "cell_type": "code",
   "execution_count": 88,
   "metadata": {},
   "outputs": [
    {
     "data": {
      "text/html": [
       "<div>\n",
       "<style scoped>\n",
       "    .dataframe tbody tr th:only-of-type {\n",
       "        vertical-align: middle;\n",
       "    }\n",
       "\n",
       "    .dataframe tbody tr th {\n",
       "        vertical-align: top;\n",
       "    }\n",
       "\n",
       "    .dataframe thead th {\n",
       "        text-align: right;\n",
       "    }\n",
       "</style>\n",
       "<table border=\"1\" class=\"dataframe\">\n",
       "  <thead>\n",
       "    <tr style=\"text-align: right;\">\n",
       "      <th></th>\n",
       "      <th>date</th>\n",
       "      <th>venue_name</th>\n",
       "      <th>race_number</th>\n",
       "      <th>market_name</th>\n",
       "      <th>position_again</th>\n",
       "      <th>bf_odds</th>\n",
       "      <th>condition</th>\n",
       "      <th>name</th>\n",
       "      <th>barrier</th>\n",
       "      <th>blinkers</th>\n",
       "      <th>emergency</th>\n",
       "      <th>handicap_weight</th>\n",
       "      <th>prize_money</th>\n",
       "      <th>sex</th>\n",
       "      <th>age</th>\n",
       "      <th>jockey_sex</th>\n",
       "      <th>days_since_last_run</th>\n",
       "      <th>overall_starts</th>\n",
       "      <th>overall_wins</th>\n",
       "      <th>overall_places</th>\n",
       "      <th>track_starts</th>\n",
       "      <th>track_wins</th>\n",
       "      <th>track_places</th>\n",
       "      <th>firm_starts</th>\n",
       "      <th>firm_wins</th>\n",
       "      <th>firm_places</th>\n",
       "      <th>good_starts</th>\n",
       "      <th>good_wins</th>\n",
       "      <th>good_places</th>\n",
       "      <th>slow_starts</th>\n",
       "      <th>slow_wins</th>\n",
       "      <th>slow_places</th>\n",
       "      <th>soft_starts</th>\n",
       "      <th>soft_wins</th>\n",
       "      <th>soft_places</th>\n",
       "      <th>heavy_starts</th>\n",
       "      <th>heavy_wins</th>\n",
       "      <th>heavy_places</th>\n",
       "      <th>distance_starts</th>\n",
       "      <th>distance_wins</th>\n",
       "      <th>distance_places</th>\n",
       "      <th>distance</th>\n",
       "      <th>overall_win_percent</th>\n",
       "      <th>overall_place_percent</th>\n",
       "      <th>track_win_percent</th>\n",
       "      <th>track_place_percent</th>\n",
       "      <th>distance_win_percent</th>\n",
       "      <th>distance_place_percent</th>\n",
       "      <th>condition_win_percent</th>\n",
       "      <th>condition_starts</th>\n",
       "      <th>condition_place_percent</th>\n",
       "      <th>last_start10</th>\n",
       "      <th>last_start9</th>\n",
       "      <th>last_start8</th>\n",
       "      <th>last_start7</th>\n",
       "      <th>last_start6</th>\n",
       "      <th>last_start5</th>\n",
       "      <th>last_start4</th>\n",
       "      <th>last_start3</th>\n",
       "      <th>last_start2</th>\n",
       "      <th>last_start1</th>\n",
       "      <th>weight_z</th>\n",
       "      <th>prize_money_per_start</th>\n",
       "      <th>prize_money_per_start_z</th>\n",
       "      <th>age_z</th>\n",
       "      <th>days_since_last_run_z</th>\n",
       "      <th>overall_win_percent_z</th>\n",
       "      <th>overall_place_percent_z</th>\n",
       "      <th>distance_win_percent_z</th>\n",
       "      <th>distance_place_percent_z</th>\n",
       "      <th>condition_win_percent_z</th>\n",
       "      <th>condition_place_percent_z</th>\n",
       "      <th>overall_starts_z</th>\n",
       "      <th>distance_starts_z</th>\n",
       "      <th>condition_starts_z</th>\n",
       "      <th>track_starts_z</th>\n",
       "    </tr>\n",
       "  </thead>\n",
       "  <tbody>\n",
       "    <tr>\n",
       "      <th>0</th>\n",
       "      <td>2016-06-27</td>\n",
       "      <td>Echuca</td>\n",
       "      <td>3</td>\n",
       "      <td>R3 1200m Mdn</td>\n",
       "      <td>1.00</td>\n",
       "      <td>2.88</td>\n",
       "      <td>HEAVY</td>\n",
       "      <td>CORONATION LANCE</td>\n",
       "      <td>3.00</td>\n",
       "      <td>False</td>\n",
       "      <td>False</td>\n",
       "      <td>58.50</td>\n",
       "      <td>2160.00</td>\n",
       "      <td>Gelding</td>\n",
       "      <td>3.00</td>\n",
       "      <td>Male</td>\n",
       "      <td>14.00</td>\n",
       "      <td>1.00</td>\n",
       "      <td>0.00</td>\n",
       "      <td>1.00</td>\n",
       "      <td>0.00</td>\n",
       "      <td>0.00</td>\n",
       "      <td>0.00</td>\n",
       "      <td>0.00</td>\n",
       "      <td>0.00</td>\n",
       "      <td>0.00</td>\n",
       "      <td>0.00</td>\n",
       "      <td>0.00</td>\n",
       "      <td>0.00</td>\n",
       "      <td>1.00</td>\n",
       "      <td>0.00</td>\n",
       "      <td>1.00</td>\n",
       "      <td>1.00</td>\n",
       "      <td>0.00</td>\n",
       "      <td>1.00</td>\n",
       "      <td>0.00</td>\n",
       "      <td>0.00</td>\n",
       "      <td>0.00</td>\n",
       "      <td>1.00</td>\n",
       "      <td>0.00</td>\n",
       "      <td>1.00</td>\n",
       "      <td>1200</td>\n",
       "      <td>0.00</td>\n",
       "      <td>1.00</td>\n",
       "      <td>nan</td>\n",
       "      <td>nan</td>\n",
       "      <td>0.00</td>\n",
       "      <td>1.00</td>\n",
       "      <td>nan</td>\n",
       "      <td>0.00</td>\n",
       "      <td>nan</td>\n",
       "      <td>NaN</td>\n",
       "      <td>NaN</td>\n",
       "      <td>NaN</td>\n",
       "      <td>NaN</td>\n",
       "      <td>NaN</td>\n",
       "      <td>NaN</td>\n",
       "      <td>NaN</td>\n",
       "      <td>NaN</td>\n",
       "      <td>3</td>\n",
       "      <td>fell</td>\n",
       "      <td>1.56</td>\n",
       "      <td>2160.00</td>\n",
       "      <td>-0.28</td>\n",
       "      <td>-0.94</td>\n",
       "      <td>-0.61</td>\n",
       "      <td>nan</td>\n",
       "      <td>2.52</td>\n",
       "      <td>nan</td>\n",
       "      <td>nan</td>\n",
       "      <td>nan</td>\n",
       "      <td>nan</td>\n",
       "      <td>-0.72</td>\n",
       "      <td>-0.56</td>\n",
       "      <td>-0.58</td>\n",
       "      <td>-0.39</td>\n",
       "    </tr>\n",
       "    <tr>\n",
       "      <th>1</th>\n",
       "      <td>2016-06-27</td>\n",
       "      <td>Echuca</td>\n",
       "      <td>3</td>\n",
       "      <td>R3 1200m Mdn</td>\n",
       "      <td>2.00</td>\n",
       "      <td>15.00</td>\n",
       "      <td>HEAVY</td>\n",
       "      <td>THUNDER GUN</td>\n",
       "      <td>10.00</td>\n",
       "      <td>False</td>\n",
       "      <td>False</td>\n",
       "      <td>58.50</td>\n",
       "      <td>21175.00</td>\n",
       "      <td>Gelding</td>\n",
       "      <td>5.00</td>\n",
       "      <td>Male</td>\n",
       "      <td>39.00</td>\n",
       "      <td>5.00</td>\n",
       "      <td>0.00</td>\n",
       "      <td>1.00</td>\n",
       "      <td>0.00</td>\n",
       "      <td>0.00</td>\n",
       "      <td>0.00</td>\n",
       "      <td>0.00</td>\n",
       "      <td>0.00</td>\n",
       "      <td>0.00</td>\n",
       "      <td>2.00</td>\n",
       "      <td>0.00</td>\n",
       "      <td>0.00</td>\n",
       "      <td>2.00</td>\n",
       "      <td>0.00</td>\n",
       "      <td>1.00</td>\n",
       "      <td>2.00</td>\n",
       "      <td>0.00</td>\n",
       "      <td>1.00</td>\n",
       "      <td>1.00</td>\n",
       "      <td>0.00</td>\n",
       "      <td>0.00</td>\n",
       "      <td>1.00</td>\n",
       "      <td>0.00</td>\n",
       "      <td>1.00</td>\n",
       "      <td>1200</td>\n",
       "      <td>0.00</td>\n",
       "      <td>0.20</td>\n",
       "      <td>nan</td>\n",
       "      <td>nan</td>\n",
       "      <td>0.00</td>\n",
       "      <td>1.00</td>\n",
       "      <td>0.00</td>\n",
       "      <td>1.00</td>\n",
       "      <td>0.00</td>\n",
       "      <td>NaN</td>\n",
       "      <td>2</td>\n",
       "      <td>scratch</td>\n",
       "      <td>ten+</td>\n",
       "      <td>8</td>\n",
       "      <td>scratch</td>\n",
       "      <td>6</td>\n",
       "      <td>scratch</td>\n",
       "      <td>ten+</td>\n",
       "      <td>fell</td>\n",
       "      <td>1.56</td>\n",
       "      <td>4235.00</td>\n",
       "      <td>0.59</td>\n",
       "      <td>0.54</td>\n",
       "      <td>-0.20</td>\n",
       "      <td>nan</td>\n",
       "      <td>0.05</td>\n",
       "      <td>nan</td>\n",
       "      <td>nan</td>\n",
       "      <td>nan</td>\n",
       "      <td>nan</td>\n",
       "      <td>0.07</td>\n",
       "      <td>-0.56</td>\n",
       "      <td>0.49</td>\n",
       "      <td>-0.39</td>\n",
       "    </tr>\n",
       "    <tr>\n",
       "      <th>2</th>\n",
       "      <td>2016-06-27</td>\n",
       "      <td>Echuca</td>\n",
       "      <td>3</td>\n",
       "      <td>R3 1200m Mdn</td>\n",
       "      <td>3.00</td>\n",
       "      <td>95.00</td>\n",
       "      <td>HEAVY</td>\n",
       "      <td>JUST LEAVE</td>\n",
       "      <td>6.00</td>\n",
       "      <td>False</td>\n",
       "      <td>False</td>\n",
       "      <td>56.50</td>\n",
       "      <td>28855.00</td>\n",
       "      <td>Mare</td>\n",
       "      <td>6.00</td>\n",
       "      <td>Male</td>\n",
       "      <td>15.00</td>\n",
       "      <td>10.00</td>\n",
       "      <td>0.00</td>\n",
       "      <td>0.00</td>\n",
       "      <td>0.00</td>\n",
       "      <td>0.00</td>\n",
       "      <td>0.00</td>\n",
       "      <td>0.00</td>\n",
       "      <td>0.00</td>\n",
       "      <td>0.00</td>\n",
       "      <td>2.00</td>\n",
       "      <td>0.00</td>\n",
       "      <td>0.00</td>\n",
       "      <td>1.00</td>\n",
       "      <td>0.00</td>\n",
       "      <td>0.00</td>\n",
       "      <td>5.00</td>\n",
       "      <td>0.00</td>\n",
       "      <td>0.00</td>\n",
       "      <td>3.00</td>\n",
       "      <td>0.00</td>\n",
       "      <td>0.00</td>\n",
       "      <td>4.00</td>\n",
       "      <td>0.00</td>\n",
       "      <td>0.00</td>\n",
       "      <td>1200</td>\n",
       "      <td>0.00</td>\n",
       "      <td>0.00</td>\n",
       "      <td>nan</td>\n",
       "      <td>nan</td>\n",
       "      <td>0.00</td>\n",
       "      <td>0.00</td>\n",
       "      <td>0.00</td>\n",
       "      <td>3.00</td>\n",
       "      <td>0.00</td>\n",
       "      <td>scratch</td>\n",
       "      <td>9</td>\n",
       "      <td>7</td>\n",
       "      <td>5</td>\n",
       "      <td>7</td>\n",
       "      <td>7</td>\n",
       "      <td>4</td>\n",
       "      <td>8</td>\n",
       "      <td>6</td>\n",
       "      <td>fell</td>\n",
       "      <td>-0.58</td>\n",
       "      <td>2885.50</td>\n",
       "      <td>0.02</td>\n",
       "      <td>1.28</td>\n",
       "      <td>-0.60</td>\n",
       "      <td>nan</td>\n",
       "      <td>-0.56</td>\n",
       "      <td>nan</td>\n",
       "      <td>nan</td>\n",
       "      <td>nan</td>\n",
       "      <td>nan</td>\n",
       "      <td>1.06</td>\n",
       "      <td>0.41</td>\n",
       "      <td>2.63</td>\n",
       "      <td>-0.39</td>\n",
       "    </tr>\n",
       "    <tr>\n",
       "      <th>3</th>\n",
       "      <td>2016-06-27</td>\n",
       "      <td>Echuca</td>\n",
       "      <td>3</td>\n",
       "      <td>R3 1200m Mdn</td>\n",
       "      <td>nan</td>\n",
       "      <td>20.00</td>\n",
       "      <td>HEAVY</td>\n",
       "      <td>ONYA SKATES KATE</td>\n",
       "      <td>2.00</td>\n",
       "      <td>False</td>\n",
       "      <td>False</td>\n",
       "      <td>56.50</td>\n",
       "      <td>1475.00</td>\n",
       "      <td>Filly</td>\n",
       "      <td>3.00</td>\n",
       "      <td>Male</td>\n",
       "      <td>15.00</td>\n",
       "      <td>1.00</td>\n",
       "      <td>0.00</td>\n",
       "      <td>0.00</td>\n",
       "      <td>0.00</td>\n",
       "      <td>0.00</td>\n",
       "      <td>0.00</td>\n",
       "      <td>0.00</td>\n",
       "      <td>0.00</td>\n",
       "      <td>0.00</td>\n",
       "      <td>0.00</td>\n",
       "      <td>0.00</td>\n",
       "      <td>0.00</td>\n",
       "      <td>0.00</td>\n",
       "      <td>0.00</td>\n",
       "      <td>0.00</td>\n",
       "      <td>1.00</td>\n",
       "      <td>0.00</td>\n",
       "      <td>0.00</td>\n",
       "      <td>0.00</td>\n",
       "      <td>0.00</td>\n",
       "      <td>0.00</td>\n",
       "      <td>1.00</td>\n",
       "      <td>0.00</td>\n",
       "      <td>0.00</td>\n",
       "      <td>1200</td>\n",
       "      <td>0.00</td>\n",
       "      <td>0.00</td>\n",
       "      <td>nan</td>\n",
       "      <td>nan</td>\n",
       "      <td>0.00</td>\n",
       "      <td>0.00</td>\n",
       "      <td>nan</td>\n",
       "      <td>0.00</td>\n",
       "      <td>nan</td>\n",
       "      <td>NaN</td>\n",
       "      <td>NaN</td>\n",
       "      <td>NaN</td>\n",
       "      <td>NaN</td>\n",
       "      <td>NaN</td>\n",
       "      <td>NaN</td>\n",
       "      <td>NaN</td>\n",
       "      <td>NaN</td>\n",
       "      <td>ten+</td>\n",
       "      <td>fell</td>\n",
       "      <td>-0.58</td>\n",
       "      <td>1475.00</td>\n",
       "      <td>-0.57</td>\n",
       "      <td>-0.94</td>\n",
       "      <td>-0.60</td>\n",
       "      <td>nan</td>\n",
       "      <td>-0.56</td>\n",
       "      <td>nan</td>\n",
       "      <td>nan</td>\n",
       "      <td>nan</td>\n",
       "      <td>nan</td>\n",
       "      <td>-0.72</td>\n",
       "      <td>-0.56</td>\n",
       "      <td>-0.58</td>\n",
       "      <td>-0.39</td>\n",
       "    </tr>\n",
       "    <tr>\n",
       "      <th>4</th>\n",
       "      <td>2016-06-27</td>\n",
       "      <td>Echuca</td>\n",
       "      <td>3</td>\n",
       "      <td>R3 1200m Mdn</td>\n",
       "      <td>nan</td>\n",
       "      <td>2.74</td>\n",
       "      <td>HEAVY</td>\n",
       "      <td>DISSEMINATE</td>\n",
       "      <td>7.00</td>\n",
       "      <td>False</td>\n",
       "      <td>False</td>\n",
       "      <td>56.50</td>\n",
       "      <td>1215.00</td>\n",
       "      <td>Filly</td>\n",
       "      <td>3.00</td>\n",
       "      <td>Male</td>\n",
       "      <td>173.00</td>\n",
       "      <td>1.00</td>\n",
       "      <td>0.00</td>\n",
       "      <td>0.00</td>\n",
       "      <td>0.00</td>\n",
       "      <td>0.00</td>\n",
       "      <td>0.00</td>\n",
       "      <td>0.00</td>\n",
       "      <td>0.00</td>\n",
       "      <td>0.00</td>\n",
       "      <td>1.00</td>\n",
       "      <td>0.00</td>\n",
       "      <td>0.00</td>\n",
       "      <td>0.00</td>\n",
       "      <td>0.00</td>\n",
       "      <td>0.00</td>\n",
       "      <td>0.00</td>\n",
       "      <td>0.00</td>\n",
       "      <td>0.00</td>\n",
       "      <td>0.00</td>\n",
       "      <td>0.00</td>\n",
       "      <td>0.00</td>\n",
       "      <td>1.00</td>\n",
       "      <td>0.00</td>\n",
       "      <td>0.00</td>\n",
       "      <td>1200</td>\n",
       "      <td>0.00</td>\n",
       "      <td>0.00</td>\n",
       "      <td>nan</td>\n",
       "      <td>nan</td>\n",
       "      <td>0.00</td>\n",
       "      <td>0.00</td>\n",
       "      <td>nan</td>\n",
       "      <td>0.00</td>\n",
       "      <td>nan</td>\n",
       "      <td>NaN</td>\n",
       "      <td>NaN</td>\n",
       "      <td>NaN</td>\n",
       "      <td>NaN</td>\n",
       "      <td>NaN</td>\n",
       "      <td>NaN</td>\n",
       "      <td>NaN</td>\n",
       "      <td>scratch</td>\n",
       "      <td>4</td>\n",
       "      <td>fell</td>\n",
       "      <td>-0.58</td>\n",
       "      <td>1215.00</td>\n",
       "      <td>-0.68</td>\n",
       "      <td>-0.94</td>\n",
       "      <td>2.00</td>\n",
       "      <td>nan</td>\n",
       "      <td>-0.56</td>\n",
       "      <td>nan</td>\n",
       "      <td>nan</td>\n",
       "      <td>nan</td>\n",
       "      <td>nan</td>\n",
       "      <td>-0.72</td>\n",
       "      <td>-0.56</td>\n",
       "      <td>-0.58</td>\n",
       "      <td>-0.39</td>\n",
       "    </tr>\n",
       "  </tbody>\n",
       "</table>\n",
       "</div>"
      ],
      "text/plain": [
       "        date venue_name  race_number   market_name  position_again  bf_odds  \\\n",
       "0 2016-06-27     Echuca            3  R3 1200m Mdn            1.00     2.88   \n",
       "1 2016-06-27     Echuca            3  R3 1200m Mdn            2.00    15.00   \n",
       "2 2016-06-27     Echuca            3  R3 1200m Mdn            3.00    95.00   \n",
       "3 2016-06-27     Echuca            3  R3 1200m Mdn             nan    20.00   \n",
       "4 2016-06-27     Echuca            3  R3 1200m Mdn             nan     2.74   \n",
       "\n",
       "  condition              name  barrier  blinkers  emergency  handicap_weight  \\\n",
       "0     HEAVY  CORONATION LANCE     3.00     False      False            58.50   \n",
       "1     HEAVY       THUNDER GUN    10.00     False      False            58.50   \n",
       "2     HEAVY        JUST LEAVE     6.00     False      False            56.50   \n",
       "3     HEAVY  ONYA SKATES KATE     2.00     False      False            56.50   \n",
       "4     HEAVY       DISSEMINATE     7.00     False      False            56.50   \n",
       "\n",
       "   prize_money      sex  age jockey_sex  days_since_last_run  overall_starts  \\\n",
       "0      2160.00  Gelding 3.00       Male                14.00            1.00   \n",
       "1     21175.00  Gelding 5.00       Male                39.00            5.00   \n",
       "2     28855.00     Mare 6.00       Male                15.00           10.00   \n",
       "3      1475.00    Filly 3.00       Male                15.00            1.00   \n",
       "4      1215.00    Filly 3.00       Male               173.00            1.00   \n",
       "\n",
       "   overall_wins  overall_places  track_starts  track_wins  track_places  \\\n",
       "0          0.00            1.00          0.00        0.00          0.00   \n",
       "1          0.00            1.00          0.00        0.00          0.00   \n",
       "2          0.00            0.00          0.00        0.00          0.00   \n",
       "3          0.00            0.00          0.00        0.00          0.00   \n",
       "4          0.00            0.00          0.00        0.00          0.00   \n",
       "\n",
       "   firm_starts  firm_wins  firm_places  good_starts  good_wins  good_places  \\\n",
       "0         0.00       0.00         0.00         0.00       0.00         0.00   \n",
       "1         0.00       0.00         0.00         2.00       0.00         0.00   \n",
       "2         0.00       0.00         0.00         2.00       0.00         0.00   \n",
       "3         0.00       0.00         0.00         0.00       0.00         0.00   \n",
       "4         0.00       0.00         0.00         1.00       0.00         0.00   \n",
       "\n",
       "   slow_starts  slow_wins  slow_places  soft_starts  soft_wins  soft_places  \\\n",
       "0         1.00       0.00         1.00         1.00       0.00         1.00   \n",
       "1         2.00       0.00         1.00         2.00       0.00         1.00   \n",
       "2         1.00       0.00         0.00         5.00       0.00         0.00   \n",
       "3         0.00       0.00         0.00         1.00       0.00         0.00   \n",
       "4         0.00       0.00         0.00         0.00       0.00         0.00   \n",
       "\n",
       "   heavy_starts  heavy_wins  heavy_places  distance_starts  distance_wins  \\\n",
       "0          0.00        0.00          0.00             1.00           0.00   \n",
       "1          1.00        0.00          0.00             1.00           0.00   \n",
       "2          3.00        0.00          0.00             4.00           0.00   \n",
       "3          0.00        0.00          0.00             1.00           0.00   \n",
       "4          0.00        0.00          0.00             1.00           0.00   \n",
       "\n",
       "   distance_places  distance  overall_win_percent  overall_place_percent  \\\n",
       "0             1.00      1200                 0.00                   1.00   \n",
       "1             1.00      1200                 0.00                   0.20   \n",
       "2             0.00      1200                 0.00                   0.00   \n",
       "3             0.00      1200                 0.00                   0.00   \n",
       "4             0.00      1200                 0.00                   0.00   \n",
       "\n",
       "   track_win_percent  track_place_percent  distance_win_percent  \\\n",
       "0                nan                  nan                  0.00   \n",
       "1                nan                  nan                  0.00   \n",
       "2                nan                  nan                  0.00   \n",
       "3                nan                  nan                  0.00   \n",
       "4                nan                  nan                  0.00   \n",
       "\n",
       "   distance_place_percent  condition_win_percent  condition_starts  \\\n",
       "0                    1.00                    nan              0.00   \n",
       "1                    1.00                   0.00              1.00   \n",
       "2                    0.00                   0.00              3.00   \n",
       "3                    0.00                    nan              0.00   \n",
       "4                    0.00                    nan              0.00   \n",
       "\n",
       "   condition_place_percent last_start10 last_start9 last_start8 last_start7  \\\n",
       "0                      nan          NaN         NaN         NaN         NaN   \n",
       "1                     0.00          NaN           2     scratch        ten+   \n",
       "2                     0.00      scratch           9           7           5   \n",
       "3                      nan          NaN         NaN         NaN         NaN   \n",
       "4                      nan          NaN         NaN         NaN         NaN   \n",
       "\n",
       "  last_start6 last_start5 last_start4 last_start3 last_start2 last_start1  \\\n",
       "0         NaN         NaN         NaN         NaN           3        fell   \n",
       "1           8     scratch           6     scratch        ten+        fell   \n",
       "2           7           7           4           8           6        fell   \n",
       "3         NaN         NaN         NaN         NaN        ten+        fell   \n",
       "4         NaN         NaN         NaN     scratch           4        fell   \n",
       "\n",
       "   weight_z  prize_money_per_start  prize_money_per_start_z  age_z  \\\n",
       "0      1.56                2160.00                    -0.28  -0.94   \n",
       "1      1.56                4235.00                     0.59   0.54   \n",
       "2     -0.58                2885.50                     0.02   1.28   \n",
       "3     -0.58                1475.00                    -0.57  -0.94   \n",
       "4     -0.58                1215.00                    -0.68  -0.94   \n",
       "\n",
       "   days_since_last_run_z  overall_win_percent_z  overall_place_percent_z  \\\n",
       "0                  -0.61                    nan                     2.52   \n",
       "1                  -0.20                    nan                     0.05   \n",
       "2                  -0.60                    nan                    -0.56   \n",
       "3                  -0.60                    nan                    -0.56   \n",
       "4                   2.00                    nan                    -0.56   \n",
       "\n",
       "   distance_win_percent_z  distance_place_percent_z  condition_win_percent_z  \\\n",
       "0                     nan                       nan                      nan   \n",
       "1                     nan                       nan                      nan   \n",
       "2                     nan                       nan                      nan   \n",
       "3                     nan                       nan                      nan   \n",
       "4                     nan                       nan                      nan   \n",
       "\n",
       "   condition_place_percent_z  overall_starts_z  distance_starts_z  \\\n",
       "0                        nan             -0.72              -0.56   \n",
       "1                        nan              0.07              -0.56   \n",
       "2                        nan              1.06               0.41   \n",
       "3                        nan             -0.72              -0.56   \n",
       "4                        nan             -0.72              -0.56   \n",
       "\n",
       "   condition_starts_z  track_starts_z  \n",
       "0               -0.58           -0.39  \n",
       "1                0.49           -0.39  \n",
       "2                2.63           -0.39  \n",
       "3               -0.58           -0.39  \n",
       "4               -0.58           -0.39  "
      ]
     },
     "execution_count": 88,
     "metadata": {},
     "output_type": "execute_result"
    }
   ],
   "source": [
    "#creates dataframe with a unique index\n",
    "odds_cleaned.sort_index(level=['date','venue_name','race_number'],inplace=True)\n",
    "odds_cleaned.reset_index(inplace=True)\n",
    "odds_grouped = odds_cleaned.groupby(['date','venue_name','race_number','market_name'])\n",
    "\n",
    "odds_cleaned.head()"
   ]
  },
  {
   "cell_type": "code",
   "execution_count": 89,
   "metadata": {},
   "outputs": [
    {
     "name": "stdout",
     "output_type": "stream",
     "text": [
      "Number of favorites: 22129\n",
      "Number of favorites that win: 7641\n",
      "Average odds of favorite that wins: 2.96345897133883\n"
     ]
    }
   ],
   "source": [
    "#finds index of favorite for every race\n",
    "favorite_indices = odds_grouped.bf_odds.idxmin()\n",
    "\n",
    "#finds row for each favorite\n",
    "favorite_cleaned = odds_cleaned.iloc[favorite_indices]\n",
    "\n",
    "#finds favorites that won\n",
    "favorite_win = cleaned_win_df(favorite_cleaned)\n",
    "\n",
    "favorite_pop_count = len(favorite_cleaned)\n",
    "favorite_win_count = len(favorite_win)\n",
    "\n",
    "#finds average win of favorite that won\n",
    "average = favorite_win.bf_odds.mean()\n",
    "\n",
    "print('Number of favorites:',favorite_pop_count)\n",
    "print('Number of favorites that win:',favorite_win_count)\n",
    "print('Average odds of favorite that wins:',average)"
   ]
  },
  {
   "cell_type": "markdown",
   "metadata": {},
   "source": [
    "### How often the favorite wins:"
   ]
  },
  {
   "cell_type": "code",
   "execution_count": 90,
   "metadata": {},
   "outputs": [
    {
     "name": "stdout",
     "output_type": "stream",
     "text": [
      "34.53 %\n"
     ]
    }
   ],
   "source": [
    "print('{0:.2f} %'.format(favorite_win_count/favorite_pop_count*100))"
   ]
  },
  {
   "cell_type": "markdown",
   "metadata": {},
   "source": [
    "#### Similar to value found here:\n",
    "https://betmix.com/how-often-does-the-favorite-win-a-horse-race/#:~:text=On%20average%20favorites%20win%20about,dirt%20races%20than%20turf%20races.\n",
    "\n",
    "\n",
    "### The expected return if betting 1 dollar on favorite every race:"
   ]
  },
  {
   "cell_type": "code",
   "execution_count": 91,
   "metadata": {},
   "outputs": [
    {
     "data": {
      "text/plain": [
       "0.02326313886754941"
      ]
     },
     "execution_count": 91,
     "metadata": {},
     "output_type": "execute_result"
    }
   ],
   "source": [
    "(average*favorite_win_count - favorite_pop_count)/favorite_pop_count"
   ]
  },
  {
   "cell_type": "markdown",
   "metadata": {},
   "source": [
    "## Predicting winnings with regression models:"
   ]
  },
  {
   "cell_type": "code",
   "execution_count": 92,
   "metadata": {},
   "outputs": [],
   "source": [
    "# Creating a new target feature that approximates the winnings of the horses that place\n",
    "def place_odds_estimator(win_odds):\n",
    "    place_odds = .212465 * win_odds + 1.01712\n",
    "    return place_odds"
   ]
  },
  {
   "cell_type": "code",
   "execution_count": 93,
   "metadata": {},
   "outputs": [],
   "source": [
    "conditions = [(df_cleaned['position_again'] == 1),\n",
    "              (df_cleaned['position_again'] == 2) | (df_cleaned['position_again'] == 3)]\n",
    "\n",
    "choices = [df_cleaned['bf_odds'], place_odds_estimator(df_cleaned['bf_odds'])]\n",
    "\n",
    "df_cleaned['target'] = np.select(conditions, choices, default=0)"
   ]
  },
  {
   "cell_type": "code",
   "execution_count": 95,
   "metadata": {},
   "outputs": [
    {
     "data": {
      "text/html": [
       "<div>\n",
       "<style scoped>\n",
       "    .dataframe tbody tr th:only-of-type {\n",
       "        vertical-align: middle;\n",
       "    }\n",
       "\n",
       "    .dataframe tbody tr th {\n",
       "        vertical-align: top;\n",
       "    }\n",
       "\n",
       "    .dataframe thead th {\n",
       "        text-align: right;\n",
       "    }\n",
       "</style>\n",
       "<table border=\"1\" class=\"dataframe\">\n",
       "  <thead>\n",
       "    <tr style=\"text-align: right;\">\n",
       "      <th></th>\n",
       "      <th></th>\n",
       "      <th></th>\n",
       "      <th></th>\n",
       "      <th>position_again</th>\n",
       "      <th>bf_odds</th>\n",
       "      <th>target</th>\n",
       "    </tr>\n",
       "    <tr>\n",
       "      <th>date</th>\n",
       "      <th>venue_name</th>\n",
       "      <th>race_number</th>\n",
       "      <th>market_name</th>\n",
       "      <th></th>\n",
       "      <th></th>\n",
       "      <th></th>\n",
       "    </tr>\n",
       "  </thead>\n",
       "  <tbody>\n",
       "    <tr>\n",
       "      <th rowspan=\"5\" valign=\"top\">2016-06-27</th>\n",
       "      <th rowspan=\"5\" valign=\"top\">Echuca</th>\n",
       "      <th rowspan=\"5\" valign=\"top\">3</th>\n",
       "      <th>R3 1200m Mdn</th>\n",
       "      <td>1.00</td>\n",
       "      <td>2.88</td>\n",
       "      <td>2.88</td>\n",
       "    </tr>\n",
       "    <tr>\n",
       "      <th>R3 1200m Mdn</th>\n",
       "      <td>2.00</td>\n",
       "      <td>15.00</td>\n",
       "      <td>4.20</td>\n",
       "    </tr>\n",
       "    <tr>\n",
       "      <th>R3 1200m Mdn</th>\n",
       "      <td>3.00</td>\n",
       "      <td>95.00</td>\n",
       "      <td>21.20</td>\n",
       "    </tr>\n",
       "    <tr>\n",
       "      <th>R3 1200m Mdn</th>\n",
       "      <td>nan</td>\n",
       "      <td>20.00</td>\n",
       "      <td>0.00</td>\n",
       "    </tr>\n",
       "    <tr>\n",
       "      <th>R3 1200m Mdn</th>\n",
       "      <td>nan</td>\n",
       "      <td>2.74</td>\n",
       "      <td>0.00</td>\n",
       "    </tr>\n",
       "  </tbody>\n",
       "</table>\n",
       "</div>"
      ],
      "text/plain": [
       "                                                position_again  bf_odds  \\\n",
       "date       venue_name race_number market_name                             \n",
       "2016-06-27 Echuca     3           R3 1200m Mdn            1.00     2.88   \n",
       "                                  R3 1200m Mdn            2.00    15.00   \n",
       "                                  R3 1200m Mdn            3.00    95.00   \n",
       "                                  R3 1200m Mdn             nan    20.00   \n",
       "                                  R3 1200m Mdn             nan     2.74   \n",
       "\n",
       "                                                target  \n",
       "date       venue_name race_number market_name           \n",
       "2016-06-27 Echuca     3           R3 1200m Mdn    2.88  \n",
       "                                  R3 1200m Mdn    4.20  \n",
       "                                  R3 1200m Mdn   21.20  \n",
       "                                  R3 1200m Mdn    0.00  \n",
       "                                  R3 1200m Mdn    0.00  "
      ]
     },
     "execution_count": 95,
     "metadata": {},
     "output_type": "execute_result"
    }
   ],
   "source": [
    "df_cleaned[['position_again','bf_odds','target']].head()"
   ]
  },
  {
   "cell_type": "code",
   "execution_count": 96,
   "metadata": {},
   "outputs": [],
   "source": [
    "df_cleaned.drop('position_again',axis=1,inplace=True)"
   ]
  },
  {
   "cell_type": "markdown",
   "metadata": {},
   "source": [
    "### Creating dummy variables:"
   ]
  },
  {
   "cell_type": "code",
   "execution_count": 97,
   "metadata": {},
   "outputs": [],
   "source": [
    "df_cleaned.sort_index(level=['date','venue_name','race_number'],inplace=True)"
   ]
  },
  {
   "cell_type": "code",
   "execution_count": 98,
   "metadata": {},
   "outputs": [],
   "source": [
    "categorical_list = ['sex','jockey_sex','condition','barrier','blinkers','emergency']\n",
    "for i in range(10):\n",
    "    categorical_list.append('last_start'+str(i+1)) \n",
    "\n",
    "df_cleaned = pd.get_dummies(df_cleaned,columns=categorical_list,drop_first=True,dummy_na=True)"
   ]
  },
  {
   "cell_type": "markdown",
   "metadata": {},
   "source": [
    "### Imputing nans:"
   ]
  },
  {
   "cell_type": "code",
   "execution_count": 99,
   "metadata": {},
   "outputs": [],
   "source": [
    "from sklearn.experimental import enable_iterative_imputer\n",
    "from sklearn.impute import IterativeImputer\n",
    "from math import floor"
   ]
  },
  {
   "cell_type": "markdown",
   "metadata": {},
   "source": [
    "#### Creating unique index and grouping data"
   ]
  },
  {
   "cell_type": "code",
   "execution_count": 100,
   "metadata": {},
   "outputs": [],
   "source": [
    "df_cleaned['uniq_idx'] = range(len(df_cleaned))\n",
    "df_cleaned.set_index('uniq_idx',append=True,inplace=True)\n",
    "\n",
    "df_grouped = df_cleaned.groupby(['date','venue_name','race_number','market_name'])\n",
    "\n",
    "df_grouped_list = [df_grouped.get_group(x) for x in df_grouped.groups]\n",
    "len_sgl = len(df_grouped_list)"
   ]
  },
  {
   "cell_type": "code",
   "execution_count": 101,
   "metadata": {},
   "outputs": [],
   "source": [
    "y = df_cleaned['target']\n",
    "X = df_cleaned.drop(['target','name'],axis=1)"
   ]
  },
  {
   "cell_type": "code",
   "execution_count": 102,
   "metadata": {
    "scrolled": true
   },
   "outputs": [],
   "source": [
    "train = df_grouped_list[:floor(.1*len_sgl)]\n",
    "test = df_grouped_list[floor(.1*len_sgl):]\n",
    "\n",
    "last_train_index = int(train[-1].index[-1][-1])\n",
    "last_test_index = int(test[-1].index[-1][-1])\n",
    "\n",
    "train_indices = [idx for idx in range(last_train_index + 1)]\n",
    "test_indices = [idx for idx in range(last_train_index + 1, last_test_index + 1)]\n",
    "\n",
    "X_train,X_test,y_train,y_test = X.iloc[train_indices],X.iloc[test_indices],y.iloc[train_indices],y.iloc[test_indices]"
   ]
  },
  {
   "cell_type": "code",
   "execution_count": 103,
   "metadata": {},
   "outputs": [],
   "source": [
    "odds_set = X_test['bf_odds']\n",
    "X_test.drop('bf_odds',inplace=True,axis=1)\n",
    "X_train.drop('bf_odds',inplace=True,axis=1)"
   ]
  },
  {
   "cell_type": "code",
   "execution_count": 104,
   "metadata": {},
   "outputs": [],
   "source": [
    "imp_mean = IterativeImputer()\n",
    "imp_mean.fit(X_train,y_train)\n",
    "transformed_X = imp_mean.transform(X_test)\n",
    "\n",
    "# Transformaing np.array output back into pandas dataframe\n",
    "transformed_X = pd.DataFrame(data=transformed_X,index=y_test.index,columns=X_test.columns)"
   ]
  },
  {
   "cell_type": "code",
   "execution_count": 105,
   "metadata": {},
   "outputs": [
    {
     "data": {
      "text/plain": [
       "0"
      ]
     },
     "execution_count": 105,
     "metadata": {},
     "output_type": "execute_result"
    }
   ],
   "source": [
    "transformed_X.isnull().sum().sum() #Total null values after transformation"
   ]
  },
  {
   "cell_type": "code",
   "execution_count": 106,
   "metadata": {},
   "outputs": [],
   "source": [
    "transformed_X.droplevel('uniq_idx')\n",
    "transformed_X['uniq_idx'] = range(len(transformed_X))\n",
    "transformed_X = transformed_X.set_index('uniq_idx',append=True)\n",
    "\n",
    "transformed_X_grouped = transformed_X.groupby(['date','venue_name','race_number','market_name'])\n",
    "transformed_X_grouped_list = [transformed_X_grouped.get_group(x) for x in transformed_X_grouped.groups]\n",
    "\n",
    "transformed_X.reset_index(drop=True,inplace=True)\n",
    "y_test.reset_index(drop=True,inplace=True)"
   ]
  },
  {
   "cell_type": "markdown",
   "metadata": {},
   "source": [
    "### Splitting the grouped data:"
   ]
  },
  {
   "cell_type": "code",
   "execution_count": 115,
   "metadata": {},
   "outputs": [],
   "source": [
    "from sklearn.linear_model import SGDRegressor\n",
    "from sklearn.neural_network import MLPRegressor\n",
    "\n",
    "#for function below\n",
    "from time import time\n",
    "from sklearn.metrics import make_scorer,confusion_matrix,accuracy_score,\\\n",
    "    precision_score,recall_score,f1_score,roc_auc_score,matthews_corrcoef,\\\n",
    "    mean_squared_error,mean_absolute_error,r2_score"
   ]
  },
  {
   "cell_type": "markdown",
   "metadata": {},
   "source": [
    "#### The dataset is imbalanced and this needs to be accounted for, so I use models with a balancing option."
   ]
  },
  {
   "cell_type": "code",
   "execution_count": 108,
   "metadata": {},
   "outputs": [],
   "source": [
    "sdg_clf = SGDRegressor(random_state=0)\n",
    "mlp_clf = MLPRegressor(random_state=0)"
   ]
  },
  {
   "cell_type": "markdown",
   "metadata": {},
   "source": [
    "#### A function to split data and fit, predict, and score models:"
   ]
  },
  {
   "cell_type": "code",
   "execution_count": 130,
   "metadata": {},
   "outputs": [],
   "source": [
    "def grouped_time_series_split(i, sorted_grouped_list, len_sgl, folds):\n",
    "    train = sorted_grouped_list[:floor((i+1)/(folds+2)*len_sgl)]\n",
    "    val = sorted_grouped_list[floor((i+1)/(folds+2)*len_sgl):floor((i+2)/(folds+2)*len_sgl)]\n",
    "    test = sorted_grouped_list[floor((i+2)/(folds+2)*len_sgl):floor((i+3)/(folds+2)*len_sgl)]\n",
    "    \n",
    "    last_train_index = int(train[-1].index[-1][-1])\n",
    "    last_val_index = int(val[-1].index[-1][-1])\n",
    "    last_test_index = int(test[-1].index[-1][-1])\n",
    "    \n",
    "    train_index = [idx for idx in range(last_train_index + 1)]\n",
    "    val_index = [idx for idx in range(last_train_index + 1, last_val_index + 1)]\n",
    "    test_index = [idx for idx in range(last_val_index + 1, last_test_index + 1)]\n",
    "    \n",
    "    return train_index, val_index, test_index\n",
    "\n",
    "def metrics_function2(target,pred):\n",
    "    return mean_squared_error(target,pred),mean_absolute_error(target,pred),r2_score(target,pred)\n",
    "\n",
    "def time_series_test(model,X_all,y_all,folds_num,sorted_grouped_list):\n",
    "    start=time()\n",
    "        \n",
    "    len_sgl = len(sorted_grouped_list)\n",
    "        \n",
    "    MSE_list_train=[]\n",
    "    MSE_list_test=[]\n",
    "    MAE_list_train=[]\n",
    "    MAE_list_test=[]\n",
    "    R2_list_train=[]\n",
    "    R2_list_test=[]\n",
    "    \n",
    "    true_values = []\n",
    "    predict_values =[]\n",
    "    \n",
    "    for i in range(folds_num):\n",
    "        train_index,val_index,test_index = grouped_time_series_split(i,sorted_grouped_list,\n",
    "                                                                     len_sgl,folds_num)\n",
    "\n",
    "        X_train = X_all.iloc[train_index].values\n",
    "        y_train = y_all.iloc[train_index].values\n",
    "\n",
    "        X_val = X_all.iloc[val_index].values\n",
    "        y_val = y_all.iloc[val_index].values\n",
    "        \n",
    "        X_test = X_all.iloc[test_index].values\n",
    "        y_test = y_all.iloc[test_index].values\n",
    "        \n",
    "        model.fit(X_train,y_train)\n",
    "        \n",
    "        y_pred1 = model.predict(X_train)\n",
    "        y_pred2 = model.predict(X_val)\n",
    "\n",
    "        train_MSE,train_MAE,train_R2=metrics_function2(y_train,y_pred1)\n",
    "        test_MSE,test_MAE,test_R2=metrics_function2(y_val,y_pred2)\n",
    "        \n",
    "        MSE_list_train.append(train_MSE)\n",
    "        MSE_list_test.append(test_MSE)\n",
    "        MAE_list_train.append(train_MAE)\n",
    "        MAE_list_test.append(test_MAE)\n",
    "        R2_list_train.append(train_R2)\n",
    "        R2_list_test.append(test_R2)\n",
    "        \n",
    "        true_values = true_values + list(zip(val_index,y_val))\n",
    "        predict_values = predict_values + list(zip(val_index,y_pred2))\n",
    "        \n",
    "    print(\"Train MSE: {}, Test MSE: {}\".format(np.mean(MSE_list_train),\n",
    "                                               np.mean(MSE_list_test)),'\\n'*2) \n",
    "    print(\"Train MAE: {}, Test MAE: {}\".format(np.mean(MAE_list_train),\n",
    "                                               np.mean(MAE_list_test)),'\\n'*2)\n",
    "    print(\"Train R2: {}, Test R2: {}\".format(np.mean(R2_list_train),\n",
    "                                             np.mean(R2_list_test)),'\\n'*2)   \n",
    "        \n",
    "    print(\"Folds Num: {}, Time: {}\".format(folds_num,time()-start),'\\n'*2)\n",
    "    \n",
    "    total_picks = []\n",
    "    correct_idx = []\n",
    "\n",
    "    for ((a,b),(c,d)) in list(zip(true_values,predict_values)):\n",
    "        if (b - 1 > 0) and (d - 1 > 0):\n",
    "            correct_idx.append(c)\n",
    "        elif (d - 1 > 0):\n",
    "            total_picks.append(c)\n",
    "\n",
    "    win_odds_list = []\n",
    "\n",
    "    for idx in correct_idx:\n",
    "        win_odds_list.append(odds_set.iloc[idx])\n",
    "\n",
    "    average_win = np.mean(win_odds_list)\n",
    "\n",
    "    print(\"Total Picks:\",len(total_picks))\n",
    "    print(\"Correct Picks:\",len(correct_idx))\n",
    "    print(\"Average Win Odds:\",average_win)\n",
    "    print(\"Total Return:\",average_win*len(correct_idx)-len(total_picks))\n",
    "    print(\"Average Expected Return:\",(average_win*len(correct_idx)-len(total_picks))/len(total_picks))"
   ]
  },
  {
   "cell_type": "code",
   "execution_count": 131,
   "metadata": {},
   "outputs": [
    {
     "name": "stdout",
     "output_type": "stream",
     "text": [
      "Train MSE: 2.0699520674116898e+36, Test MSE: 1.8035412564884712e+36 \n",
      "\n",
      "\n",
      "Train MAE: 7.175652907679963e+17, Test MAE: 6.110732469027392e+17 \n",
      "\n",
      "\n",
      "Train R2: -7.160610122046511e+34, Test R2: -6.1745003762573e+34 \n",
      "\n",
      "\n",
      "Folds Num: 3, Time: 4.9939281940460205 \n",
      "\n",
      "\n",
      "Total Picks: 35215\n",
      "Correct Picks: 13684\n",
      "Average Win Odds: 12.914421221864952\n",
      "Total Return: 141505.94\n",
      "Average Expected Return: 4.018342751668324\n"
     ]
    }
   ],
   "source": [
    "time_series_test(sdg_clf, transformed_X, y_test, 3, transformed_X_grouped_list)"
   ]
  },
  {
   "cell_type": "code",
   "execution_count": 132,
   "metadata": {
    "scrolled": false
   },
   "outputs": [
    {
     "name": "stdout",
     "output_type": "stream",
     "text": [
      "Train MSE: 9.252031243920346e+38, Test MSE: 5.797617174931707e+38 \n",
      "\n",
      "\n",
      "Train MAE: 9.61215130357353e+18, Test MAE: 8.585417396191111e+18 \n",
      "\n",
      "\n",
      "Train R2: -3.2646167614667027e+37, Test R2: -2.0063665137648065e+37 \n",
      "\n",
      "\n",
      "Folds Num: 5, Time: 6.807813405990601 \n",
      "\n",
      "\n",
      "Total Picks: 53718\n",
      "Correct Picks: 21793\n",
      "Average Win Odds: 12.574405084201349\n",
      "Total Return: 220316.01\n",
      "Average Expected Return: 4.101344242153468\n"
     ]
    }
   ],
   "source": [
    "time_series_test(sdg_clf, transformed_X, y_test, 5, transformed_X_grouped_list)"
   ]
  },
  {
   "cell_type": "code",
   "execution_count": 133,
   "metadata": {},
   "outputs": [
    {
     "name": "stdout",
     "output_type": "stream",
     "text": [
      "Train MSE: 1.6720756805523396e+37, Test MSE: 2.9063536090379933e+37 \n",
      "\n",
      "\n",
      "Train MAE: 1.5417117540452227e+18, Test MAE: 1.4556875275436764e+18 \n",
      "\n",
      "\n",
      "Train R2: -5.5209833648678805e+35, Test R2: -8.69815664759271e+35 \n",
      "\n",
      "\n",
      "Folds Num: 7, Time: 12.556277751922607 \n",
      "\n",
      "\n",
      "Total Picks: 79098\n",
      "Correct Picks: 31957\n",
      "Average Win Odds: 12.715662922051507\n",
      "Total Return: 327256.44\n",
      "Average Expected Return: 4.1373541682469845\n"
     ]
    }
   ],
   "source": [
    "time_series_test(sdg_clf, transformed_X, y_test, 7, transformed_X_grouped_list)"
   ]
  }
 ],
 "metadata": {
  "kernelspec": {
   "display_name": "Python 3",
   "language": "python",
   "name": "python3"
  },
  "language_info": {
   "codemirror_mode": {
    "name": "ipython",
    "version": 3
   },
   "file_extension": ".py",
   "mimetype": "text/x-python",
   "name": "python",
   "nbconvert_exporter": "python",
   "pygments_lexer": "ipython3",
   "version": "3.7.3"
  }
 },
 "nbformat": 4,
 "nbformat_minor": 2
}
